{
 "cells": [
  {
   "cell_type": "markdown",
   "metadata": {},
   "source": [
    "# Gestionar el orden de la investigación por carpetas y archivos "
   ]
  },
  {
   "cell_type": "markdown",
   "metadata": {},
   "source": [
    "Aquí tienes un script en Python que crea la estructura de carpetas y archivos `.md` para guiar el desarrollo de la investigación educativa en la ruta especificada: `C:\\Users\\marco\\Documentos\\investigacion\\regresion_clasificacion`.\n"
   ]
  },
  {
   "cell_type": "code",
   "execution_count": 1,
   "metadata": {},
   "outputs": [
    {
     "name": "stdout",
     "output_type": "stream",
     "text": [
      "Estructura creada en: C:\\Users\\marco\\Documentos\\investigacion\\regresion_clasificacion\n"
     ]
    }
   ],
   "source": [
    "\n",
    "\n",
    "import os\n",
    "import pathlib\n",
    "\n",
    "# Definir la ruta base\n",
    "base_path = pathlib.Path(\"C:/Users/marco/Documentos/investigacion/regresion_clasificacion\")\n",
    "\n",
    "# Estructura de carpetas y archivos\n",
    "estructura = {\n",
    "    \"1_diagnostico\": {\n",
    "        \"prueba_diagnostica.md\": \"# Prueba Diagnóstica: Regresión y Clasificación\\n\\n**Objetivo:** Identificar brechas en comprensión teórica y práctica de ML.\\n\\n## Ejercicios\\n1. Ajuste una regresión lineal a `datos_ventas.csv`.\\n2. Clasifique clientes usando KNN.\",\n",
    "        \"encuesta_inicial.md\": \"# Encuesta: Experiencia previa con Aula Invertida y Herramientas\\n\\n**Instrucciones:** Marque con ✔️ la opción que mejor represente su experiencia.\\n\\n## Sección 1: Aula Invertida\\n1. ¿Ha participado en cursos con enfoque de Aula Invertida?\\n   - [ ] Nunca\\n   - [ ] 1-2 veces\\n   - [ ] 3 o más veces\",\n",
    "        \"revision_documental.md\": \"# Revisión del Plan de Estudios\\n\\n**Objetivo:** Alinear el curso con las necesidades formativas del programa G-Líderes.\\n\\n## Checklist de Análisis\\n1. **Objetivos del programa:**\\n   - [ ] Claramente definidos\\n   - [ ] Vinculados a ML/DL\\n   - [ ] Mencionan herramientas computacionales\",\n",
    "    },\n",
    "    \"2_planificacion\": {\n",
    "        \"plan_accion.md\": \"# Plan de Acción\\n\\n**Ciclo 1:** Fundamentos de ML (Regresión, Clasificación).\\n**Ciclo 2:** Deep Learning (Redes Neuronales).\\n**Ciclo 3:** Aplicaciones en el sector privado.\",\n",
    "    },\n",
    "    \"3_implementacion\": {\n",
    "        \"actividades.md\": \"# Actividades de Aprendizaje\\n\\n- **Aula Invertida:** Videos sobre regresión lineal.\\n- **STEAMS:** Análisis de datos de ventas.\\n- **ABPP:** Proyecto inicial: Predicción de ventas.\",\n",
    "        \"datos\": {\n",
    "            \"datos_ventas.csv\": \"Fecha,Ventas\\n2023-01-01,100\\n2023-02-01,150\\n2023-03-01,200\",\n",
    "        },\n",
    "    },\n",
    "    \"4_evaluacion\": {\n",
    "        \"proyectos.md\": \"# Proyectos\\n\\n1. Predicción de ventas usando regresión lineal.\\n2. Clasificación de clientes usando KNN.\\n3. Optimización de inventarios usando ML.\",\n",
    "        \"quiz.md\": \"# Quiz\\n\\n1. ¿Qué es una regresión lineal?\\n2. ¿Cuál es la diferencia entre ML y DL?\\n3. ¿Para qué sirve la validación cruzada?\",\n",
    "        \"parcial.md\": \"# Parcial\\n\\n1. Ajuste un modelo de regresión a `datos_ventas.csv`.\\n2. Interprete los coeficientes del modelo.\\n3. Evalúe el modelo usando RMSE.\",\n",
    "    },\n",
    "    \"5_retroalimentacion\": {\n",
    "        \"retroalimentacion.md\": \"# Retroalimentación\\n\\n**Técnica:** Galería de Modelos donde cada equipo comenta el código de otro usando `ipywidgets`.\",\n",
    "    },\n",
    "    \"6_referencias\": {\n",
    "        \"referencias.md\": \"# Referencias\\n\\n1. Duval, R. (1999). *Registros de representación semiótica y funcionamiento cognitivo*.\\n2. Wing, J. M. (2006). Computational Thinking. *Communications of the ACM, 49*(3), 33-35.\",\n",
    "    },\n",
    "}\n",
    "\n",
    "# Función para crear carpetas y archivos\n",
    "def crear_estructura(base, estructura):\n",
    "    for nombre, contenido in estructura.items():\n",
    "        ruta = base / nombre\n",
    "        if isinstance(contenido, dict):  # Es una carpeta\n",
    "            ruta.mkdir(parents=True, exist_ok=True)\n",
    "            crear_estructura(ruta, contenido)\n",
    "        else:  # Es un archivo\n",
    "            with open(ruta, \"w\", encoding=\"utf-8\") as archivo:\n",
    "                archivo.write(contenido)\n",
    "\n",
    "# Crear la estructura\n",
    "crear_estructura(base_path, estructura)\n",
    "\n",
    "print(f\"Estructura creada en: {base_path}\")\n",
    "\n"
   ]
  },
  {
   "cell_type": "markdown",
   "metadata": {},
   "source": [
    "\n",
    "---\n",
    "\n",
    "### **Instrucciones de Uso**\n",
    "1. Copia el script en un archivo `.py` (ej: `crear_estructura.py`).  \n",
    "2. Ejecuta el script en tu entorno Python.  \n",
    "3. Verifica que las carpetas y archivos se hayan creado en:  \n",
    "   `C:\\Users\\marco\\Documentos\\investigacion\\regresion_clasificacion`.  \n",
    "\n",
    "---\n",
    "\n",
    "### **Estructura Creada**\n",
    "```\n",
    "C:/Users/marco/Documentos/investigacion/regresion_clasificacion/\n",
    "├── 1_diagnostico/\n",
    "│   ├── prueba_diagnostica.md\n",
    "│   ├── encuesta_inicial.md\n",
    "│   └── revision_documental.md\n",
    "├── 2_planificacion/\n",
    "│   └── plan_accion.md\n",
    "├── 3_implementacion/\n",
    "│   ├── actividades.md\n",
    "│   └── datos/\n",
    "│       └── datos_ventas.csv\n",
    "├── 4_evaluacion/\n",
    "│   ├── proyectos.md\n",
    "│   ├── quiz.md\n",
    "│   └── parcial.md\n",
    "├── 5_retroalimentacion/\n",
    "│   └── retroalimentacion.md\n",
    "└── 6_referencias/\n",
    "    └── referencias.md\n",
    "```\n",
    "\n",
    "---\n",
    "\n",
    "### **Notas Adicionales**\n",
    "- **Personalización:** Modifica los contenidos de los archivos `.md` según tus necesidades.  \n",
    "- **Datos:** El archivo `datos_ventas.csv` es un ejemplo; puedes reemplazarlo con datos reales.  \n",
    "- **Extensión:** Si necesitas más carpetas o archivos, añádelos al diccionario `estructura`.  \n",
    "\n",
    "¡Este script te ahorrará tiempo y te ayudará a organizar tu investigación educativa de manera eficiente! 🚀📂"
   ]
  }
 ],
 "metadata": {
  "kernelspec": {
   "display_name": ".venv",
   "language": "python",
   "name": "python3"
  },
  "language_info": {
   "codemirror_mode": {
    "name": "ipython",
    "version": 3
   },
   "file_extension": ".py",
   "mimetype": "text/x-python",
   "name": "python",
   "nbconvert_exporter": "python",
   "pygments_lexer": "ipython3",
   "version": "3.13.2"
  }
 },
 "nbformat": 4,
 "nbformat_minor": 2
}
