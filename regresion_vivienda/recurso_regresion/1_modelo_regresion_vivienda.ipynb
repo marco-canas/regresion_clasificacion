{
 "cells": [
  {
   "cell_type": "markdown",
   "id": "dc06dec7",
   "metadata": {
    "slideshow": {
     "slide_type": "slide"
    }
   },
   "source": [
    "<table align=\"left\">\n",
    "  <td>\n",
    "    <a href=\"https://colab.research.google.com/github/marco-canas/didactica_ciencia_datos/blob/main/1_curso_machine_learning/6_regresion/regresion_vivienda/1_regresion_vivienda.ipynb\" target=\"_parent\"><img src=\"https://colab.research.google.com/assets/colab-badge.svg\" alt=\"Open In Colab\"/></a>\n",
    "  </td>\n",
    "  <td>\n",
    "    <a target=\"_blank\" href=\"https://kaggle.com/kernels/welcome?src=https://github.com/marco-canas/didactica_ciencia_datos/blob/main/1_curso_machine_learning/6_regresion/regresion_vivienda/1_regresion_vivienda.ipynb\"><img src=\"https://kaggle.com/static/images/open-in-kaggle.svg\" /></a>\n",
    "  </td>\n",
    "</table>"
   ]
  },
  {
   "cell_type": "markdown",
   "id": "e0c5b198",
   "metadata": {
    "slideshow": {
     "slide_type": "slide"
    }
   },
   "source": [
    "### [Video de apoyo a la lectura interactiva y experimental de este cuaderno]()"
   ]
  },
  {
   "cell_type": "markdown",
   "id": "41e82203",
   "metadata": {
    "slideshow": {
     "slide_type": "slide"
    }
   },
   "source": [
    "### [Vínculo al programa del curso Introducción al machine learning ](https://github.com/marco-canas/didactica_ciencia_datos/blob/main/1_curso_ml/0_plan_del_curso/plan_curso_ml.md)\n",
    "\n"
   ]
  },
  {
   "cell_type": "markdown",
   "id": "96775931",
   "metadata": {
    "slideshow": {
     "slide_type": "slide"
    }
   },
   "source": [
    "## Título de la clase: Regresión con el dataset de vivienda de Geron   \n",
    "\n",
    "[]()"
   ]
  },
  {
   "cell_type": "markdown",
   "id": "8853d874",
   "metadata": {},
   "source": [
    "## El componente histórico y epistemológico"
   ]
  },
  {
   "cell_type": "markdown",
   "id": "2fded09f",
   "metadata": {},
   "source": [
    "Para desarrollar una clase sobre la **construcción de un modelo de regresión de principio a fin** utilizando el dataset \"housing\" del libro *Hands-On Machine Learning with Scikit-Learn, Keras, and TensorFlow* de Aurélien Géron, podemos incluir elementos **históricos y epistemológicos** relevantes que contextualicen el proceso. "
   ]
  },
  {
   "cell_type": "markdown",
   "id": "9c2f9955",
   "metadata": {},
   "source": [
    "\n",
    "### **Elementos históricos**\n",
    "1. **Origen del concepto de regresión**:  \n"
   ]
  },
  {
   "cell_type": "markdown",
   "id": "3ccdeb05",
   "metadata": {},
   "source": [
    "   - Introducido por Francis Galton en el siglo XIX en su estudio de la herencia biológica. \n",
    "   - Observó que las alturas de los hijos tendían a \"regresar\" hacia la media de las alturas de la población.\n"
   ]
  },
  {
   "cell_type": "markdown",
   "id": "2f857659",
   "metadata": {},
   "source": [
    "   - Relación con el concepto de correlación, también desarrollado por Galton y matemáticamente formalizado por Karl Pearson.\n"
   ]
  },
  {
   "cell_type": "markdown",
   "id": "80c223da",
   "metadata": {},
   "source": [
    "\n",
    "2. **Evolución de la estadística inferencial**:  \n"
   ]
  },
  {
   "cell_type": "markdown",
   "id": "02186ad8",
   "metadata": {},
   "source": [
    "   - El método de los mínimos cuadrados, que es la base de la regresión lineal, fue desarrollado por Adrien-Marie Legendre (1805) y Carl Friedrich Gauss (1809).\n"
   ]
  },
  {
   "cell_type": "markdown",
   "id": "4760efc1",
   "metadata": {},
   "source": [
    "   - Los desarrollos en teoría estadística durante el siglo XX, incluyendo el trabajo de Ronald Fisher, cimentaron la base para los modelos estadísticos modernos.\n"
   ]
  },
  {
   "cell_type": "markdown",
   "id": "42541823",
   "metadata": {},
   "source": [
    "\n",
    "3. **Avances en computación y aprendizaje automático**: "
   ]
  },
  {
   "cell_type": "markdown",
   "id": "ddda112b",
   "metadata": {},
   "source": [
    " \n",
    "   - El uso de computadoras permitió el cálculo de modelos más complejos en grandes datasets. En las décadas de 1950 y 1960, la aparición de lenguajes como Fortran y C facilitó la implementación de algoritmos de regresión.\n"
   ]
  },
  {
   "cell_type": "markdown",
   "id": "d3bbb094",
   "metadata": {},
   "source": [
    "   - En la década de 2010, el auge del *Machine Learning* popularizó herramientas como Scikit-Learn, simplificando la implementación de modelos como los de regresión.\n"
   ]
  },
  {
   "cell_type": "markdown",
   "id": "aedd87d2",
   "metadata": {},
   "source": [
    "\n",
    "4. **Publicación del dataset \"housing\"**:  \n"
   ]
  },
  {
   "cell_type": "markdown",
   "id": "9d1a41dd",
   "metadata": {},
   "source": [
    "   - El dataset \"housing\" proviene de los datos sobre precios de vivienda en California y fue recopilado como parte del censo estadounidense de 1990. "
   ]
  },
  {
   "cell_type": "markdown",
   "id": "13facee3",
   "metadata": {},
   "source": [
    "Su inclusión en *Hands-On Machine Learning* lo convirtió en un ejemplo clásico para aprendizaje supervisado.\n",
    "\n",
    "---\n"
   ]
  },
  {
   "cell_type": "markdown",
   "id": "4d61a160",
   "metadata": {},
   "source": [
    "\n",
    "### **Elementos epistemológicos**\n"
   ]
  },
  {
   "cell_type": "markdown",
   "id": "9543d011",
   "metadata": {},
   "source": [
    "1. **La modelización como una forma de representar la realidad**:  \n",
    "   - Los modelos de regresión buscan capturar relaciones entre variables independientes (predictoras) y una variable dependiente (respuesta) para hacer predicciones o entender patrones.  \n",
    "   - Reflexión: ¿Qué tan bien un modelo puede capturar la complejidad del mundo real? ¿Qué se pierde en la simplificación?\n"
   ]
  },
  {
   "cell_type": "markdown",
   "id": "c7eb375a",
   "metadata": {},
   "source": [
    "\n",
    "2. **La importancia de los datos en el conocimiento científico**:  \n",
    "   - La calidad del modelo depende de la calidad y relevancia de los datos. Esto resalta el papel del *preprocesamiento de datos* y de la *limpieza* como pasos fundamentales para evitar sesgos y errores.\n"
   ]
  },
  {
   "cell_type": "markdown",
   "id": "3a8e0610",
   "metadata": {},
   "source": [
    "\n",
    "3. **La interpretación de los resultados**:  \n",
    "   - En ciencia, un modelo no solo debe predecir bien; debe ser interpretable. Esto lleva a preguntas como: ¿Qué significan los coeficientes de la regresión? ¿Qué limitaciones tienen las predicciones?  \n",
    "   - Reflexión: ¿Qué sucede si los datos usados para construir el modelo no representan adecuadamente la población?\n"
   ]
  },
  {
   "cell_type": "markdown",
   "id": "5b8a1c34",
   "metadata": {},
   "source": [
    "\n",
    "4. **El papel del error y la validación**:  \n",
    "   - Los conceptos de error (RMSE, MAE) son fundamentales para evaluar la calidad de un modelo. Este enfoque cuantitativo refuerza la idea de que todo modelo es una aproximación sujeta a incertidumbre.\n"
   ]
  },
  {
   "cell_type": "markdown",
   "id": "b7929c4c",
   "metadata": {},
   "source": [
    "\n",
    "5. **Ética en la construcción de modelos**:  \n",
    "   - Al trabajar con datos sensibles como precios de vivienda, surgen preguntas éticas: ¿Cómo evitar perpetuar desigualdades sociales o económicas a través de modelos mal diseñados?\n",
    "\n",
    "---\n"
   ]
  },
  {
   "cell_type": "markdown",
   "id": "3fcb1560",
   "metadata": {},
   "source": [
    "\n",
    "### **Propuesta de estructura para la clase**\n",
    "1. **Introducción histórica**:\n",
    "   - Breve historia de la regresión y su importancia en estadística y aprendizaje automático.\n",
    "   - Origen y contexto del dataset \"housing\".\n"
   ]
  },
  {
   "cell_type": "markdown",
   "id": "015cc2fd",
   "metadata": {},
   "source": [
    "\n",
    "2. **Fundamentos epistemológicos**:\n",
    "   - Discusión sobre la naturaleza de los modelos matemáticos: ¿son representaciones exactas o aproximaciones útiles?\n",
    "   - Debate sobre la ética y las limitaciones de los modelos predictivos.\n"
   ]
  },
  {
   "cell_type": "markdown",
   "id": "21b6a3d6",
   "metadata": {},
   "source": [
    "\n",
    "3. **Implementación práctica con Python**:\n",
    "   - Carga y exploración del dataset (exploración inicial, visualización).\n",
    "   - Preprocesamiento de datos (manejo de valores nulos, escalado, codificación).\n",
    "   - Entrenamiento de un modelo de regresión lineal.\n",
    "   - Evaluación del modelo con métricas como RMSE y análisis de errores.\n"
   ]
  },
  {
   "cell_type": "markdown",
   "id": "63ecca25",
   "metadata": {},
   "source": [
    "\n",
    "4. **Cierre reflexivo**:\n",
    "   - Interpretación de los resultados.\n",
    "   - Análisis crítico: ¿cómo mejorar el modelo? ¿Qué nos dicen los resultados sobre el dataset?\n",
    "\n",
    "---\n"
   ]
  },
  {
   "cell_type": "markdown",
   "id": "4f0ad518",
   "metadata": {},
   "source": [
    "\n",
    "Con esta combinación de historia, epistemología y práctica, los estudiantes podrán comprender tanto el contexto teórico como la implementación técnica del modelo de regresión. "
   ]
  },
  {
   "cell_type": "markdown",
   "id": "95dd5d2c",
   "metadata": {},
   "source": [
    "[Video de apoyo a la lectura de algunos elementos históricos y epistemológicos asociados a la regresión con el dataset housing de Geron](https://www.youtube.com/watch?v=g-Ac7nyQo08)"
   ]
  },
  {
   "cell_type": "code",
   "execution_count": 27,
   "id": "bc0addfe",
   "metadata": {},
   "outputs": [
    {
     "data": {
      "text/plain": [
       "'C:\\\\Users\\\\marco\\\\Descargas\\\\Regresión Multilineal.pdf'"
      ]
     },
     "execution_count": 27,
     "metadata": {},
     "output_type": "execute_result"
    }
   ],
   "source": [
    "# mapa conceptual para cada clase  \n",
    "from graphviz import Digraph\n",
    "\n",
    "# Crear un nuevo grafo dirigido\n",
    "dot = Digraph()\n",
    "\n",
    "# Concepto principal\n",
    "main_concept = 'Regresión Multilineal'\n",
    "dot.node('A', main_concept)\n",
    "\n",
    "# Etapas del proceso\n",
    "dot.node('B', '1. Exploración de datos')\n",
    "dot.node('C', '2. Preprocesamiento')\n",
    "dot.node('D', '3. División de datos')\n",
    "dot.node('E', '4. Selección de características')\n",
    "dot.node('F', '5. Entrenamiento del modelo')\n",
    "dot.node('G', '6. Evaluación del modelo')\n",
    "dot.node('H', '7. Ajustes y mejora')\n",
    "dot.node('I', '8. Predicción con datos nuevos')\n",
    "\n",
    "# Relaciones entre las etapas\n",
    "dot.edges([\n",
    "    ('A', 'B'),\n",
    "    ('B', 'C'),\n",
    "    ('C', 'D'),\n",
    "    ('D', 'E'),\n",
    "    ('E', 'F'),\n",
    "    ('F', 'G'),\n",
    "    ('G', 'H'),\n",
    "    ('H', 'I')\n",
    "])\n",
    "\n",
    "# Guardar el grafo como un archivo de imagen\n",
    "dot.render(filename=main_concept, format='png', cleanup=True, \\\n",
    "           directory='C:/Users/marco/Descargas')\n",
    "\n",
    "# Mostrar el grafo\n",
    "dot.view()\n"
   ]
  },
  {
   "cell_type": "markdown",
   "id": "10e55ccf",
   "metadata": {},
   "source": [
    "# Estructura general para todas las clases\n",
    "\n",
    "Dame, por favor, un diseño de clase, con el enfoque: \"Aula Invertida, STEAMS y De Aprendizaje Basado en Problemas y Proyectos(ABPP)\" sobre: \" \", siguiendo la estructura:  \n",
    "\n",
    "1. Título de la clase \n",
    "2. Objetivos de aprendizaje que incluyan los indicadores del logro de estos objetivos.\n",
    "3. Un mapa conceptual que resuma la clase elaborado en Graphviz de python con nodos y edges de diferentes formas, colores y rellenos y renderizado en la siguiente ubicación: `\"C:/Users/marco/Descargas\"`. No olvides el parámetro `view = True` ppara el método `render()` de graphviz. \n",
    "4. Dame elementos históricos y epistemológicos asociados a esta clase, pero contados como un cuento al estilo de un cuentero antioqueño en Colombia. Incluye imágenes de los protagonistas históricos de esta clase. \n",
    "5. Contenido de la clase. Que el contenido parta de una situación real para llegar a una constitución del modelo matemático que represente tal situación real y permita hacer descripciones, explicaciones y predicciones del fenómeno representado con el modelo. \n",
    "6. Actividades de aprendizaje\n",
    "7. Incluye una canción o un poema que ayude a interiorizar y fijar los conceptos asociados a esta clase. \n",
    "8. Tarea o actividades de ejercitación y fijación\n",
    "9. Evaluación incluyendo diez proyectos, un ejemplo de quiz (de tres preguntas) y un ejemplo de parcial (de cinco puntos)\n",
    "10. Diseño de actividad de retroalimentación. \n",
    "11. Dame un vocabulario y frases del idioma inglés asociadas a esta clase.   \n",
    "\n",
    "Pero  que este diseño sea para que el estudiante pueda aprender experimentando en cuadernos Jupyter con funciones de usuario y animaciones y visualizaciones en python. En particular utiliza para el diseño de clase a Numpy, Pandas, SymPy, Matplotlib.pyplot, Seaborn, Plotly, ipywidgets, matplotlib.animation y Jupyter Notebook.  Cada vez que utilices `matplotlib.animacion` no olvides incluir el uso de `IPython. display` para la rederización de estas animaciones a través de Jupyter Notebook. No olvides darme los diseños de clase con las ecuaciones matemáticas delimitadas con signo de dolar $ para que VS Code si me renderize estas expresiones del lenguaje latex. Cuando vallas a utilizar ipywidgets ten en cuenta la siguiente importación inicial para garantizar que la visualización interactiva si se renderize en VS Code: import numpy as np\n",
    "import matplotlib.pyplot as plt\n",
    "import ipywidgets as widgets\n",
    "from IPython.display import display, clear_output\n",
    "from matplotlib.patches import Rectangle\n",
    "\n",
    "# Configuración inicial para visualización estática\n",
    "%matplotlib inline "
   ]
  },
  {
   "cell_type": "markdown",
   "id": "239427f7",
   "metadata": {},
   "source": [
    "\n",
    "\n",
    "# Constitución de un modelo de regresión para la predicción de precios de vivienda.\n"
   ]
  },
  {
   "cell_type": "markdown",
   "id": "e7088d2b",
   "metadata": {},
   "source": [
    "\n",
    "### 2. Objetivo de aprendizaje\n",
    "El estudiante será capaz de diseñar un modelo de regresión Multilineal o de arbol de decisión, Random Forest para predecir precios de vivienda, aplicando visualizaciones y animaciones en Python, y utilizando funciones de usuario en cuadernos Jupyter.\n"
   ]
  },
  {
   "cell_type": "code",
   "execution_count": 1,
   "id": "42e1382f",
   "metadata": {},
   "outputs": [
    {
     "data": {
      "text/plain": [
       "'C:\\\\Users\\\\marco\\\\Descargas\\\\regresion_multilineal.png'"
      ]
     },
     "execution_count": 1,
     "metadata": {},
     "output_type": "execute_result"
    }
   ],
   "source": [
    "from graphviz import Digraph\n",
    "\n",
    "# Crear el objeto Digraph\n",
    "dot = Digraph(\"RegresionMultilineal\", format=\"png\")\n",
    "\n",
    "# Configuración general\n",
    "dot.attr(bgcolor=\"#f7f7f7\", rankdir=\"LR\")\n",
    "\n",
    "# Etapa 1: Análisis Exploratorio de Datos (EDA)\n",
    "dot.node(\"EDA\", \"Análisis Exploratorio\\nde Datos (EDA)\", shape=\"ellipse\", style=\"filled\", fillcolor=\"lightblue\", color=\"blue\")\n",
    "dot.node(\"Naturaleza\", \"Determinación de la naturaleza de las variables\", shape=\"box\", style=\"filled\", fillcolor=\"lightyellow\", color=\"goldenrod\")\n",
    "\n",
    "dot.node(\"Correlacion\", \"Matriz de Correlación\", shape=\"parallelogram\", style=\"filled\", fillcolor=\"lightpink\", color=\"red\")\n",
    "dot.node(\"Outliers\", \"Detección de Outliers\", shape=\"diamond\", style=\"filled\", fillcolor=\"lightgreen\", color=\"darkgreen\")\n",
    "\n",
    "\n",
    "# Etapa 2: Preprocesamiento de Datos\n",
    "dot.node(\"Preprocesamiento\", \"Preprocesamiento\\nde Datos\", shape=\"ellipse\", style=\"filled\", fillcolor=\"lightgray\", color=\"black\")\n",
    "dot.node(\"Codificacion\", \"Codificación de Variables\", shape=\"parallelogram\", style=\"filled\", fillcolor=\"lightcyan\", color=\"teal\")\n",
    "\n",
    "dot.node(\"Seleccion\", \"Selección de atributos\", shape=\"parallelogram\", style=\"filled\", fillcolor=\"lightcyan\", color=\"teal\")\n",
    "\n",
    "dot.node(\"Estandarizacion\", \"Escalado \\n por Estandarización\\ny \", shape=\"box\", style=\"filled\", fillcolor=\"lightcoral\", color=\"maroon\")\n",
    "\n",
    "\n",
    "# Etapa 3: Selección de Modelos\n",
    "dot.node(\"SeleccionModelos\", \"Selección de Modelos de ML\", shape=\"ellipse\", style=\"filled\", fillcolor=\"lightblue\", color=\"navy\")\n",
    "dot.node(\"RegresionLineal\", \"Regresión Lineal\", shape=\"box\", style=\"filled\", fillcolor=\"lightgreen\", color=\"green\")\n",
    "dot.node(\"RidgeLasso\", \"Ridge & Lasso\", shape=\"diamond\", style=\"filled\", fillcolor=\"lightpink\", color=\"crimson\")\n",
    "dot.node(\"RandomForest\", \"Random Forest\", shape=\"parallelogram\", style=\"filled\", fillcolor=\"lightyellow\", color=\"goldenrod\")\n",
    "\n",
    "# Etapa 4: Ajuste del Modelo Seleccionado\n",
    "dot.node(\"AjusteModelo\", \"Ajuste del Modelo Seleccionado\", shape=\"ellipse\", style=\"filled\", fillcolor=\"lightgray\", color=\"black\")\n",
    "dot.node(\"Evaluacion\", \"Evaluación y Métricas\", shape=\"box\", style=\"filled\", fillcolor=\"lightblue\", color=\"darkblue\")\n",
    "dot.node(\"Optimizacion\", \"Optimización de Hiperparámetros\", shape=\"diamond\", style=\"filled\", fillcolor=\"lightcoral\", color=\"red\")\n",
    "\n",
    "# Conexiones entre nodos\n",
    "dot.edge(\"EDA\", \"Naturaleza\")\n",
    "dot.edge(\"EDA\", \"Distribucion\")\n",
    "dot.edge(\"EDA\", \"Correlacion\")\n",
    "dot.edge(\"EDA\", \"Outliers\")\n",
    "dot.edge(\"Distribucion\", \"Preprocesamiento\")\n",
    "dot.edge(\"Correlacion\", \"Preprocesamiento\")\n",
    "dot.edge(\"Outliers\", \"Preprocesamiento\")\n",
    "\n",
    "dot.edge(\"Preprocesamiento\", \"Normalizacion\")\n",
    "dot.edge(\"Preprocesamiento\", \"Codificacion\")\n",
    "dot.edge(\"Preprocesamiento\", \"Imputacion\")\n",
    "dot.edge(\"Normalizacion\", \"SeleccionModelos\")\n",
    "dot.edge(\"Codificacion\", \"SeleccionModelos\")\n",
    "dot.edge(\"Imputacion\", \"SeleccionModelos\")\n",
    "\n",
    "dot.edge(\"SeleccionModelos\", \"RegresionLineal\")\n",
    "dot.edge(\"SeleccionModelos\", \"RidgeLasso\")\n",
    "dot.edge(\"SeleccionModelos\", \"RandomForest\")\n",
    "dot.edge(\"RegresionLineal\", \"AjusteModelo\")\n",
    "dot.edge(\"RidgeLasso\", \"AjusteModelo\")\n",
    "dot.edge(\"RandomForest\", \"AjusteModelo\")\n",
    "\n",
    "dot.edge(\"AjusteModelo\", \"Evaluacion\")\n",
    "dot.edge(\"AjusteModelo\", \"Optimizacion\")\n",
    "\n",
    "# Guardar y mostrar\n",
    "output_path = \"C:/Users/marco/Descargas/regresion_multilineal\"\n",
    "dot.render(output_path, view=True)\n"
   ]
  },
  {
   "cell_type": "markdown",
   "id": "5527fcef",
   "metadata": {},
   "source": [
    "# Secuencia de modelación  \n",
    "\n",
    "1. EDA\n",
    "2. Preprocesamiento\n",
    "3. Selección de modelos\n",
    "4. Afinamiento"
   ]
  },
  {
   "cell_type": "markdown",
   "id": "8b47cd70",
   "metadata": {},
   "source": [
    "# EDA: Análisis exploratorio de datos \n",
    "\n",
    "1. Se empieza por determinar la naturaleza de las variables del dataset. "
   ]
  },
  {
   "cell_type": "code",
   "execution_count": 44,
   "id": "a6a1d3a2",
   "metadata": {},
   "outputs": [],
   "source": [
    "def save_fig(nombre_archivo_imagen):\n",
    "    import os \n",
    "    import matplotlib.pyplot as plt\n",
    "    ubicacion_para_imagenes = r\"C:/Users/marco/Descargas\"\n",
    "    imagen_path = os.path.join(ubicacion_para_imagenes, nombre_archivo_imagen)\n",
    "    plt.savefig(imagen_path, bbox_inches='tight')"
   ]
  },
  {
   "cell_type": "code",
   "execution_count": 47,
   "id": "362ab1f4",
   "metadata": {},
   "outputs": [
    {
     "data": {
      "text/plain": [
       "Index(['longitude', 'latitude', 'housing_median_age', 'total_rooms',\n",
       "       'total_bedrooms', 'population', 'households', 'median_income',\n",
       "       'median_house_value', 'ocean_proximity'],\n",
       "      dtype='object')"
      ]
     },
     "execution_count": 47,
     "metadata": {},
     "output_type": "execute_result"
    }
   ],
   "source": [
    "ubicacion = r\"https://raw.githubusercontent.com/ageron/handson-ml2/refs/heads/master/datasets/housing/housing.csv\"\n",
    "dataset_geron = pd.read_csv(ubicacion)\n",
    "dataset_geron.keys() "
   ]
  },
  {
   "cell_type": "code",
   "execution_count": 50,
   "id": "3e898afa",
   "metadata": {},
   "outputs": [],
   "source": [
    "# la función load_dataset como función sin argumentos de entrada \n",
    "\n",
    "def load_dataset():\n",
    "    ubicacion = r\"https://raw.githubusercontent.com/ageron/handson-ml2/refs/heads/master/datasets/housing/housing.csv\"\n",
    "    dataset_geron = pd.read_csv(ubicacion)\n",
    "    lista_atributos_espanol = ['longitud', 'latitud', 'antiguedad', 'habitaciones', \\\n",
    "        'dormitorios', 'poblacion', 'hogares', 'ingresos', 'precio', 'proximidad']\n",
    "    return dataset_geron.rename(columns=dict(zip(dataset_geron.keys(), lista_atributos_espanol)))\n",
    "    \n"
   ]
  },
  {
   "cell_type": "code",
   "execution_count": 51,
   "id": "a0dbdf92",
   "metadata": {},
   "outputs": [
    {
     "name": "stdout",
     "output_type": "stream",
     "text": [
      "CPU times: total: 93.8 ms\n",
      "Wall time: 1.88 s\n"
     ]
    },
    {
     "data": {
      "application/vnd.microsoft.datawrangler.viewer.v0+json": {
       "columns": [
        {
         "name": "index",
         "rawType": "int64",
         "type": "integer"
        },
        {
         "name": "longitud",
         "rawType": "float64",
         "type": "float"
        },
        {
         "name": "latitud",
         "rawType": "float64",
         "type": "float"
        },
        {
         "name": "antiguedad",
         "rawType": "float64",
         "type": "float"
        },
        {
         "name": "habitaciones",
         "rawType": "float64",
         "type": "float"
        },
        {
         "name": "dormitorios",
         "rawType": "float64",
         "type": "float"
        },
        {
         "name": "poblacion",
         "rawType": "float64",
         "type": "float"
        },
        {
         "name": "hogares",
         "rawType": "float64",
         "type": "float"
        },
        {
         "name": "ingresos",
         "rawType": "float64",
         "type": "float"
        },
        {
         "name": "precio",
         "rawType": "float64",
         "type": "float"
        },
        {
         "name": "proximidad",
         "rawType": "object",
         "type": "string"
        }
       ],
       "conversionMethod": "pd.DataFrame",
       "ref": "4379b904-37b7-4c12-b170-b1ea2c8404e2",
       "rows": [
        [
         "0",
         "-122.23",
         "37.88",
         "41.0",
         "880.0",
         "129.0",
         "322.0",
         "126.0",
         "8.3252",
         "452600.0",
         "NEAR BAY"
        ],
        [
         "1",
         "-122.22",
         "37.86",
         "21.0",
         "7099.0",
         "1106.0",
         "2401.0",
         "1138.0",
         "8.3014",
         "358500.0",
         "NEAR BAY"
        ],
        [
         "2",
         "-122.24",
         "37.85",
         "52.0",
         "1467.0",
         "190.0",
         "496.0",
         "177.0",
         "7.2574",
         "352100.0",
         "NEAR BAY"
        ],
        [
         "3",
         "-122.25",
         "37.85",
         "52.0",
         "1274.0",
         "235.0",
         "558.0",
         "219.0",
         "5.6431",
         "341300.0",
         "NEAR BAY"
        ],
        [
         "4",
         "-122.25",
         "37.85",
         "52.0",
         "1627.0",
         "280.0",
         "565.0",
         "259.0",
         "3.8462",
         "342200.0",
         "NEAR BAY"
        ]
       ],
       "shape": {
        "columns": 10,
        "rows": 5
       }
      },
      "text/html": [
       "<div>\n",
       "<style scoped>\n",
       "    .dataframe tbody tr th:only-of-type {\n",
       "        vertical-align: middle;\n",
       "    }\n",
       "\n",
       "    .dataframe tbody tr th {\n",
       "        vertical-align: top;\n",
       "    }\n",
       "\n",
       "    .dataframe thead th {\n",
       "        text-align: right;\n",
       "    }\n",
       "</style>\n",
       "<table border=\"1\" class=\"dataframe\">\n",
       "  <thead>\n",
       "    <tr style=\"text-align: right;\">\n",
       "      <th></th>\n",
       "      <th>longitud</th>\n",
       "      <th>latitud</th>\n",
       "      <th>antiguedad</th>\n",
       "      <th>habitaciones</th>\n",
       "      <th>dormitorios</th>\n",
       "      <th>poblacion</th>\n",
       "      <th>hogares</th>\n",
       "      <th>ingresos</th>\n",
       "      <th>precio</th>\n",
       "      <th>proximidad</th>\n",
       "    </tr>\n",
       "  </thead>\n",
       "  <tbody>\n",
       "    <tr>\n",
       "      <th>0</th>\n",
       "      <td>-122.23</td>\n",
       "      <td>37.88</td>\n",
       "      <td>41.0</td>\n",
       "      <td>880.0</td>\n",
       "      <td>129.0</td>\n",
       "      <td>322.0</td>\n",
       "      <td>126.0</td>\n",
       "      <td>8.3252</td>\n",
       "      <td>452600.0</td>\n",
       "      <td>NEAR BAY</td>\n",
       "    </tr>\n",
       "    <tr>\n",
       "      <th>1</th>\n",
       "      <td>-122.22</td>\n",
       "      <td>37.86</td>\n",
       "      <td>21.0</td>\n",
       "      <td>7099.0</td>\n",
       "      <td>1106.0</td>\n",
       "      <td>2401.0</td>\n",
       "      <td>1138.0</td>\n",
       "      <td>8.3014</td>\n",
       "      <td>358500.0</td>\n",
       "      <td>NEAR BAY</td>\n",
       "    </tr>\n",
       "    <tr>\n",
       "      <th>2</th>\n",
       "      <td>-122.24</td>\n",
       "      <td>37.85</td>\n",
       "      <td>52.0</td>\n",
       "      <td>1467.0</td>\n",
       "      <td>190.0</td>\n",
       "      <td>496.0</td>\n",
       "      <td>177.0</td>\n",
       "      <td>7.2574</td>\n",
       "      <td>352100.0</td>\n",
       "      <td>NEAR BAY</td>\n",
       "    </tr>\n",
       "    <tr>\n",
       "      <th>3</th>\n",
       "      <td>-122.25</td>\n",
       "      <td>37.85</td>\n",
       "      <td>52.0</td>\n",
       "      <td>1274.0</td>\n",
       "      <td>235.0</td>\n",
       "      <td>558.0</td>\n",
       "      <td>219.0</td>\n",
       "      <td>5.6431</td>\n",
       "      <td>341300.0</td>\n",
       "      <td>NEAR BAY</td>\n",
       "    </tr>\n",
       "    <tr>\n",
       "      <th>4</th>\n",
       "      <td>-122.25</td>\n",
       "      <td>37.85</td>\n",
       "      <td>52.0</td>\n",
       "      <td>1627.0</td>\n",
       "      <td>280.0</td>\n",
       "      <td>565.0</td>\n",
       "      <td>259.0</td>\n",
       "      <td>3.8462</td>\n",
       "      <td>342200.0</td>\n",
       "      <td>NEAR BAY</td>\n",
       "    </tr>\n",
       "  </tbody>\n",
       "</table>\n",
       "</div>"
      ],
      "text/plain": [
       "   longitud  latitud  antiguedad  habitaciones  dormitorios  poblacion  \\\n",
       "0   -122.23    37.88        41.0         880.0        129.0      322.0   \n",
       "1   -122.22    37.86        21.0        7099.0       1106.0     2401.0   \n",
       "2   -122.24    37.85        52.0        1467.0        190.0      496.0   \n",
       "3   -122.25    37.85        52.0        1274.0        235.0      558.0   \n",
       "4   -122.25    37.85        52.0        1627.0        280.0      565.0   \n",
       "\n",
       "   hogares  ingresos    precio proximidad  \n",
       "0    126.0    8.3252  452600.0   NEAR BAY  \n",
       "1   1138.0    8.3014  358500.0   NEAR BAY  \n",
       "2    177.0    7.2574  352100.0   NEAR BAY  \n",
       "3    219.0    5.6431  341300.0   NEAR BAY  \n",
       "4    259.0    3.8462  342200.0   NEAR BAY  "
      ]
     },
     "execution_count": 51,
     "metadata": {},
     "output_type": "execute_result"
    }
   ],
   "source": [
    "%%time \n",
    "v_original = load_dataset() # Notación de apellido \n",
    "v_original.head() "
   ]
  },
  {
   "cell_type": "markdown",
   "id": "6f34a254",
   "metadata": {},
   "source": [
    "## Inferecias de la observación de las cinco primeras instancias del dataframe   \n",
    "\n",
    "1. proximidad es una variable a codificar \n",
    "2. Hay que escalar los atributos numéricos pues los rangos son muy diferentes. "
   ]
  },
  {
   "cell_type": "code",
   "execution_count": 52,
   "id": "9899bdc7",
   "metadata": {},
   "outputs": [
    {
     "data": {
      "text/plain": [
       "proximidad\n",
       "<1H OCEAN     9136\n",
       "INLAND        6551\n",
       "NEAR OCEAN    2658\n",
       "NEAR BAY      2290\n",
       "ISLAND           5\n",
       "Name: count, dtype: int64"
      ]
     },
     "execution_count": 52,
     "metadata": {},
     "output_type": "execute_result"
    }
   ],
   "source": [
    "v_original.proximidad.value_counts() # Variable categórica "
   ]
  },
  {
   "cell_type": "markdown",
   "id": "b958c065",
   "metadata": {},
   "source": [
    "# Inferencias se derivan del resumen de esta variable categórica. \n",
    "\n",
    "1. proximidad es categórica no ordinal lo que implica que su codificación debe ser de metodología OneHot. "
   ]
  },
  {
   "cell_type": "code",
   "execution_count": 53,
   "id": "f200fbc6",
   "metadata": {},
   "outputs": [
    {
     "name": "stdout",
     "output_type": "stream",
     "text": [
      "<class 'pandas.core.frame.DataFrame'>\n",
      "RangeIndex: 20640 entries, 0 to 20639\n",
      "Data columns (total 10 columns):\n",
      " #   Column        Non-Null Count  Dtype  \n",
      "---  ------        --------------  -----  \n",
      " 0   longitud      20640 non-null  float64\n",
      " 1   latitud       20640 non-null  float64\n",
      " 2   antiguedad    20640 non-null  float64\n",
      " 3   habitaciones  20640 non-null  float64\n",
      " 4   dormitorios   20433 non-null  float64\n",
      " 5   poblacion     20640 non-null  float64\n",
      " 6   hogares       20640 non-null  float64\n",
      " 7   ingresos      20640 non-null  float64\n",
      " 8   precio        20640 non-null  float64\n",
      " 9   proximidad    20640 non-null  object \n",
      "dtypes: float64(9), object(1)\n",
      "memory usage: 1.6+ MB\n"
     ]
    }
   ],
   "source": [
    "v_original.info() # resumen "
   ]
  },
  {
   "cell_type": "code",
   "execution_count": 54,
   "id": "5a37e6f9",
   "metadata": {},
   "outputs": [
    {
     "data": {
      "text/plain": [
       "longitud        0.0\n",
       "latitud         0.0\n",
       "antiguedad      0.0\n",
       "habitaciones    0.0\n",
       "dormitorios     1.0\n",
       "poblacion       0.0\n",
       "hogares         0.0\n",
       "ingresos        0.0\n",
       "precio          0.0\n",
       "proximidad      0.0\n",
       "dtype: float64"
      ]
     },
     "execution_count": 54,
     "metadata": {},
     "output_type": "execute_result"
    }
   ],
   "source": [
    "(v_original.isnull().sum()/len(v_original)*100).round(1) # esto nos dice de manera porcentual cuántos valores faltantes hay en la columna"
   ]
  },
  {
   "cell_type": "markdown",
   "id": "f7041c0f",
   "metadata": {},
   "source": [
    "Inferencias de la implementación del método .info()\n",
    "\n",
    "1. Se infiere de esto que la estrategia de tratamiento de datos faltantes debe ser imputación. (com la mediana) "
   ]
  },
  {
   "cell_type": "markdown",
   "id": "645dc44f",
   "metadata": {},
   "source": [
    "[Video de apoyo a la primera parte del contenido sobre regresión](https://www.youtube.com/watch?v=YemkEQNzg9A)"
   ]
  },
  {
   "cell_type": "markdown",
   "id": "a4dc87d2",
   "metadata": {},
   "source": [
    "   - **Exploración inicial:**\n",
    "     - Estadísticas descriptivas: Promedio, mediana, desviación estándar y percentiles de las variables.\n",
    "     - Identificación de correlaciones iniciales mediante un mapa de calor con seaborn para detectar relaciones significativas entre las variables predictoras y el precio.\n",
    "     - Visualización básica: Gráficas de dispersión para observar tendencias entre variables (e.g., superficie vs. precio).\n"
   ]
  },
  {
   "cell_type": "code",
   "execution_count": 55,
   "id": "d86faf77",
   "metadata": {},
   "outputs": [
    {
     "data": {
      "application/vnd.microsoft.datawrangler.viewer.v0+json": {
       "columns": [
        {
         "name": "index",
         "rawType": "object",
         "type": "string"
        },
        {
         "name": "longitud",
         "rawType": "float64",
         "type": "float"
        },
        {
         "name": "latitud",
         "rawType": "float64",
         "type": "float"
        },
        {
         "name": "antiguedad",
         "rawType": "float64",
         "type": "float"
        },
        {
         "name": "habitaciones",
         "rawType": "float64",
         "type": "float"
        },
        {
         "name": "dormitorios",
         "rawType": "float64",
         "type": "float"
        },
        {
         "name": "poblacion",
         "rawType": "float64",
         "type": "float"
        },
        {
         "name": "hogares",
         "rawType": "float64",
         "type": "float"
        },
        {
         "name": "ingresos",
         "rawType": "float64",
         "type": "float"
        },
        {
         "name": "precio",
         "rawType": "float64",
         "type": "float"
        }
       ],
       "conversionMethod": "pd.DataFrame",
       "ref": "fc4b07be-9ec1-4a66-9c35-2a106a4213da",
       "rows": [
        [
         "count",
         "20640.0",
         "20640.0",
         "20640.0",
         "20640.0",
         "20433.0",
         "20640.0",
         "20640.0",
         "20640.0",
         "20640.0"
        ],
        [
         "mean",
         "-119.6",
         "35.6",
         "28.6",
         "2635.8",
         "537.9",
         "1425.5",
         "499.5",
         "3.9",
         "206855.8"
        ],
        [
         "std",
         "2.0",
         "2.1",
         "12.6",
         "2181.6",
         "421.4",
         "1132.5",
         "382.3",
         "1.9",
         "115395.6"
        ],
        [
         "min",
         "-124.4",
         "32.5",
         "1.0",
         "2.0",
         "1.0",
         "3.0",
         "1.0",
         "0.5",
         "14999.0"
        ],
        [
         "25%",
         "-121.8",
         "33.9",
         "18.0",
         "1447.8",
         "296.0",
         "787.0",
         "280.0",
         "2.6",
         "119600.0"
        ],
        [
         "50%",
         "-118.5",
         "34.3",
         "29.0",
         "2127.0",
         "435.0",
         "1166.0",
         "409.0",
         "3.5",
         "179700.0"
        ],
        [
         "75%",
         "-118.0",
         "37.7",
         "37.0",
         "3148.0",
         "647.0",
         "1725.0",
         "605.0",
         "4.7",
         "264725.0"
        ],
        [
         "max",
         "-114.3",
         "42.0",
         "52.0",
         "39320.0",
         "6445.0",
         "35682.0",
         "6082.0",
         "15.0",
         "500001.0"
        ]
       ],
       "shape": {
        "columns": 9,
        "rows": 8
       }
      },
      "text/html": [
       "<div>\n",
       "<style scoped>\n",
       "    .dataframe tbody tr th:only-of-type {\n",
       "        vertical-align: middle;\n",
       "    }\n",
       "\n",
       "    .dataframe tbody tr th {\n",
       "        vertical-align: top;\n",
       "    }\n",
       "\n",
       "    .dataframe thead th {\n",
       "        text-align: right;\n",
       "    }\n",
       "</style>\n",
       "<table border=\"1\" class=\"dataframe\">\n",
       "  <thead>\n",
       "    <tr style=\"text-align: right;\">\n",
       "      <th></th>\n",
       "      <th>longitud</th>\n",
       "      <th>latitud</th>\n",
       "      <th>antiguedad</th>\n",
       "      <th>habitaciones</th>\n",
       "      <th>dormitorios</th>\n",
       "      <th>poblacion</th>\n",
       "      <th>hogares</th>\n",
       "      <th>ingresos</th>\n",
       "      <th>precio</th>\n",
       "    </tr>\n",
       "  </thead>\n",
       "  <tbody>\n",
       "    <tr>\n",
       "      <th>count</th>\n",
       "      <td>20640.0</td>\n",
       "      <td>20640.0</td>\n",
       "      <td>20640.0</td>\n",
       "      <td>20640.0</td>\n",
       "      <td>20433.0</td>\n",
       "      <td>20640.0</td>\n",
       "      <td>20640.0</td>\n",
       "      <td>20640.0</td>\n",
       "      <td>20640.0</td>\n",
       "    </tr>\n",
       "    <tr>\n",
       "      <th>mean</th>\n",
       "      <td>-119.6</td>\n",
       "      <td>35.6</td>\n",
       "      <td>28.6</td>\n",
       "      <td>2635.8</td>\n",
       "      <td>537.9</td>\n",
       "      <td>1425.5</td>\n",
       "      <td>499.5</td>\n",
       "      <td>3.9</td>\n",
       "      <td>206855.8</td>\n",
       "    </tr>\n",
       "    <tr>\n",
       "      <th>std</th>\n",
       "      <td>2.0</td>\n",
       "      <td>2.1</td>\n",
       "      <td>12.6</td>\n",
       "      <td>2181.6</td>\n",
       "      <td>421.4</td>\n",
       "      <td>1132.5</td>\n",
       "      <td>382.3</td>\n",
       "      <td>1.9</td>\n",
       "      <td>115395.6</td>\n",
       "    </tr>\n",
       "    <tr>\n",
       "      <th>min</th>\n",
       "      <td>-124.4</td>\n",
       "      <td>32.5</td>\n",
       "      <td>1.0</td>\n",
       "      <td>2.0</td>\n",
       "      <td>1.0</td>\n",
       "      <td>3.0</td>\n",
       "      <td>1.0</td>\n",
       "      <td>0.5</td>\n",
       "      <td>14999.0</td>\n",
       "    </tr>\n",
       "    <tr>\n",
       "      <th>25%</th>\n",
       "      <td>-121.8</td>\n",
       "      <td>33.9</td>\n",
       "      <td>18.0</td>\n",
       "      <td>1447.8</td>\n",
       "      <td>296.0</td>\n",
       "      <td>787.0</td>\n",
       "      <td>280.0</td>\n",
       "      <td>2.6</td>\n",
       "      <td>119600.0</td>\n",
       "    </tr>\n",
       "    <tr>\n",
       "      <th>50%</th>\n",
       "      <td>-118.5</td>\n",
       "      <td>34.3</td>\n",
       "      <td>29.0</td>\n",
       "      <td>2127.0</td>\n",
       "      <td>435.0</td>\n",
       "      <td>1166.0</td>\n",
       "      <td>409.0</td>\n",
       "      <td>3.5</td>\n",
       "      <td>179700.0</td>\n",
       "    </tr>\n",
       "    <tr>\n",
       "      <th>75%</th>\n",
       "      <td>-118.0</td>\n",
       "      <td>37.7</td>\n",
       "      <td>37.0</td>\n",
       "      <td>3148.0</td>\n",
       "      <td>647.0</td>\n",
       "      <td>1725.0</td>\n",
       "      <td>605.0</td>\n",
       "      <td>4.7</td>\n",
       "      <td>264725.0</td>\n",
       "    </tr>\n",
       "    <tr>\n",
       "      <th>max</th>\n",
       "      <td>-114.3</td>\n",
       "      <td>42.0</td>\n",
       "      <td>52.0</td>\n",
       "      <td>39320.0</td>\n",
       "      <td>6445.0</td>\n",
       "      <td>35682.0</td>\n",
       "      <td>6082.0</td>\n",
       "      <td>15.0</td>\n",
       "      <td>500001.0</td>\n",
       "    </tr>\n",
       "  </tbody>\n",
       "</table>\n",
       "</div>"
      ],
      "text/plain": [
       "       longitud  latitud  antiguedad  habitaciones  dormitorios  poblacion  \\\n",
       "count   20640.0  20640.0     20640.0       20640.0      20433.0    20640.0   \n",
       "mean     -119.6     35.6        28.6        2635.8        537.9     1425.5   \n",
       "std         2.0      2.1        12.6        2181.6        421.4     1132.5   \n",
       "min      -124.4     32.5         1.0           2.0          1.0        3.0   \n",
       "25%      -121.8     33.9        18.0        1447.8        296.0      787.0   \n",
       "50%      -118.5     34.3        29.0        2127.0        435.0     1166.0   \n",
       "75%      -118.0     37.7        37.0        3148.0        647.0     1725.0   \n",
       "max      -114.3     42.0        52.0       39320.0       6445.0    35682.0   \n",
       "\n",
       "       hogares  ingresos    precio  \n",
       "count  20640.0   20640.0   20640.0  \n",
       "mean     499.5       3.9  206855.8  \n",
       "std      382.3       1.9  115395.6  \n",
       "min        1.0       0.5   14999.0  \n",
       "25%      280.0       2.6  119600.0  \n",
       "50%      409.0       3.5  179700.0  \n",
       "75%      605.0       4.7  264725.0  \n",
       "max     6082.0      15.0  500001.0  "
      ]
     },
     "execution_count": 55,
     "metadata": {},
     "output_type": "execute_result"
    }
   ],
   "source": [
    "# Estadísticas descriptivas \n",
    "\n",
    "round(v_original.describe(), 1) "
   ]
  },
  {
   "cell_type": "markdown",
   "id": "8b578b48",
   "metadata": {},
   "source": [
    "# Inferencias fruto de la implementación del método .descibe() \n",
    "\n",
    "1. La metodología de escalamiento puede ser la de estándarización que se puede implementar con la clase `StandarScaler()` de `sklearn.preprocession` "
   ]
  },
  {
   "cell_type": "code",
   "execution_count": 9,
   "id": "e068e7a6",
   "metadata": {},
   "outputs": [
    {
     "data": {
      "text/plain": [
       "'C:\\\\Users\\\\marco\\\\Descargas\\\\mapa_escalado.png'"
      ]
     },
     "execution_count": 9,
     "metadata": {},
     "output_type": "execute_result"
    }
   ],
   "source": [
    "from graphviz import Digraph\n",
    "\n",
    "# Crear un objeto Digraph\n",
    "dot = Digraph('Tipos de Escalamiento de Atributos Numéricos')\n",
    "\n",
    "# Configurar nodos principales\n",
    "dot.node('E', 'Escalamiento de Atributos Numéricos', shape='box', style='filled', fillcolor='lightblue')\n",
    "dot.node('N', 'Normalización', shape='ellipse', style='filled', fillcolor='lightgreen')\n",
    "dot.node('Estand', 'Estandarización', shape='ellipse', style='filled', fillcolor='lightyellow')\n",
    "\n",
    "dot.node('MinMax', 'Min-Max Scaling', shape='rectangle', style='filled', fillcolor='lightgrey')\n",
    "dot.node('MaxAbs', 'MaxAbs Scaling', shape='rectangle', style='filled', fillcolor='lightgrey')\n",
    "dot.node('Robust', 'Robust Scaling', shape='rectangle', style='filled', fillcolor='lightgrey')\n",
    "dot.node('ZScore', 'Z-Score Scaling', shape='rectangle', style='filled', fillcolor='lightgrey')\n",
    "dot.node('Dec', 'Decimal Scaling', shape='rectangle', style='filled', fillcolor='lightgrey')\n",
    "\n",
    "# Conectar nodos\n",
    "dot.edge('E', 'N')\n",
    "dot.edge('E', 'Estand')\n",
    "dot.edge('N', 'MinMax')\n",
    "dot.edge('N', 'MaxAbs')\n",
    "dot.edge('Estand', 'ZScore')\n",
    "dot.edge('Estand', 'Robust')\n",
    "dot.edge('N', 'Dec')\n",
    "\n",
    "# Guardar y renderizar el archivo\n",
    "dot.render(r'C:/Users/marco/Descargas/mapa_escalado', format='png', cleanup=True, view=True)\n"
   ]
  },
  {
   "cell_type": "markdown",
   "id": "3853aa67",
   "metadata": {},
   "source": [
    "[Video de apoyo al análisis exploratorio de datos](https://www.youtube.com/watch?v=dedw26TN6_4)"
   ]
  },
  {
   "cell_type": "markdown",
   "id": "37f4489f",
   "metadata": {},
   "source": [
    "# 2. Preprocesamiento  "
   ]
  },
  {
   "cell_type": "markdown",
   "id": "108f7109",
   "metadata": {},
   "source": [
    "# Codificación de la variable categórica `proximidad`"
   ]
  },
  {
   "cell_type": "code",
   "execution_count": 56,
   "id": "6ecac810",
   "metadata": {},
   "outputs": [
    {
     "data": {
      "application/vnd.microsoft.datawrangler.viewer.v0+json": {
       "columns": [
        {
         "name": "index",
         "rawType": "int64",
         "type": "integer"
        },
        {
         "name": "longitud",
         "rawType": "float64",
         "type": "float"
        },
        {
         "name": "latitud",
         "rawType": "float64",
         "type": "float"
        },
        {
         "name": "antiguedad",
         "rawType": "float64",
         "type": "float"
        },
        {
         "name": "habitaciones",
         "rawType": "float64",
         "type": "float"
        },
        {
         "name": "dormitorios",
         "rawType": "float64",
         "type": "float"
        },
        {
         "name": "poblacion",
         "rawType": "float64",
         "type": "float"
        },
        {
         "name": "hogares",
         "rawType": "float64",
         "type": "float"
        },
        {
         "name": "ingresos",
         "rawType": "float64",
         "type": "float"
        },
        {
         "name": "precio",
         "rawType": "float64",
         "type": "float"
        },
        {
         "name": "proximidad",
         "rawType": "object",
         "type": "string"
        }
       ],
       "conversionMethod": "pd.DataFrame",
       "ref": "0e9cd30a-8430-4cc4-91b1-0071194e4464",
       "rows": [
        [
         "0",
         "-122.23",
         "37.88",
         "41.0",
         "880.0",
         "129.0",
         "322.0",
         "126.0",
         "8.3252",
         "452600.0",
         "NEAR BAY"
        ],
        [
         "1",
         "-122.22",
         "37.86",
         "21.0",
         "7099.0",
         "1106.0",
         "2401.0",
         "1138.0",
         "8.3014",
         "358500.0",
         "NEAR BAY"
        ],
        [
         "2",
         "-122.24",
         "37.85",
         "52.0",
         "1467.0",
         "190.0",
         "496.0",
         "177.0",
         "7.2574",
         "352100.0",
         "NEAR BAY"
        ],
        [
         "3",
         "-122.25",
         "37.85",
         "52.0",
         "1274.0",
         "235.0",
         "558.0",
         "219.0",
         "5.6431",
         "341300.0",
         "NEAR BAY"
        ],
        [
         "4",
         "-122.25",
         "37.85",
         "52.0",
         "1627.0",
         "280.0",
         "565.0",
         "259.0",
         "3.8462",
         "342200.0",
         "NEAR BAY"
        ]
       ],
       "shape": {
        "columns": 10,
        "rows": 5
       }
      },
      "text/html": [
       "<div>\n",
       "<style scoped>\n",
       "    .dataframe tbody tr th:only-of-type {\n",
       "        vertical-align: middle;\n",
       "    }\n",
       "\n",
       "    .dataframe tbody tr th {\n",
       "        vertical-align: top;\n",
       "    }\n",
       "\n",
       "    .dataframe thead th {\n",
       "        text-align: right;\n",
       "    }\n",
       "</style>\n",
       "<table border=\"1\" class=\"dataframe\">\n",
       "  <thead>\n",
       "    <tr style=\"text-align: right;\">\n",
       "      <th></th>\n",
       "      <th>longitud</th>\n",
       "      <th>latitud</th>\n",
       "      <th>antiguedad</th>\n",
       "      <th>habitaciones</th>\n",
       "      <th>dormitorios</th>\n",
       "      <th>poblacion</th>\n",
       "      <th>hogares</th>\n",
       "      <th>ingresos</th>\n",
       "      <th>precio</th>\n",
       "      <th>proximidad</th>\n",
       "    </tr>\n",
       "  </thead>\n",
       "  <tbody>\n",
       "    <tr>\n",
       "      <th>0</th>\n",
       "      <td>-122.23</td>\n",
       "      <td>37.88</td>\n",
       "      <td>41.0</td>\n",
       "      <td>880.0</td>\n",
       "      <td>129.0</td>\n",
       "      <td>322.0</td>\n",
       "      <td>126.0</td>\n",
       "      <td>8.3252</td>\n",
       "      <td>452600.0</td>\n",
       "      <td>NEAR BAY</td>\n",
       "    </tr>\n",
       "    <tr>\n",
       "      <th>1</th>\n",
       "      <td>-122.22</td>\n",
       "      <td>37.86</td>\n",
       "      <td>21.0</td>\n",
       "      <td>7099.0</td>\n",
       "      <td>1106.0</td>\n",
       "      <td>2401.0</td>\n",
       "      <td>1138.0</td>\n",
       "      <td>8.3014</td>\n",
       "      <td>358500.0</td>\n",
       "      <td>NEAR BAY</td>\n",
       "    </tr>\n",
       "    <tr>\n",
       "      <th>2</th>\n",
       "      <td>-122.24</td>\n",
       "      <td>37.85</td>\n",
       "      <td>52.0</td>\n",
       "      <td>1467.0</td>\n",
       "      <td>190.0</td>\n",
       "      <td>496.0</td>\n",
       "      <td>177.0</td>\n",
       "      <td>7.2574</td>\n",
       "      <td>352100.0</td>\n",
       "      <td>NEAR BAY</td>\n",
       "    </tr>\n",
       "    <tr>\n",
       "      <th>3</th>\n",
       "      <td>-122.25</td>\n",
       "      <td>37.85</td>\n",
       "      <td>52.0</td>\n",
       "      <td>1274.0</td>\n",
       "      <td>235.0</td>\n",
       "      <td>558.0</td>\n",
       "      <td>219.0</td>\n",
       "      <td>5.6431</td>\n",
       "      <td>341300.0</td>\n",
       "      <td>NEAR BAY</td>\n",
       "    </tr>\n",
       "    <tr>\n",
       "      <th>4</th>\n",
       "      <td>-122.25</td>\n",
       "      <td>37.85</td>\n",
       "      <td>52.0</td>\n",
       "      <td>1627.0</td>\n",
       "      <td>280.0</td>\n",
       "      <td>565.0</td>\n",
       "      <td>259.0</td>\n",
       "      <td>3.8462</td>\n",
       "      <td>342200.0</td>\n",
       "      <td>NEAR BAY</td>\n",
       "    </tr>\n",
       "  </tbody>\n",
       "</table>\n",
       "</div>"
      ],
      "text/plain": [
       "   longitud  latitud  antiguedad  habitaciones  dormitorios  poblacion  \\\n",
       "0   -122.23    37.88        41.0         880.0        129.0      322.0   \n",
       "1   -122.22    37.86        21.0        7099.0       1106.0     2401.0   \n",
       "2   -122.24    37.85        52.0        1467.0        190.0      496.0   \n",
       "3   -122.25    37.85        52.0        1274.0        235.0      558.0   \n",
       "4   -122.25    37.85        52.0        1627.0        280.0      565.0   \n",
       "\n",
       "   hogares  ingresos    precio proximidad  \n",
       "0    126.0    8.3252  452600.0   NEAR BAY  \n",
       "1   1138.0    8.3014  358500.0   NEAR BAY  \n",
       "2    177.0    7.2574  352100.0   NEAR BAY  \n",
       "3    219.0    5.6431  341300.0   NEAR BAY  \n",
       "4    259.0    3.8462  342200.0   NEAR BAY  "
      ]
     },
     "execution_count": 56,
     "metadata": {},
     "output_type": "execute_result"
    }
   ],
   "source": [
    "v_original.head() "
   ]
  },
  {
   "cell_type": "code",
   "execution_count": 57,
   "id": "774d50ad",
   "metadata": {},
   "outputs": [],
   "source": [
    "v_copia = v_original.copy() # Generamos la copia cuando ya vamos a preprocesar "
   ]
  },
  {
   "cell_type": "code",
   "execution_count": 58,
   "id": "d6b26cf0",
   "metadata": {},
   "outputs": [
    {
     "data": {
      "application/vnd.microsoft.datawrangler.viewer.v0+json": {
       "columns": [
        {
         "name": "index",
         "rawType": "int64",
         "type": "integer"
        },
        {
         "name": "longitud",
         "rawType": "float64",
         "type": "float"
        },
        {
         "name": "latitud",
         "rawType": "float64",
         "type": "float"
        },
        {
         "name": "antiguedad",
         "rawType": "float64",
         "type": "float"
        },
        {
         "name": "habitaciones",
         "rawType": "float64",
         "type": "float"
        },
        {
         "name": "dormitorios",
         "rawType": "float64",
         "type": "float"
        },
        {
         "name": "poblacion",
         "rawType": "float64",
         "type": "float"
        },
        {
         "name": "hogares",
         "rawType": "float64",
         "type": "float"
        },
        {
         "name": "ingresos",
         "rawType": "float64",
         "type": "float"
        },
        {
         "name": "precio",
         "rawType": "float64",
         "type": "float"
        },
        {
         "name": "proximidad",
         "rawType": "object",
         "type": "string"
        }
       ],
       "conversionMethod": "pd.DataFrame",
       "ref": "922a6206-0548-45dd-921a-3ac420d5f236",
       "rows": [
        [
         "0",
         "-122.23",
         "37.88",
         "41.0",
         "880.0",
         "129.0",
         "322.0",
         "126.0",
         "8.3252",
         "452600.0",
         "NEAR BAY"
        ],
        [
         "1",
         "-122.22",
         "37.86",
         "21.0",
         "7099.0",
         "1106.0",
         "2401.0",
         "1138.0",
         "8.3014",
         "358500.0",
         "NEAR BAY"
        ]
       ],
       "shape": {
        "columns": 10,
        "rows": 2
       }
      },
      "text/html": [
       "<div>\n",
       "<style scoped>\n",
       "    .dataframe tbody tr th:only-of-type {\n",
       "        vertical-align: middle;\n",
       "    }\n",
       "\n",
       "    .dataframe tbody tr th {\n",
       "        vertical-align: top;\n",
       "    }\n",
       "\n",
       "    .dataframe thead th {\n",
       "        text-align: right;\n",
       "    }\n",
       "</style>\n",
       "<table border=\"1\" class=\"dataframe\">\n",
       "  <thead>\n",
       "    <tr style=\"text-align: right;\">\n",
       "      <th></th>\n",
       "      <th>longitud</th>\n",
       "      <th>latitud</th>\n",
       "      <th>antiguedad</th>\n",
       "      <th>habitaciones</th>\n",
       "      <th>dormitorios</th>\n",
       "      <th>poblacion</th>\n",
       "      <th>hogares</th>\n",
       "      <th>ingresos</th>\n",
       "      <th>precio</th>\n",
       "      <th>proximidad</th>\n",
       "    </tr>\n",
       "  </thead>\n",
       "  <tbody>\n",
       "    <tr>\n",
       "      <th>0</th>\n",
       "      <td>-122.23</td>\n",
       "      <td>37.88</td>\n",
       "      <td>41.0</td>\n",
       "      <td>880.0</td>\n",
       "      <td>129.0</td>\n",
       "      <td>322.0</td>\n",
       "      <td>126.0</td>\n",
       "      <td>8.3252</td>\n",
       "      <td>452600.0</td>\n",
       "      <td>NEAR BAY</td>\n",
       "    </tr>\n",
       "    <tr>\n",
       "      <th>1</th>\n",
       "      <td>-122.22</td>\n",
       "      <td>37.86</td>\n",
       "      <td>21.0</td>\n",
       "      <td>7099.0</td>\n",
       "      <td>1106.0</td>\n",
       "      <td>2401.0</td>\n",
       "      <td>1138.0</td>\n",
       "      <td>8.3014</td>\n",
       "      <td>358500.0</td>\n",
       "      <td>NEAR BAY</td>\n",
       "    </tr>\n",
       "  </tbody>\n",
       "</table>\n",
       "</div>"
      ],
      "text/plain": [
       "   longitud  latitud  antiguedad  habitaciones  dormitorios  poblacion  \\\n",
       "0   -122.23    37.88        41.0         880.0        129.0      322.0   \n",
       "1   -122.22    37.86        21.0        7099.0       1106.0     2401.0   \n",
       "\n",
       "   hogares  ingresos    precio proximidad  \n",
       "0    126.0    8.3252  452600.0   NEAR BAY  \n",
       "1   1138.0    8.3014  358500.0   NEAR BAY  "
      ]
     },
     "execution_count": 58,
     "metadata": {},
     "output_type": "execute_result"
    }
   ],
   "source": [
    "v_copia.head(2)"
   ]
  },
  {
   "cell_type": "code",
   "execution_count": 59,
   "id": "dd660540",
   "metadata": {},
   "outputs": [
    {
     "data": {
      "text/plain": [
       "Index(['<1H OCEAN', 'INLAND', 'NEAR OCEAN', 'NEAR BAY', 'ISLAND'], dtype='object', name='proximidad')"
      ]
     },
     "execution_count": 59,
     "metadata": {},
     "output_type": "execute_result"
    }
   ],
   "source": [
    "v_copia.proximidad.value_counts().index "
   ]
  },
  {
   "cell_type": "code",
   "execution_count": 60,
   "id": "6351bbb5",
   "metadata": {},
   "outputs": [],
   "source": [
    "import pandas as pd\n",
    "\n",
    "def codificar1(df, column='proximidad'):\n",
    "    \"\"\"\n",
    "    Aplica codificación One-Hot al atributo de proximidad en un dataset de vivienda.\n",
    "    \n",
    "    Parámetros:\n",
    "    df (pd.DataFrame): DataFrame de entrada que contiene la columna de proximidad.\n",
    "    column (str): Nombre de la columna a codificar (por defecto 'proximidad').\n",
    "    \n",
    "    Retorna:\n",
    "    pd.DataFrame: DataFrame con la columna codificada y sin la columna original.\n",
    "    \"\"\"\n",
    "    \n",
    "    # Aplicar codificación One-Hot usando pandas\n",
    "    df_encoded = pd.get_dummies(df, columns=[column], prefix=column)\n",
    "    \n",
    "    return df_encoded\n"
   ]
  },
  {
   "cell_type": "code",
   "execution_count": 61,
   "id": "114cfe5d",
   "metadata": {},
   "outputs": [
    {
     "data": {
      "application/vnd.microsoft.datawrangler.viewer.v0+json": {
       "columns": [
        {
         "name": "index",
         "rawType": "int64",
         "type": "integer"
        },
        {
         "name": "longitud",
         "rawType": "float64",
         "type": "float"
        },
        {
         "name": "latitud",
         "rawType": "float64",
         "type": "float"
        },
        {
         "name": "antiguedad",
         "rawType": "float64",
         "type": "float"
        },
        {
         "name": "habitaciones",
         "rawType": "float64",
         "type": "float"
        },
        {
         "name": "dormitorios",
         "rawType": "float64",
         "type": "float"
        },
        {
         "name": "poblacion",
         "rawType": "float64",
         "type": "float"
        },
        {
         "name": "hogares",
         "rawType": "float64",
         "type": "float"
        },
        {
         "name": "ingresos",
         "rawType": "float64",
         "type": "float"
        },
        {
         "name": "precio",
         "rawType": "float64",
         "type": "float"
        },
        {
         "name": "proximidad_<1H OCEAN",
         "rawType": "bool",
         "type": "boolean"
        },
        {
         "name": "proximidad_INLAND",
         "rawType": "bool",
         "type": "boolean"
        },
        {
         "name": "proximidad_ISLAND",
         "rawType": "bool",
         "type": "boolean"
        },
        {
         "name": "proximidad_NEAR BAY",
         "rawType": "bool",
         "type": "boolean"
        },
        {
         "name": "proximidad_NEAR OCEAN",
         "rawType": "bool",
         "type": "boolean"
        }
       ],
       "conversionMethod": "pd.DataFrame",
       "ref": "7494665e-977f-497a-8bd4-23f2f9a91ee5",
       "rows": [
        [
         "0",
         "-122.23",
         "37.88",
         "41.0",
         "880.0",
         "129.0",
         "322.0",
         "126.0",
         "8.3252",
         "452600.0",
         "False",
         "False",
         "False",
         "True",
         "False"
        ],
        [
         "1",
         "-122.22",
         "37.86",
         "21.0",
         "7099.0",
         "1106.0",
         "2401.0",
         "1138.0",
         "8.3014",
         "358500.0",
         "False",
         "False",
         "False",
         "True",
         "False"
        ],
        [
         "2",
         "-122.24",
         "37.85",
         "52.0",
         "1467.0",
         "190.0",
         "496.0",
         "177.0",
         "7.2574",
         "352100.0",
         "False",
         "False",
         "False",
         "True",
         "False"
        ],
        [
         "3",
         "-122.25",
         "37.85",
         "52.0",
         "1274.0",
         "235.0",
         "558.0",
         "219.0",
         "5.6431",
         "341300.0",
         "False",
         "False",
         "False",
         "True",
         "False"
        ],
        [
         "4",
         "-122.25",
         "37.85",
         "52.0",
         "1627.0",
         "280.0",
         "565.0",
         "259.0",
         "3.8462",
         "342200.0",
         "False",
         "False",
         "False",
         "True",
         "False"
        ],
        [
         "5",
         "-122.25",
         "37.85",
         "52.0",
         "919.0",
         "213.0",
         "413.0",
         "193.0",
         "4.0368",
         "269700.0",
         "False",
         "False",
         "False",
         "True",
         "False"
        ],
        [
         "6",
         "-122.25",
         "37.84",
         "52.0",
         "2535.0",
         "489.0",
         "1094.0",
         "514.0",
         "3.6591",
         "299200.0",
         "False",
         "False",
         "False",
         "True",
         "False"
        ],
        [
         "7",
         "-122.25",
         "37.84",
         "52.0",
         "3104.0",
         "687.0",
         "1157.0",
         "647.0",
         "3.12",
         "241400.0",
         "False",
         "False",
         "False",
         "True",
         "False"
        ],
        [
         "8",
         "-122.26",
         "37.84",
         "42.0",
         "2555.0",
         "665.0",
         "1206.0",
         "595.0",
         "2.0804",
         "226700.0",
         "False",
         "False",
         "False",
         "True",
         "False"
        ],
        [
         "9",
         "-122.25",
         "37.84",
         "52.0",
         "3549.0",
         "707.0",
         "1551.0",
         "714.0",
         "3.6912",
         "261100.0",
         "False",
         "False",
         "False",
         "True",
         "False"
        ],
        [
         "10",
         "-122.26",
         "37.85",
         "52.0",
         "2202.0",
         "434.0",
         "910.0",
         "402.0",
         "3.2031",
         "281500.0",
         "False",
         "False",
         "False",
         "True",
         "False"
        ],
        [
         "11",
         "-122.26",
         "37.85",
         "52.0",
         "3503.0",
         "752.0",
         "1504.0",
         "734.0",
         "3.2705",
         "241800.0",
         "False",
         "False",
         "False",
         "True",
         "False"
        ],
        [
         "12",
         "-122.26",
         "37.85",
         "52.0",
         "2491.0",
         "474.0",
         "1098.0",
         "468.0",
         "3.075",
         "213500.0",
         "False",
         "False",
         "False",
         "True",
         "False"
        ],
        [
         "13",
         "-122.26",
         "37.84",
         "52.0",
         "696.0",
         "191.0",
         "345.0",
         "174.0",
         "2.6736",
         "191300.0",
         "False",
         "False",
         "False",
         "True",
         "False"
        ],
        [
         "14",
         "-122.26",
         "37.85",
         "52.0",
         "2643.0",
         "626.0",
         "1212.0",
         "620.0",
         "1.9167",
         "159200.0",
         "False",
         "False",
         "False",
         "True",
         "False"
        ],
        [
         "15",
         "-122.26",
         "37.85",
         "50.0",
         "1120.0",
         "283.0",
         "697.0",
         "264.0",
         "2.125",
         "140000.0",
         "False",
         "False",
         "False",
         "True",
         "False"
        ],
        [
         "16",
         "-122.27",
         "37.85",
         "52.0",
         "1966.0",
         "347.0",
         "793.0",
         "331.0",
         "2.775",
         "152500.0",
         "False",
         "False",
         "False",
         "True",
         "False"
        ],
        [
         "17",
         "-122.27",
         "37.85",
         "52.0",
         "1228.0",
         "293.0",
         "648.0",
         "303.0",
         "2.1202",
         "155500.0",
         "False",
         "False",
         "False",
         "True",
         "False"
        ],
        [
         "18",
         "-122.26",
         "37.84",
         "50.0",
         "2239.0",
         "455.0",
         "990.0",
         "419.0",
         "1.9911",
         "158700.0",
         "False",
         "False",
         "False",
         "True",
         "False"
        ],
        [
         "19",
         "-122.27",
         "37.84",
         "52.0",
         "1503.0",
         "298.0",
         "690.0",
         "275.0",
         "2.6033",
         "162900.0",
         "False",
         "False",
         "False",
         "True",
         "False"
        ],
        [
         "20",
         "-122.27",
         "37.85",
         "40.0",
         "751.0",
         "184.0",
         "409.0",
         "166.0",
         "1.3578",
         "147500.0",
         "False",
         "False",
         "False",
         "True",
         "False"
        ],
        [
         "21",
         "-122.27",
         "37.85",
         "42.0",
         "1639.0",
         "367.0",
         "929.0",
         "366.0",
         "1.7135",
         "159800.0",
         "False",
         "False",
         "False",
         "True",
         "False"
        ],
        [
         "22",
         "-122.27",
         "37.84",
         "52.0",
         "2436.0",
         "541.0",
         "1015.0",
         "478.0",
         "1.725",
         "113900.0",
         "False",
         "False",
         "False",
         "True",
         "False"
        ],
        [
         "23",
         "-122.27",
         "37.84",
         "52.0",
         "1688.0",
         "337.0",
         "853.0",
         "325.0",
         "2.1806",
         "99700.0",
         "False",
         "False",
         "False",
         "True",
         "False"
        ],
        [
         "24",
         "-122.27",
         "37.84",
         "52.0",
         "2224.0",
         "437.0",
         "1006.0",
         "422.0",
         "2.6",
         "132600.0",
         "False",
         "False",
         "False",
         "True",
         "False"
        ],
        [
         "25",
         "-122.28",
         "37.85",
         "41.0",
         "535.0",
         "123.0",
         "317.0",
         "119.0",
         "2.4038",
         "107500.0",
         "False",
         "False",
         "False",
         "True",
         "False"
        ],
        [
         "26",
         "-122.28",
         "37.85",
         "49.0",
         "1130.0",
         "244.0",
         "607.0",
         "239.0",
         "2.4597",
         "93800.0",
         "False",
         "False",
         "False",
         "True",
         "False"
        ],
        [
         "27",
         "-122.28",
         "37.85",
         "52.0",
         "1898.0",
         "421.0",
         "1102.0",
         "397.0",
         "1.808",
         "105500.0",
         "False",
         "False",
         "False",
         "True",
         "False"
        ],
        [
         "28",
         "-122.28",
         "37.84",
         "50.0",
         "2082.0",
         "492.0",
         "1131.0",
         "473.0",
         "1.6424",
         "108900.0",
         "False",
         "False",
         "False",
         "True",
         "False"
        ],
        [
         "29",
         "-122.28",
         "37.84",
         "52.0",
         "729.0",
         "160.0",
         "395.0",
         "155.0",
         "1.6875",
         "132000.0",
         "False",
         "False",
         "False",
         "True",
         "False"
        ],
        [
         "30",
         "-122.28",
         "37.84",
         "49.0",
         "1916.0",
         "447.0",
         "863.0",
         "378.0",
         "1.9274",
         "122300.0",
         "False",
         "False",
         "False",
         "True",
         "False"
        ],
        [
         "31",
         "-122.28",
         "37.84",
         "52.0",
         "2153.0",
         "481.0",
         "1168.0",
         "441.0",
         "1.9615",
         "115200.0",
         "False",
         "False",
         "False",
         "True",
         "False"
        ],
        [
         "32",
         "-122.27",
         "37.84",
         "48.0",
         "1922.0",
         "409.0",
         "1026.0",
         "335.0",
         "1.7969",
         "110400.0",
         "False",
         "False",
         "False",
         "True",
         "False"
        ],
        [
         "33",
         "-122.27",
         "37.83",
         "49.0",
         "1655.0",
         "366.0",
         "754.0",
         "329.0",
         "1.375",
         "104900.0",
         "False",
         "False",
         "False",
         "True",
         "False"
        ],
        [
         "34",
         "-122.27",
         "37.83",
         "51.0",
         "2665.0",
         "574.0",
         "1258.0",
         "536.0",
         "2.7303",
         "109700.0",
         "False",
         "False",
         "False",
         "True",
         "False"
        ],
        [
         "35",
         "-122.27",
         "37.83",
         "49.0",
         "1215.0",
         "282.0",
         "570.0",
         "264.0",
         "1.4861",
         "97200.0",
         "False",
         "False",
         "False",
         "True",
         "False"
        ],
        [
         "36",
         "-122.27",
         "37.83",
         "48.0",
         "1798.0",
         "432.0",
         "987.0",
         "374.0",
         "1.0972",
         "104500.0",
         "False",
         "False",
         "False",
         "True",
         "False"
        ],
        [
         "37",
         "-122.28",
         "37.83",
         "52.0",
         "1511.0",
         "390.0",
         "901.0",
         "403.0",
         "1.4103",
         "103900.0",
         "False",
         "False",
         "False",
         "True",
         "False"
        ],
        [
         "38",
         "-122.26",
         "37.83",
         "52.0",
         "1470.0",
         "330.0",
         "689.0",
         "309.0",
         "3.48",
         "191400.0",
         "False",
         "False",
         "False",
         "True",
         "False"
        ],
        [
         "39",
         "-122.26",
         "37.83",
         "52.0",
         "2432.0",
         "715.0",
         "1377.0",
         "696.0",
         "2.5898",
         "176000.0",
         "False",
         "False",
         "False",
         "True",
         "False"
        ],
        [
         "40",
         "-122.26",
         "37.83",
         "52.0",
         "1665.0",
         "419.0",
         "946.0",
         "395.0",
         "2.0978",
         "155400.0",
         "False",
         "False",
         "False",
         "True",
         "False"
        ],
        [
         "41",
         "-122.26",
         "37.83",
         "51.0",
         "936.0",
         "311.0",
         "517.0",
         "249.0",
         "1.2852",
         "150000.0",
         "False",
         "False",
         "False",
         "True",
         "False"
        ],
        [
         "42",
         "-122.26",
         "37.84",
         "49.0",
         "713.0",
         "202.0",
         "462.0",
         "189.0",
         "1.025",
         "118800.0",
         "False",
         "False",
         "False",
         "True",
         "False"
        ],
        [
         "43",
         "-122.26",
         "37.84",
         "52.0",
         "950.0",
         "202.0",
         "467.0",
         "198.0",
         "3.9643",
         "188800.0",
         "False",
         "False",
         "False",
         "True",
         "False"
        ],
        [
         "44",
         "-122.26",
         "37.83",
         "52.0",
         "1443.0",
         "311.0",
         "660.0",
         "292.0",
         "3.0125",
         "184400.0",
         "False",
         "False",
         "False",
         "True",
         "False"
        ],
        [
         "45",
         "-122.26",
         "37.83",
         "52.0",
         "1656.0",
         "420.0",
         "718.0",
         "382.0",
         "2.6768",
         "182300.0",
         "False",
         "False",
         "False",
         "True",
         "False"
        ],
        [
         "46",
         "-122.26",
         "37.83",
         "50.0",
         "1125.0",
         "322.0",
         "616.0",
         "304.0",
         "2.026",
         "142500.0",
         "False",
         "False",
         "False",
         "True",
         "False"
        ],
        [
         "47",
         "-122.27",
         "37.82",
         "43.0",
         "1007.0",
         "312.0",
         "558.0",
         "253.0",
         "1.7348",
         "137500.0",
         "False",
         "False",
         "False",
         "True",
         "False"
        ],
        [
         "48",
         "-122.26",
         "37.82",
         "40.0",
         "624.0",
         "195.0",
         "423.0",
         "160.0",
         "0.9506",
         "187500.0",
         "False",
         "False",
         "False",
         "True",
         "False"
        ],
        [
         "49",
         "-122.27",
         "37.82",
         "40.0",
         "946.0",
         "375.0",
         "700.0",
         "352.0",
         "1.775",
         "112500.0",
         "False",
         "False",
         "False",
         "True",
         "False"
        ]
       ],
       "shape": {
        "columns": 14,
        "rows": 20640
       }
      },
      "text/html": [
       "<div>\n",
       "<style scoped>\n",
       "    .dataframe tbody tr th:only-of-type {\n",
       "        vertical-align: middle;\n",
       "    }\n",
       "\n",
       "    .dataframe tbody tr th {\n",
       "        vertical-align: top;\n",
       "    }\n",
       "\n",
       "    .dataframe thead th {\n",
       "        text-align: right;\n",
       "    }\n",
       "</style>\n",
       "<table border=\"1\" class=\"dataframe\">\n",
       "  <thead>\n",
       "    <tr style=\"text-align: right;\">\n",
       "      <th></th>\n",
       "      <th>longitud</th>\n",
       "      <th>latitud</th>\n",
       "      <th>antiguedad</th>\n",
       "      <th>habitaciones</th>\n",
       "      <th>dormitorios</th>\n",
       "      <th>poblacion</th>\n",
       "      <th>hogares</th>\n",
       "      <th>ingresos</th>\n",
       "      <th>precio</th>\n",
       "      <th>proximidad_&lt;1H OCEAN</th>\n",
       "      <th>proximidad_INLAND</th>\n",
       "      <th>proximidad_ISLAND</th>\n",
       "      <th>proximidad_NEAR BAY</th>\n",
       "      <th>proximidad_NEAR OCEAN</th>\n",
       "    </tr>\n",
       "  </thead>\n",
       "  <tbody>\n",
       "    <tr>\n",
       "      <th>0</th>\n",
       "      <td>-122.23</td>\n",
       "      <td>37.88</td>\n",
       "      <td>41.0</td>\n",
       "      <td>880.0</td>\n",
       "      <td>129.0</td>\n",
       "      <td>322.0</td>\n",
       "      <td>126.0</td>\n",
       "      <td>8.3252</td>\n",
       "      <td>452600.0</td>\n",
       "      <td>False</td>\n",
       "      <td>False</td>\n",
       "      <td>False</td>\n",
       "      <td>True</td>\n",
       "      <td>False</td>\n",
       "    </tr>\n",
       "    <tr>\n",
       "      <th>1</th>\n",
       "      <td>-122.22</td>\n",
       "      <td>37.86</td>\n",
       "      <td>21.0</td>\n",
       "      <td>7099.0</td>\n",
       "      <td>1106.0</td>\n",
       "      <td>2401.0</td>\n",
       "      <td>1138.0</td>\n",
       "      <td>8.3014</td>\n",
       "      <td>358500.0</td>\n",
       "      <td>False</td>\n",
       "      <td>False</td>\n",
       "      <td>False</td>\n",
       "      <td>True</td>\n",
       "      <td>False</td>\n",
       "    </tr>\n",
       "    <tr>\n",
       "      <th>2</th>\n",
       "      <td>-122.24</td>\n",
       "      <td>37.85</td>\n",
       "      <td>52.0</td>\n",
       "      <td>1467.0</td>\n",
       "      <td>190.0</td>\n",
       "      <td>496.0</td>\n",
       "      <td>177.0</td>\n",
       "      <td>7.2574</td>\n",
       "      <td>352100.0</td>\n",
       "      <td>False</td>\n",
       "      <td>False</td>\n",
       "      <td>False</td>\n",
       "      <td>True</td>\n",
       "      <td>False</td>\n",
       "    </tr>\n",
       "    <tr>\n",
       "      <th>3</th>\n",
       "      <td>-122.25</td>\n",
       "      <td>37.85</td>\n",
       "      <td>52.0</td>\n",
       "      <td>1274.0</td>\n",
       "      <td>235.0</td>\n",
       "      <td>558.0</td>\n",
       "      <td>219.0</td>\n",
       "      <td>5.6431</td>\n",
       "      <td>341300.0</td>\n",
       "      <td>False</td>\n",
       "      <td>False</td>\n",
       "      <td>False</td>\n",
       "      <td>True</td>\n",
       "      <td>False</td>\n",
       "    </tr>\n",
       "    <tr>\n",
       "      <th>4</th>\n",
       "      <td>-122.25</td>\n",
       "      <td>37.85</td>\n",
       "      <td>52.0</td>\n",
       "      <td>1627.0</td>\n",
       "      <td>280.0</td>\n",
       "      <td>565.0</td>\n",
       "      <td>259.0</td>\n",
       "      <td>3.8462</td>\n",
       "      <td>342200.0</td>\n",
       "      <td>False</td>\n",
       "      <td>False</td>\n",
       "      <td>False</td>\n",
       "      <td>True</td>\n",
       "      <td>False</td>\n",
       "    </tr>\n",
       "    <tr>\n",
       "      <th>...</th>\n",
       "      <td>...</td>\n",
       "      <td>...</td>\n",
       "      <td>...</td>\n",
       "      <td>...</td>\n",
       "      <td>...</td>\n",
       "      <td>...</td>\n",
       "      <td>...</td>\n",
       "      <td>...</td>\n",
       "      <td>...</td>\n",
       "      <td>...</td>\n",
       "      <td>...</td>\n",
       "      <td>...</td>\n",
       "      <td>...</td>\n",
       "      <td>...</td>\n",
       "    </tr>\n",
       "    <tr>\n",
       "      <th>20635</th>\n",
       "      <td>-121.09</td>\n",
       "      <td>39.48</td>\n",
       "      <td>25.0</td>\n",
       "      <td>1665.0</td>\n",
       "      <td>374.0</td>\n",
       "      <td>845.0</td>\n",
       "      <td>330.0</td>\n",
       "      <td>1.5603</td>\n",
       "      <td>78100.0</td>\n",
       "      <td>False</td>\n",
       "      <td>True</td>\n",
       "      <td>False</td>\n",
       "      <td>False</td>\n",
       "      <td>False</td>\n",
       "    </tr>\n",
       "    <tr>\n",
       "      <th>20636</th>\n",
       "      <td>-121.21</td>\n",
       "      <td>39.49</td>\n",
       "      <td>18.0</td>\n",
       "      <td>697.0</td>\n",
       "      <td>150.0</td>\n",
       "      <td>356.0</td>\n",
       "      <td>114.0</td>\n",
       "      <td>2.5568</td>\n",
       "      <td>77100.0</td>\n",
       "      <td>False</td>\n",
       "      <td>True</td>\n",
       "      <td>False</td>\n",
       "      <td>False</td>\n",
       "      <td>False</td>\n",
       "    </tr>\n",
       "    <tr>\n",
       "      <th>20637</th>\n",
       "      <td>-121.22</td>\n",
       "      <td>39.43</td>\n",
       "      <td>17.0</td>\n",
       "      <td>2254.0</td>\n",
       "      <td>485.0</td>\n",
       "      <td>1007.0</td>\n",
       "      <td>433.0</td>\n",
       "      <td>1.7000</td>\n",
       "      <td>92300.0</td>\n",
       "      <td>False</td>\n",
       "      <td>True</td>\n",
       "      <td>False</td>\n",
       "      <td>False</td>\n",
       "      <td>False</td>\n",
       "    </tr>\n",
       "    <tr>\n",
       "      <th>20638</th>\n",
       "      <td>-121.32</td>\n",
       "      <td>39.43</td>\n",
       "      <td>18.0</td>\n",
       "      <td>1860.0</td>\n",
       "      <td>409.0</td>\n",
       "      <td>741.0</td>\n",
       "      <td>349.0</td>\n",
       "      <td>1.8672</td>\n",
       "      <td>84700.0</td>\n",
       "      <td>False</td>\n",
       "      <td>True</td>\n",
       "      <td>False</td>\n",
       "      <td>False</td>\n",
       "      <td>False</td>\n",
       "    </tr>\n",
       "    <tr>\n",
       "      <th>20639</th>\n",
       "      <td>-121.24</td>\n",
       "      <td>39.37</td>\n",
       "      <td>16.0</td>\n",
       "      <td>2785.0</td>\n",
       "      <td>616.0</td>\n",
       "      <td>1387.0</td>\n",
       "      <td>530.0</td>\n",
       "      <td>2.3886</td>\n",
       "      <td>89400.0</td>\n",
       "      <td>False</td>\n",
       "      <td>True</td>\n",
       "      <td>False</td>\n",
       "      <td>False</td>\n",
       "      <td>False</td>\n",
       "    </tr>\n",
       "  </tbody>\n",
       "</table>\n",
       "<p>20640 rows × 14 columns</p>\n",
       "</div>"
      ],
      "text/plain": [
       "       longitud  latitud  antiguedad  habitaciones  dormitorios  poblacion  \\\n",
       "0       -122.23    37.88        41.0         880.0        129.0      322.0   \n",
       "1       -122.22    37.86        21.0        7099.0       1106.0     2401.0   \n",
       "2       -122.24    37.85        52.0        1467.0        190.0      496.0   \n",
       "3       -122.25    37.85        52.0        1274.0        235.0      558.0   \n",
       "4       -122.25    37.85        52.0        1627.0        280.0      565.0   \n",
       "...         ...      ...         ...           ...          ...        ...   \n",
       "20635   -121.09    39.48        25.0        1665.0        374.0      845.0   \n",
       "20636   -121.21    39.49        18.0         697.0        150.0      356.0   \n",
       "20637   -121.22    39.43        17.0        2254.0        485.0     1007.0   \n",
       "20638   -121.32    39.43        18.0        1860.0        409.0      741.0   \n",
       "20639   -121.24    39.37        16.0        2785.0        616.0     1387.0   \n",
       "\n",
       "       hogares  ingresos    precio  proximidad_<1H OCEAN  proximidad_INLAND  \\\n",
       "0        126.0    8.3252  452600.0                 False              False   \n",
       "1       1138.0    8.3014  358500.0                 False              False   \n",
       "2        177.0    7.2574  352100.0                 False              False   \n",
       "3        219.0    5.6431  341300.0                 False              False   \n",
       "4        259.0    3.8462  342200.0                 False              False   \n",
       "...        ...       ...       ...                   ...                ...   \n",
       "20635    330.0    1.5603   78100.0                 False               True   \n",
       "20636    114.0    2.5568   77100.0                 False               True   \n",
       "20637    433.0    1.7000   92300.0                 False               True   \n",
       "20638    349.0    1.8672   84700.0                 False               True   \n",
       "20639    530.0    2.3886   89400.0                 False               True   \n",
       "\n",
       "       proximidad_ISLAND  proximidad_NEAR BAY  proximidad_NEAR OCEAN  \n",
       "0                  False                 True                  False  \n",
       "1                  False                 True                  False  \n",
       "2                  False                 True                  False  \n",
       "3                  False                 True                  False  \n",
       "4                  False                 True                  False  \n",
       "...                  ...                  ...                    ...  \n",
       "20635              False                False                  False  \n",
       "20636              False                False                  False  \n",
       "20637              False                False                  False  \n",
       "20638              False                False                  False  \n",
       "20639              False                False                  False  \n",
       "\n",
       "[20640 rows x 14 columns]"
      ]
     },
     "execution_count": 61,
     "metadata": {},
     "output_type": "execute_result"
    }
   ],
   "source": [
    "\n",
    "\n",
    "# Aplicar codificación One-Hot\n",
    "v_copia_codificada = codificar1(v_copia, column='proximidad') \n",
    "v_copia_codificada\n"
   ]
  },
  {
   "cell_type": "markdown",
   "id": "8f0357f5",
   "metadata": {},
   "source": [
    "# Agregar atributos combinados y luego seleccionar de todos los mejor correlacionados con la variable objetivo pero independientes entre sí. "
   ]
  },
  {
   "cell_type": "code",
   "execution_count": 62,
   "id": "0cb6f9fe",
   "metadata": {},
   "outputs": [
    {
     "data": {
      "text/plain": [
       "Index(['longitud', 'latitud', 'antiguedad', 'habitaciones', 'dormitorios',\n",
       "       'poblacion', 'hogares', 'ingresos', 'precio', 'proximidad_<1H OCEAN',\n",
       "       'proximidad_INLAND', 'proximidad_ISLAND', 'proximidad_NEAR BAY',\n",
       "       'proximidad_NEAR OCEAN'],\n",
       "      dtype='object')"
      ]
     },
     "execution_count": 62,
     "metadata": {},
     "output_type": "execute_result"
    }
   ],
   "source": [
    "v_copia_codificada.keys() "
   ]
  },
  {
   "cell_type": "code",
   "execution_count": 63,
   "id": "0e654e43",
   "metadata": {},
   "outputs": [],
   "source": [
    "v_copia_codificada['habitaciones_por_hogar'] = v_copia_codificada.habitaciones/v_copia_codificada.hogares  \n",
    "v_copia_codificada['dormitorios_por_habitaciones'] = v_copia_codificada.dormitorios/v_copia_codificada.habitaciones\n",
    "v_copia_codificada['poblacion_por_hogar'] = v_copia_codificada.poblacion/v_copia_codificada.hogares\n",
    "# housing[\"rooms_per_household\"] = housing[\"total_rooms\"]/housing[\"households\"]\n",
    "# housing[\"bedrooms_per_room\"] = housing[\"total_bedrooms\"]/housing[\"total_rooms\"]\n",
    "#housing[\"population_per_household\"]=housing[\"population\"]/housing[\"households\"]"
   ]
  },
  {
   "cell_type": "code",
   "execution_count": 135,
   "id": "3ae0457d",
   "metadata": {},
   "outputs": [],
   "source": [
    "import pandas as pd\n",
    "import numpy as np\n",
    "from scipy.stats import pearsonr, pointbiserialr\n",
    "\n",
    "def selector2(dataset, target_column, predictores_numericos, predictores_categoricos, correlation_threshold=0.01):\n",
    "    \"\"\"\n",
    "    Selecciona los atributos predictores que mejor se correlacionan con la variable objetivo.\n",
    "    \n",
    "    - Usa la correlación de Pearson para atributos numéricos.\n",
    "    - Usa la correlación de punto biserial para atributos categóricos binarios.\n",
    "    \n",
    "    Args:\n",
    "        dataset (pd.DataFrame): DataFrame con los datos.\n",
    "        target_column (str): Nombre de la variable objetivo.\n",
    "        predictores_numericos (list): Lista de nombres de columnas numéricas.\n",
    "        predictores_categoricos (list): Lista de nombres de columnas categóricas binarias.\n",
    "        correlation_threshold (float): Umbral para determinar si dos variables están correlacionadas.\n",
    "    \n",
    "    Returns:\n",
    "        list: Lista de nombres de atributos seleccionados.\n",
    "    \"\"\"\n",
    "    v_copia_codificada['habitaciones_por_hogar'] = v_copia_codificada.habitaciones/v_copia_codificada.hogares  \n",
    "    v_copia_codificada['dormitorios_por_habitaciones'] = v_copia_codificada.dormitorios/v_copia_codificada.habitaciones\n",
    "    v_copia_codificada['poblacion_por_hogar'] = v_copia_codificada.poblacion/v_copia_codificada.hogares\n",
    "    selected_features = []\n",
    "\n",
    "    # Evaluar correlaciones de atributos numéricos con el objetivo usando Pearson\n",
    "    for feature in predictores_numericos:\n",
    "        corr, _ = pearsonr(dataset[feature], dataset[target_column])\n",
    "        if abs(corr) >= correlation_threshold:\n",
    "            selected_features.append(feature)\n",
    "\n",
    "    # Evaluar correlaciones de atributos categóricos binarios con el objetivo usando Punto Biserial\n",
    "    for feature in predictores_categoricos:\n",
    "        corr, _ = pointbiserialr(dataset[feature], dataset[target_column])\n",
    "        if abs(corr) >= correlation_threshold:\n",
    "            selected_features.append(feature)\n",
    "\n",
    "    return dataset[selected_features + ['precio']]\n",
    "\n",
    "# Ejemplo de uso:\n",
    "# dataset = pd.read_csv(\"vivienda.csv\")\n",
    "# predictores_numericos = [\"longitud\", \"latitud\", \"antiguedad\", \"habitaciones\", \"ingresos\"]\n",
    "# predictores_categoricos = [\"cerca_escuela\", \"zona_rural\"]  # Atribut\n",
    "\n"
   ]
  },
  {
   "cell_type": "code",
   "execution_count": 132,
   "id": "d0983e10",
   "metadata": {},
   "outputs": [
    {
     "data": {
      "text/plain": [
       "Index(['longitud', 'latitud', 'antiguedad', 'habitaciones', 'dormitorios',\n",
       "       'poblacion', 'hogares', 'ingresos', 'precio', 'proximidad_<1H OCEAN',\n",
       "       'proximidad_INLAND', 'proximidad_ISLAND', 'proximidad_NEAR BAY',\n",
       "       'proximidad_NEAR OCEAN', 'habitaciones_por_hogar',\n",
       "       'dormitorios_por_habitaciones', 'poblacion_por_hogar'],\n",
       "      dtype='object')"
      ]
     },
     "execution_count": 132,
     "metadata": {},
     "output_type": "execute_result"
    }
   ],
   "source": [
    "v_copia_codificada.keys()"
   ]
  },
  {
   "cell_type": "code",
   "execution_count": 133,
   "id": "1a3c7beb",
   "metadata": {},
   "outputs": [],
   "source": [
    "predictores_seleccionados = selector2(v_copia_codificada, target_column='precio', \\\n",
    "       predictores_numericos=['longitud', 'latitud', 'antiguedad', 'habitaciones', 'dormitorios',\n",
    "       'hogares', 'ingresos', 'poblacion'], predictores_categoricos=['proximidad_<1H OCEAN',\n",
    "       'proximidad_INLAND', 'proximidad_ISLAND', 'proximidad_NEAR BAY',\n",
    "       'proximidad_NEAR OCEAN'] )"
   ]
  },
  {
   "cell_type": "code",
   "execution_count": 134,
   "id": "b1b517c1",
   "metadata": {},
   "outputs": [
    {
     "data": {
      "application/vnd.microsoft.datawrangler.viewer.v0+json": {
       "columns": [
        {
         "name": "index",
         "rawType": "int64",
         "type": "integer"
        },
        {
         "name": "longitud",
         "rawType": "float64",
         "type": "float"
        },
        {
         "name": "latitud",
         "rawType": "float64",
         "type": "float"
        },
        {
         "name": "antiguedad",
         "rawType": "float64",
         "type": "float"
        },
        {
         "name": "habitaciones",
         "rawType": "float64",
         "type": "float"
        },
        {
         "name": "hogares",
         "rawType": "float64",
         "type": "float"
        },
        {
         "name": "ingresos",
         "rawType": "float64",
         "type": "float"
        },
        {
         "name": "poblacion",
         "rawType": "float64",
         "type": "float"
        },
        {
         "name": "proximidad_<1H OCEAN",
         "rawType": "bool",
         "type": "boolean"
        },
        {
         "name": "proximidad_INLAND",
         "rawType": "bool",
         "type": "boolean"
        },
        {
         "name": "proximidad_ISLAND",
         "rawType": "bool",
         "type": "boolean"
        },
        {
         "name": "proximidad_NEAR BAY",
         "rawType": "bool",
         "type": "boolean"
        },
        {
         "name": "proximidad_NEAR OCEAN",
         "rawType": "bool",
         "type": "boolean"
        },
        {
         "name": "precio",
         "rawType": "float64",
         "type": "float"
        }
       ],
       "conversionMethod": "pd.DataFrame",
       "ref": "868d7b02-a190-49fa-9d05-08e8c63b4aa4",
       "rows": [
        [
         "0",
         "-122.23",
         "37.88",
         "41.0",
         "880.0",
         "126.0",
         "8.3252",
         "322.0",
         "False",
         "False",
         "False",
         "True",
         "False",
         "452600.0"
        ],
        [
         "1",
         "-122.22",
         "37.86",
         "21.0",
         "7099.0",
         "1138.0",
         "8.3014",
         "2401.0",
         "False",
         "False",
         "False",
         "True",
         "False",
         "358500.0"
        ],
        [
         "2",
         "-122.24",
         "37.85",
         "52.0",
         "1467.0",
         "177.0",
         "7.2574",
         "496.0",
         "False",
         "False",
         "False",
         "True",
         "False",
         "352100.0"
        ],
        [
         "3",
         "-122.25",
         "37.85",
         "52.0",
         "1274.0",
         "219.0",
         "5.6431",
         "558.0",
         "False",
         "False",
         "False",
         "True",
         "False",
         "341300.0"
        ],
        [
         "4",
         "-122.25",
         "37.85",
         "52.0",
         "1627.0",
         "259.0",
         "3.8462",
         "565.0",
         "False",
         "False",
         "False",
         "True",
         "False",
         "342200.0"
        ],
        [
         "5",
         "-122.25",
         "37.85",
         "52.0",
         "919.0",
         "193.0",
         "4.0368",
         "413.0",
         "False",
         "False",
         "False",
         "True",
         "False",
         "269700.0"
        ],
        [
         "6",
         "-122.25",
         "37.84",
         "52.0",
         "2535.0",
         "514.0",
         "3.6591",
         "1094.0",
         "False",
         "False",
         "False",
         "True",
         "False",
         "299200.0"
        ],
        [
         "7",
         "-122.25",
         "37.84",
         "52.0",
         "3104.0",
         "647.0",
         "3.12",
         "1157.0",
         "False",
         "False",
         "False",
         "True",
         "False",
         "241400.0"
        ],
        [
         "8",
         "-122.26",
         "37.84",
         "42.0",
         "2555.0",
         "595.0",
         "2.0804",
         "1206.0",
         "False",
         "False",
         "False",
         "True",
         "False",
         "226700.0"
        ],
        [
         "9",
         "-122.25",
         "37.84",
         "52.0",
         "3549.0",
         "714.0",
         "3.6912",
         "1551.0",
         "False",
         "False",
         "False",
         "True",
         "False",
         "261100.0"
        ],
        [
         "10",
         "-122.26",
         "37.85",
         "52.0",
         "2202.0",
         "402.0",
         "3.2031",
         "910.0",
         "False",
         "False",
         "False",
         "True",
         "False",
         "281500.0"
        ],
        [
         "11",
         "-122.26",
         "37.85",
         "52.0",
         "3503.0",
         "734.0",
         "3.2705",
         "1504.0",
         "False",
         "False",
         "False",
         "True",
         "False",
         "241800.0"
        ],
        [
         "12",
         "-122.26",
         "37.85",
         "52.0",
         "2491.0",
         "468.0",
         "3.075",
         "1098.0",
         "False",
         "False",
         "False",
         "True",
         "False",
         "213500.0"
        ],
        [
         "13",
         "-122.26",
         "37.84",
         "52.0",
         "696.0",
         "174.0",
         "2.6736",
         "345.0",
         "False",
         "False",
         "False",
         "True",
         "False",
         "191300.0"
        ],
        [
         "14",
         "-122.26",
         "37.85",
         "52.0",
         "2643.0",
         "620.0",
         "1.9167",
         "1212.0",
         "False",
         "False",
         "False",
         "True",
         "False",
         "159200.0"
        ],
        [
         "15",
         "-122.26",
         "37.85",
         "50.0",
         "1120.0",
         "264.0",
         "2.125",
         "697.0",
         "False",
         "False",
         "False",
         "True",
         "False",
         "140000.0"
        ],
        [
         "16",
         "-122.27",
         "37.85",
         "52.0",
         "1966.0",
         "331.0",
         "2.775",
         "793.0",
         "False",
         "False",
         "False",
         "True",
         "False",
         "152500.0"
        ],
        [
         "17",
         "-122.27",
         "37.85",
         "52.0",
         "1228.0",
         "303.0",
         "2.1202",
         "648.0",
         "False",
         "False",
         "False",
         "True",
         "False",
         "155500.0"
        ],
        [
         "18",
         "-122.26",
         "37.84",
         "50.0",
         "2239.0",
         "419.0",
         "1.9911",
         "990.0",
         "False",
         "False",
         "False",
         "True",
         "False",
         "158700.0"
        ],
        [
         "19",
         "-122.27",
         "37.84",
         "52.0",
         "1503.0",
         "275.0",
         "2.6033",
         "690.0",
         "False",
         "False",
         "False",
         "True",
         "False",
         "162900.0"
        ],
        [
         "20",
         "-122.27",
         "37.85",
         "40.0",
         "751.0",
         "166.0",
         "1.3578",
         "409.0",
         "False",
         "False",
         "False",
         "True",
         "False",
         "147500.0"
        ],
        [
         "21",
         "-122.27",
         "37.85",
         "42.0",
         "1639.0",
         "366.0",
         "1.7135",
         "929.0",
         "False",
         "False",
         "False",
         "True",
         "False",
         "159800.0"
        ],
        [
         "22",
         "-122.27",
         "37.84",
         "52.0",
         "2436.0",
         "478.0",
         "1.725",
         "1015.0",
         "False",
         "False",
         "False",
         "True",
         "False",
         "113900.0"
        ],
        [
         "23",
         "-122.27",
         "37.84",
         "52.0",
         "1688.0",
         "325.0",
         "2.1806",
         "853.0",
         "False",
         "False",
         "False",
         "True",
         "False",
         "99700.0"
        ],
        [
         "24",
         "-122.27",
         "37.84",
         "52.0",
         "2224.0",
         "422.0",
         "2.6",
         "1006.0",
         "False",
         "False",
         "False",
         "True",
         "False",
         "132600.0"
        ],
        [
         "25",
         "-122.28",
         "37.85",
         "41.0",
         "535.0",
         "119.0",
         "2.4038",
         "317.0",
         "False",
         "False",
         "False",
         "True",
         "False",
         "107500.0"
        ],
        [
         "26",
         "-122.28",
         "37.85",
         "49.0",
         "1130.0",
         "239.0",
         "2.4597",
         "607.0",
         "False",
         "False",
         "False",
         "True",
         "False",
         "93800.0"
        ],
        [
         "27",
         "-122.28",
         "37.85",
         "52.0",
         "1898.0",
         "397.0",
         "1.808",
         "1102.0",
         "False",
         "False",
         "False",
         "True",
         "False",
         "105500.0"
        ],
        [
         "28",
         "-122.28",
         "37.84",
         "50.0",
         "2082.0",
         "473.0",
         "1.6424",
         "1131.0",
         "False",
         "False",
         "False",
         "True",
         "False",
         "108900.0"
        ],
        [
         "29",
         "-122.28",
         "37.84",
         "52.0",
         "729.0",
         "155.0",
         "1.6875",
         "395.0",
         "False",
         "False",
         "False",
         "True",
         "False",
         "132000.0"
        ],
        [
         "30",
         "-122.28",
         "37.84",
         "49.0",
         "1916.0",
         "378.0",
         "1.9274",
         "863.0",
         "False",
         "False",
         "False",
         "True",
         "False",
         "122300.0"
        ],
        [
         "31",
         "-122.28",
         "37.84",
         "52.0",
         "2153.0",
         "441.0",
         "1.9615",
         "1168.0",
         "False",
         "False",
         "False",
         "True",
         "False",
         "115200.0"
        ],
        [
         "32",
         "-122.27",
         "37.84",
         "48.0",
         "1922.0",
         "335.0",
         "1.7969",
         "1026.0",
         "False",
         "False",
         "False",
         "True",
         "False",
         "110400.0"
        ],
        [
         "33",
         "-122.27",
         "37.83",
         "49.0",
         "1655.0",
         "329.0",
         "1.375",
         "754.0",
         "False",
         "False",
         "False",
         "True",
         "False",
         "104900.0"
        ],
        [
         "34",
         "-122.27",
         "37.83",
         "51.0",
         "2665.0",
         "536.0",
         "2.7303",
         "1258.0",
         "False",
         "False",
         "False",
         "True",
         "False",
         "109700.0"
        ],
        [
         "35",
         "-122.27",
         "37.83",
         "49.0",
         "1215.0",
         "264.0",
         "1.4861",
         "570.0",
         "False",
         "False",
         "False",
         "True",
         "False",
         "97200.0"
        ],
        [
         "36",
         "-122.27",
         "37.83",
         "48.0",
         "1798.0",
         "374.0",
         "1.0972",
         "987.0",
         "False",
         "False",
         "False",
         "True",
         "False",
         "104500.0"
        ],
        [
         "37",
         "-122.28",
         "37.83",
         "52.0",
         "1511.0",
         "403.0",
         "1.4103",
         "901.0",
         "False",
         "False",
         "False",
         "True",
         "False",
         "103900.0"
        ],
        [
         "38",
         "-122.26",
         "37.83",
         "52.0",
         "1470.0",
         "309.0",
         "3.48",
         "689.0",
         "False",
         "False",
         "False",
         "True",
         "False",
         "191400.0"
        ],
        [
         "39",
         "-122.26",
         "37.83",
         "52.0",
         "2432.0",
         "696.0",
         "2.5898",
         "1377.0",
         "False",
         "False",
         "False",
         "True",
         "False",
         "176000.0"
        ],
        [
         "40",
         "-122.26",
         "37.83",
         "52.0",
         "1665.0",
         "395.0",
         "2.0978",
         "946.0",
         "False",
         "False",
         "False",
         "True",
         "False",
         "155400.0"
        ],
        [
         "41",
         "-122.26",
         "37.83",
         "51.0",
         "936.0",
         "249.0",
         "1.2852",
         "517.0",
         "False",
         "False",
         "False",
         "True",
         "False",
         "150000.0"
        ],
        [
         "42",
         "-122.26",
         "37.84",
         "49.0",
         "713.0",
         "189.0",
         "1.025",
         "462.0",
         "False",
         "False",
         "False",
         "True",
         "False",
         "118800.0"
        ],
        [
         "43",
         "-122.26",
         "37.84",
         "52.0",
         "950.0",
         "198.0",
         "3.9643",
         "467.0",
         "False",
         "False",
         "False",
         "True",
         "False",
         "188800.0"
        ],
        [
         "44",
         "-122.26",
         "37.83",
         "52.0",
         "1443.0",
         "292.0",
         "3.0125",
         "660.0",
         "False",
         "False",
         "False",
         "True",
         "False",
         "184400.0"
        ],
        [
         "45",
         "-122.26",
         "37.83",
         "52.0",
         "1656.0",
         "382.0",
         "2.6768",
         "718.0",
         "False",
         "False",
         "False",
         "True",
         "False",
         "182300.0"
        ],
        [
         "46",
         "-122.26",
         "37.83",
         "50.0",
         "1125.0",
         "304.0",
         "2.026",
         "616.0",
         "False",
         "False",
         "False",
         "True",
         "False",
         "142500.0"
        ],
        [
         "47",
         "-122.27",
         "37.82",
         "43.0",
         "1007.0",
         "253.0",
         "1.7348",
         "558.0",
         "False",
         "False",
         "False",
         "True",
         "False",
         "137500.0"
        ],
        [
         "48",
         "-122.26",
         "37.82",
         "40.0",
         "624.0",
         "160.0",
         "0.9506",
         "423.0",
         "False",
         "False",
         "False",
         "True",
         "False",
         "187500.0"
        ],
        [
         "49",
         "-122.27",
         "37.82",
         "40.0",
         "946.0",
         "352.0",
         "1.775",
         "700.0",
         "False",
         "False",
         "False",
         "True",
         "False",
         "112500.0"
        ]
       ],
       "shape": {
        "columns": 13,
        "rows": 20640
       }
      },
      "text/html": [
       "<div>\n",
       "<style scoped>\n",
       "    .dataframe tbody tr th:only-of-type {\n",
       "        vertical-align: middle;\n",
       "    }\n",
       "\n",
       "    .dataframe tbody tr th {\n",
       "        vertical-align: top;\n",
       "    }\n",
       "\n",
       "    .dataframe thead th {\n",
       "        text-align: right;\n",
       "    }\n",
       "</style>\n",
       "<table border=\"1\" class=\"dataframe\">\n",
       "  <thead>\n",
       "    <tr style=\"text-align: right;\">\n",
       "      <th></th>\n",
       "      <th>longitud</th>\n",
       "      <th>latitud</th>\n",
       "      <th>antiguedad</th>\n",
       "      <th>habitaciones</th>\n",
       "      <th>hogares</th>\n",
       "      <th>ingresos</th>\n",
       "      <th>poblacion</th>\n",
       "      <th>proximidad_&lt;1H OCEAN</th>\n",
       "      <th>proximidad_INLAND</th>\n",
       "      <th>proximidad_ISLAND</th>\n",
       "      <th>proximidad_NEAR BAY</th>\n",
       "      <th>proximidad_NEAR OCEAN</th>\n",
       "      <th>precio</th>\n",
       "    </tr>\n",
       "  </thead>\n",
       "  <tbody>\n",
       "    <tr>\n",
       "      <th>0</th>\n",
       "      <td>-122.23</td>\n",
       "      <td>37.88</td>\n",
       "      <td>41.0</td>\n",
       "      <td>880.0</td>\n",
       "      <td>126.0</td>\n",
       "      <td>8.3252</td>\n",
       "      <td>322.0</td>\n",
       "      <td>False</td>\n",
       "      <td>False</td>\n",
       "      <td>False</td>\n",
       "      <td>True</td>\n",
       "      <td>False</td>\n",
       "      <td>452600.0</td>\n",
       "    </tr>\n",
       "    <tr>\n",
       "      <th>1</th>\n",
       "      <td>-122.22</td>\n",
       "      <td>37.86</td>\n",
       "      <td>21.0</td>\n",
       "      <td>7099.0</td>\n",
       "      <td>1138.0</td>\n",
       "      <td>8.3014</td>\n",
       "      <td>2401.0</td>\n",
       "      <td>False</td>\n",
       "      <td>False</td>\n",
       "      <td>False</td>\n",
       "      <td>True</td>\n",
       "      <td>False</td>\n",
       "      <td>358500.0</td>\n",
       "    </tr>\n",
       "    <tr>\n",
       "      <th>2</th>\n",
       "      <td>-122.24</td>\n",
       "      <td>37.85</td>\n",
       "      <td>52.0</td>\n",
       "      <td>1467.0</td>\n",
       "      <td>177.0</td>\n",
       "      <td>7.2574</td>\n",
       "      <td>496.0</td>\n",
       "      <td>False</td>\n",
       "      <td>False</td>\n",
       "      <td>False</td>\n",
       "      <td>True</td>\n",
       "      <td>False</td>\n",
       "      <td>352100.0</td>\n",
       "    </tr>\n",
       "    <tr>\n",
       "      <th>3</th>\n",
       "      <td>-122.25</td>\n",
       "      <td>37.85</td>\n",
       "      <td>52.0</td>\n",
       "      <td>1274.0</td>\n",
       "      <td>219.0</td>\n",
       "      <td>5.6431</td>\n",
       "      <td>558.0</td>\n",
       "      <td>False</td>\n",
       "      <td>False</td>\n",
       "      <td>False</td>\n",
       "      <td>True</td>\n",
       "      <td>False</td>\n",
       "      <td>341300.0</td>\n",
       "    </tr>\n",
       "    <tr>\n",
       "      <th>4</th>\n",
       "      <td>-122.25</td>\n",
       "      <td>37.85</td>\n",
       "      <td>52.0</td>\n",
       "      <td>1627.0</td>\n",
       "      <td>259.0</td>\n",
       "      <td>3.8462</td>\n",
       "      <td>565.0</td>\n",
       "      <td>False</td>\n",
       "      <td>False</td>\n",
       "      <td>False</td>\n",
       "      <td>True</td>\n",
       "      <td>False</td>\n",
       "      <td>342200.0</td>\n",
       "    </tr>\n",
       "    <tr>\n",
       "      <th>...</th>\n",
       "      <td>...</td>\n",
       "      <td>...</td>\n",
       "      <td>...</td>\n",
       "      <td>...</td>\n",
       "      <td>...</td>\n",
       "      <td>...</td>\n",
       "      <td>...</td>\n",
       "      <td>...</td>\n",
       "      <td>...</td>\n",
       "      <td>...</td>\n",
       "      <td>...</td>\n",
       "      <td>...</td>\n",
       "      <td>...</td>\n",
       "    </tr>\n",
       "    <tr>\n",
       "      <th>20635</th>\n",
       "      <td>-121.09</td>\n",
       "      <td>39.48</td>\n",
       "      <td>25.0</td>\n",
       "      <td>1665.0</td>\n",
       "      <td>330.0</td>\n",
       "      <td>1.5603</td>\n",
       "      <td>845.0</td>\n",
       "      <td>False</td>\n",
       "      <td>True</td>\n",
       "      <td>False</td>\n",
       "      <td>False</td>\n",
       "      <td>False</td>\n",
       "      <td>78100.0</td>\n",
       "    </tr>\n",
       "    <tr>\n",
       "      <th>20636</th>\n",
       "      <td>-121.21</td>\n",
       "      <td>39.49</td>\n",
       "      <td>18.0</td>\n",
       "      <td>697.0</td>\n",
       "      <td>114.0</td>\n",
       "      <td>2.5568</td>\n",
       "      <td>356.0</td>\n",
       "      <td>False</td>\n",
       "      <td>True</td>\n",
       "      <td>False</td>\n",
       "      <td>False</td>\n",
       "      <td>False</td>\n",
       "      <td>77100.0</td>\n",
       "    </tr>\n",
       "    <tr>\n",
       "      <th>20637</th>\n",
       "      <td>-121.22</td>\n",
       "      <td>39.43</td>\n",
       "      <td>17.0</td>\n",
       "      <td>2254.0</td>\n",
       "      <td>433.0</td>\n",
       "      <td>1.7000</td>\n",
       "      <td>1007.0</td>\n",
       "      <td>False</td>\n",
       "      <td>True</td>\n",
       "      <td>False</td>\n",
       "      <td>False</td>\n",
       "      <td>False</td>\n",
       "      <td>92300.0</td>\n",
       "    </tr>\n",
       "    <tr>\n",
       "      <th>20638</th>\n",
       "      <td>-121.32</td>\n",
       "      <td>39.43</td>\n",
       "      <td>18.0</td>\n",
       "      <td>1860.0</td>\n",
       "      <td>349.0</td>\n",
       "      <td>1.8672</td>\n",
       "      <td>741.0</td>\n",
       "      <td>False</td>\n",
       "      <td>True</td>\n",
       "      <td>False</td>\n",
       "      <td>False</td>\n",
       "      <td>False</td>\n",
       "      <td>84700.0</td>\n",
       "    </tr>\n",
       "    <tr>\n",
       "      <th>20639</th>\n",
       "      <td>-121.24</td>\n",
       "      <td>39.37</td>\n",
       "      <td>16.0</td>\n",
       "      <td>2785.0</td>\n",
       "      <td>530.0</td>\n",
       "      <td>2.3886</td>\n",
       "      <td>1387.0</td>\n",
       "      <td>False</td>\n",
       "      <td>True</td>\n",
       "      <td>False</td>\n",
       "      <td>False</td>\n",
       "      <td>False</td>\n",
       "      <td>89400.0</td>\n",
       "    </tr>\n",
       "  </tbody>\n",
       "</table>\n",
       "<p>20640 rows × 13 columns</p>\n",
       "</div>"
      ],
      "text/plain": [
       "       longitud  latitud  antiguedad  habitaciones  hogares  ingresos  \\\n",
       "0       -122.23    37.88        41.0         880.0    126.0    8.3252   \n",
       "1       -122.22    37.86        21.0        7099.0   1138.0    8.3014   \n",
       "2       -122.24    37.85        52.0        1467.0    177.0    7.2574   \n",
       "3       -122.25    37.85        52.0        1274.0    219.0    5.6431   \n",
       "4       -122.25    37.85        52.0        1627.0    259.0    3.8462   \n",
       "...         ...      ...         ...           ...      ...       ...   \n",
       "20635   -121.09    39.48        25.0        1665.0    330.0    1.5603   \n",
       "20636   -121.21    39.49        18.0         697.0    114.0    2.5568   \n",
       "20637   -121.22    39.43        17.0        2254.0    433.0    1.7000   \n",
       "20638   -121.32    39.43        18.0        1860.0    349.0    1.8672   \n",
       "20639   -121.24    39.37        16.0        2785.0    530.0    2.3886   \n",
       "\n",
       "       poblacion  proximidad_<1H OCEAN  proximidad_INLAND  proximidad_ISLAND  \\\n",
       "0          322.0                 False              False              False   \n",
       "1         2401.0                 False              False              False   \n",
       "2          496.0                 False              False              False   \n",
       "3          558.0                 False              False              False   \n",
       "4          565.0                 False              False              False   \n",
       "...          ...                   ...                ...                ...   \n",
       "20635      845.0                 False               True              False   \n",
       "20636      356.0                 False               True              False   \n",
       "20637     1007.0                 False               True              False   \n",
       "20638      741.0                 False               True              False   \n",
       "20639     1387.0                 False               True              False   \n",
       "\n",
       "       proximidad_NEAR BAY  proximidad_NEAR OCEAN    precio  \n",
       "0                     True                  False  452600.0  \n",
       "1                     True                  False  358500.0  \n",
       "2                     True                  False  352100.0  \n",
       "3                     True                  False  341300.0  \n",
       "4                     True                  False  342200.0  \n",
       "...                    ...                    ...       ...  \n",
       "20635                False                  False   78100.0  \n",
       "20636                False                  False   77100.0  \n",
       "20637                False                  False   92300.0  \n",
       "20638                False                  False   84700.0  \n",
       "20639                False                  False   89400.0  \n",
       "\n",
       "[20640 rows x 13 columns]"
      ]
     },
     "execution_count": 134,
     "metadata": {},
     "output_type": "execute_result"
    }
   ],
   "source": [
    "predictores_seleccionados"
   ]
  },
  {
   "cell_type": "code",
   "execution_count": 68,
   "id": "77970a1a",
   "metadata": {},
   "outputs": [],
   "source": [
    "v_copia_codificada_seleccionada = v_copia_codificada[predictores_seleccionados+['precio']]"
   ]
  },
  {
   "cell_type": "code",
   "execution_count": 69,
   "id": "5c432ce6",
   "metadata": {},
   "outputs": [
    {
     "data": {
      "application/vnd.microsoft.datawrangler.viewer.v0+json": {
       "columns": [
        {
         "name": "index",
         "rawType": "int64",
         "type": "integer"
        },
        {
         "name": "longitud",
         "rawType": "float64",
         "type": "float"
        },
        {
         "name": "latitud",
         "rawType": "float64",
         "type": "float"
        },
        {
         "name": "antiguedad",
         "rawType": "float64",
         "type": "float"
        },
        {
         "name": "habitaciones",
         "rawType": "float64",
         "type": "float"
        },
        {
         "name": "hogares",
         "rawType": "float64",
         "type": "float"
        },
        {
         "name": "ingresos",
         "rawType": "float64",
         "type": "float"
        },
        {
         "name": "poblacion",
         "rawType": "float64",
         "type": "float"
        },
        {
         "name": "proximidad_<1H OCEAN",
         "rawType": "bool",
         "type": "boolean"
        },
        {
         "name": "proximidad_INLAND",
         "rawType": "bool",
         "type": "boolean"
        },
        {
         "name": "proximidad_ISLAND",
         "rawType": "bool",
         "type": "boolean"
        },
        {
         "name": "proximidad_NEAR BAY",
         "rawType": "bool",
         "type": "boolean"
        },
        {
         "name": "proximidad_NEAR OCEAN",
         "rawType": "bool",
         "type": "boolean"
        },
        {
         "name": "precio",
         "rawType": "float64",
         "type": "float"
        }
       ],
       "conversionMethod": "pd.DataFrame",
       "ref": "0c1dffd3-7a13-45c9-a3e9-69bfd36954a0",
       "rows": [
        [
         "0",
         "-122.23",
         "37.88",
         "41.0",
         "880.0",
         "126.0",
         "8.3252",
         "322.0",
         "False",
         "False",
         "False",
         "True",
         "False",
         "452600.0"
        ],
        [
         "1",
         "-122.22",
         "37.86",
         "21.0",
         "7099.0",
         "1138.0",
         "8.3014",
         "2401.0",
         "False",
         "False",
         "False",
         "True",
         "False",
         "358500.0"
        ],
        [
         "2",
         "-122.24",
         "37.85",
         "52.0",
         "1467.0",
         "177.0",
         "7.2574",
         "496.0",
         "False",
         "False",
         "False",
         "True",
         "False",
         "352100.0"
        ],
        [
         "3",
         "-122.25",
         "37.85",
         "52.0",
         "1274.0",
         "219.0",
         "5.6431",
         "558.0",
         "False",
         "False",
         "False",
         "True",
         "False",
         "341300.0"
        ],
        [
         "4",
         "-122.25",
         "37.85",
         "52.0",
         "1627.0",
         "259.0",
         "3.8462",
         "565.0",
         "False",
         "False",
         "False",
         "True",
         "False",
         "342200.0"
        ]
       ],
       "shape": {
        "columns": 13,
        "rows": 5
       }
      },
      "text/html": [
       "<div>\n",
       "<style scoped>\n",
       "    .dataframe tbody tr th:only-of-type {\n",
       "        vertical-align: middle;\n",
       "    }\n",
       "\n",
       "    .dataframe tbody tr th {\n",
       "        vertical-align: top;\n",
       "    }\n",
       "\n",
       "    .dataframe thead th {\n",
       "        text-align: right;\n",
       "    }\n",
       "</style>\n",
       "<table border=\"1\" class=\"dataframe\">\n",
       "  <thead>\n",
       "    <tr style=\"text-align: right;\">\n",
       "      <th></th>\n",
       "      <th>longitud</th>\n",
       "      <th>latitud</th>\n",
       "      <th>antiguedad</th>\n",
       "      <th>habitaciones</th>\n",
       "      <th>hogares</th>\n",
       "      <th>ingresos</th>\n",
       "      <th>poblacion</th>\n",
       "      <th>proximidad_&lt;1H OCEAN</th>\n",
       "      <th>proximidad_INLAND</th>\n",
       "      <th>proximidad_ISLAND</th>\n",
       "      <th>proximidad_NEAR BAY</th>\n",
       "      <th>proximidad_NEAR OCEAN</th>\n",
       "      <th>precio</th>\n",
       "    </tr>\n",
       "  </thead>\n",
       "  <tbody>\n",
       "    <tr>\n",
       "      <th>0</th>\n",
       "      <td>-122.23</td>\n",
       "      <td>37.88</td>\n",
       "      <td>41.0</td>\n",
       "      <td>880.0</td>\n",
       "      <td>126.0</td>\n",
       "      <td>8.3252</td>\n",
       "      <td>322.0</td>\n",
       "      <td>False</td>\n",
       "      <td>False</td>\n",
       "      <td>False</td>\n",
       "      <td>True</td>\n",
       "      <td>False</td>\n",
       "      <td>452600.0</td>\n",
       "    </tr>\n",
       "    <tr>\n",
       "      <th>1</th>\n",
       "      <td>-122.22</td>\n",
       "      <td>37.86</td>\n",
       "      <td>21.0</td>\n",
       "      <td>7099.0</td>\n",
       "      <td>1138.0</td>\n",
       "      <td>8.3014</td>\n",
       "      <td>2401.0</td>\n",
       "      <td>False</td>\n",
       "      <td>False</td>\n",
       "      <td>False</td>\n",
       "      <td>True</td>\n",
       "      <td>False</td>\n",
       "      <td>358500.0</td>\n",
       "    </tr>\n",
       "    <tr>\n",
       "      <th>2</th>\n",
       "      <td>-122.24</td>\n",
       "      <td>37.85</td>\n",
       "      <td>52.0</td>\n",
       "      <td>1467.0</td>\n",
       "      <td>177.0</td>\n",
       "      <td>7.2574</td>\n",
       "      <td>496.0</td>\n",
       "      <td>False</td>\n",
       "      <td>False</td>\n",
       "      <td>False</td>\n",
       "      <td>True</td>\n",
       "      <td>False</td>\n",
       "      <td>352100.0</td>\n",
       "    </tr>\n",
       "    <tr>\n",
       "      <th>3</th>\n",
       "      <td>-122.25</td>\n",
       "      <td>37.85</td>\n",
       "      <td>52.0</td>\n",
       "      <td>1274.0</td>\n",
       "      <td>219.0</td>\n",
       "      <td>5.6431</td>\n",
       "      <td>558.0</td>\n",
       "      <td>False</td>\n",
       "      <td>False</td>\n",
       "      <td>False</td>\n",
       "      <td>True</td>\n",
       "      <td>False</td>\n",
       "      <td>341300.0</td>\n",
       "    </tr>\n",
       "    <tr>\n",
       "      <th>4</th>\n",
       "      <td>-122.25</td>\n",
       "      <td>37.85</td>\n",
       "      <td>52.0</td>\n",
       "      <td>1627.0</td>\n",
       "      <td>259.0</td>\n",
       "      <td>3.8462</td>\n",
       "      <td>565.0</td>\n",
       "      <td>False</td>\n",
       "      <td>False</td>\n",
       "      <td>False</td>\n",
       "      <td>True</td>\n",
       "      <td>False</td>\n",
       "      <td>342200.0</td>\n",
       "    </tr>\n",
       "  </tbody>\n",
       "</table>\n",
       "</div>"
      ],
      "text/plain": [
       "   longitud  latitud  antiguedad  habitaciones  hogares  ingresos  poblacion  \\\n",
       "0   -122.23    37.88        41.0         880.0    126.0    8.3252      322.0   \n",
       "1   -122.22    37.86        21.0        7099.0   1138.0    8.3014     2401.0   \n",
       "2   -122.24    37.85        52.0        1467.0    177.0    7.2574      496.0   \n",
       "3   -122.25    37.85        52.0        1274.0    219.0    5.6431      558.0   \n",
       "4   -122.25    37.85        52.0        1627.0    259.0    3.8462      565.0   \n",
       "\n",
       "   proximidad_<1H OCEAN  proximidad_INLAND  proximidad_ISLAND  \\\n",
       "0                 False              False              False   \n",
       "1                 False              False              False   \n",
       "2                 False              False              False   \n",
       "3                 False              False              False   \n",
       "4                 False              False              False   \n",
       "\n",
       "   proximidad_NEAR BAY  proximidad_NEAR OCEAN    precio  \n",
       "0                 True                  False  452600.0  \n",
       "1                 True                  False  358500.0  \n",
       "2                 True                  False  352100.0  \n",
       "3                 True                  False  341300.0  \n",
       "4                 True                  False  342200.0  "
      ]
     },
     "execution_count": 69,
     "metadata": {},
     "output_type": "execute_result"
    }
   ],
   "source": [
    "v_copia_codificada_seleccionada.head()"
   ]
  },
  {
   "cell_type": "code",
   "execution_count": 70,
   "id": "320677fa",
   "metadata": {},
   "outputs": [
    {
     "data": {
      "text/plain": [
       "(17, 13)"
      ]
     },
     "execution_count": 70,
     "metadata": {},
     "output_type": "execute_result"
    }
   ],
   "source": [
    "len(v_copia_codificada.columns), len(v_copia_codificada_seleccionada.columns)"
   ]
  },
  {
   "cell_type": "markdown",
   "id": "7e0c9a3e",
   "metadata": {},
   "source": [
    "\n",
    "### **Identificación y eliminación de valores atípicos (outliers)**\n"
   ]
  },
  {
   "cell_type": "markdown",
   "id": "22fd8a0d",
   "metadata": {},
   "source": [
    "1. **Uso de boxplots para detectar valores extremos**:\n",
    "   - Un boxplot visualiza valores atípicos:\n"
   ]
  },
  {
   "cell_type": "code",
   "execution_count": 71,
   "id": "a9d87a88",
   "metadata": {},
   "outputs": [
    {
     "data": {
      "text/plain": [
       "{'marker': 'o', 'color': 'red', 'markersize': 8}"
      ]
     },
     "execution_count": 71,
     "metadata": {},
     "output_type": "execute_result"
    }
   ],
   "source": [
    "# Configurar propiedades de los valores atípicos (resaltarlos en rojo)\n",
    "# flierprops: como resaltar a los que busco  \n",
    "flierprops = dict(marker='o', color='red', markersize=8)\n",
    "flierprops  \n"
   ]
  },
  {
   "cell_type": "code",
   "execution_count": 72,
   "id": "d71e595d",
   "metadata": {},
   "outputs": [
    {
     "data": {
      "image/png": "[encoded data removed]",
      "text/plain": [
       "<Figure size 640x480 with 1 Axes>"
      ]
     },
     "metadata": {},
     "output_type": "display_data"
    }
   ],
   "source": [
    "import matplotlib.pyplot as plt \n",
    "plt.xlabel('Precio de Vivienda')\n",
    "plt.hist(v_copia_codificada_seleccionada.precio, label = 'Precio de vivienda')\n",
    "plt.show() "
   ]
  },
  {
   "cell_type": "code",
   "execution_count": 73,
   "id": "7685986e",
   "metadata": {},
   "outputs": [
    {
     "data": {
      "image/png": "[encoded data removed]",
      "text/plain": [
       "<Figure size 640x480 with 1 Axes>"
      ]
     },
     "metadata": {},
     "output_type": "display_data"
    }
   ],
   "source": [
    "# Crear el diagrama de caja\n",
    "import matplotlib.pyplot as plt \n",
    "v_copia_codificada_seleccionada.boxplot(column=[\"precio\"], flierprops=flierprops)\n",
    "save_fig('caja_con_valores_atipicos')\n",
    "plt.show() "
   ]
  },
  {
   "cell_type": "markdown",
   "id": "e9eb331a",
   "metadata": {},
   "source": [
    "\n",
    "2. **Aplicación del rango intercuartílico (IQR)**:\n",
    "   - Detectar y eliminar outliers usando el IQR:\n"
   ]
  },
  {
   "cell_type": "code",
   "execution_count": 74,
   "id": "576a9d80",
   "metadata": {},
   "outputs": [
    {
     "data": {
      "text/plain": [
       "np.float64(2.5633999999999997)"
      ]
     },
     "execution_count": 74,
     "metadata": {},
     "output_type": "execute_result"
    }
   ],
   "source": [
    "Q1 = v_copia[\"ingresos\"].quantile(0.25)\n",
    "Q1"
   ]
  },
  {
   "cell_type": "code",
   "execution_count": 98,
   "id": "78649b67",
   "metadata": {},
   "outputs": [],
   "source": [
    "def eliminar_valores_atipicos3(dataset, columna):\n",
    "    \"\"\"_summary_\n",
    "\n",
    "    Args:\n",
    "        dataset (dataframe): _description_\n",
    "        columna (str): _description_\n",
    "\n",
    "    Returns:\n",
    "        dataframe: _description_\n",
    "    \"\"\"\n",
    "    Q1 = dataset[columna].quantile(0.25)\n",
    "    Q3 = dataset[columna].quantile(0.75)\n",
    "    IQR = Q3 - Q1                          # rango intercuartílico \n",
    "    lower_bound = Q1 - 1.5 * IQR           # cota inferior \n",
    "    upper_bound = Q3 + 1.5 * IQR           # cota superior \n",
    "    return dataset.iloc[dataset[(dataset[columna] >= lower_bound) & (dataset[columna] <= upper_bound)].index] \n",
    "        \n"
   ]
  },
  {
   "cell_type": "code",
   "execution_count": 99,
   "id": "ee37bd0e",
   "metadata": {},
   "outputs": [],
   "source": [
    "\n",
    "v_copia_codificada_seleccionada_sin_valores_atipicos = eliminar_valores_atipicos3(v_copia_codificada_seleccionada,\\\n",
    "    'precio')\n"
   ]
  },
  {
   "cell_type": "code",
   "execution_count": 97,
   "id": "af958731",
   "metadata": {},
   "outputs": [
    {
     "name": "stdout",
     "output_type": "stream",
     "text": [
      "El número de observaciones eliminadas fue 1071\n"
     ]
    }
   ],
   "source": [
    "print('El número de observaciones eliminadas fue', len(v_copia_codificada_seleccionada) - len(v_copia_codificada_seleccionada_sin_valores_atipicos))"
   ]
  },
  {
   "cell_type": "markdown",
   "id": "cadcf0b6",
   "metadata": {},
   "source": [
    "\n",
    "---\n",
    "\n",
    "### **Estandarizando de datos**\n",
    "- Es esencial para variables en diferentes escalas, como ingresos y valores de vivienda:\n"
   ]
  },
  {
   "cell_type": "code",
   "execution_count": 78,
   "id": "d773a3bb",
   "metadata": {},
   "outputs": [
    {
     "data": {
      "application/vnd.microsoft.datawrangler.viewer.v0+json": {
       "columns": [
        {
         "name": "index",
         "rawType": "int64",
         "type": "integer"
        },
        {
         "name": "longitud",
         "rawType": "float64",
         "type": "float"
        },
        {
         "name": "latitud",
         "rawType": "float64",
         "type": "float"
        },
        {
         "name": "antiguedad",
         "rawType": "float64",
         "type": "float"
        },
        {
         "name": "habitaciones",
         "rawType": "float64",
         "type": "float"
        },
        {
         "name": "hogares",
         "rawType": "float64",
         "type": "float"
        },
        {
         "name": "ingresos",
         "rawType": "float64",
         "type": "float"
        },
        {
         "name": "poblacion",
         "rawType": "float64",
         "type": "float"
        },
        {
         "name": "proximidad_<1H OCEAN",
         "rawType": "bool",
         "type": "boolean"
        },
        {
         "name": "proximidad_INLAND",
         "rawType": "bool",
         "type": "boolean"
        },
        {
         "name": "proximidad_ISLAND",
         "rawType": "bool",
         "type": "boolean"
        },
        {
         "name": "proximidad_NEAR BAY",
         "rawType": "bool",
         "type": "boolean"
        },
        {
         "name": "proximidad_NEAR OCEAN",
         "rawType": "bool",
         "type": "boolean"
        },
        {
         "name": "precio",
         "rawType": "float64",
         "type": "float"
        }
       ],
       "conversionMethod": "pd.DataFrame",
       "ref": "1830b8ce-c80f-40fe-aff6-7533ff21ae8c",
       "rows": [
        [
         "0",
         "-122.23",
         "37.88",
         "41.0",
         "880.0",
         "126.0",
         "8.3252",
         "322.0",
         "False",
         "False",
         "False",
         "True",
         "False",
         "452600.0"
        ],
        [
         "1",
         "-122.22",
         "37.86",
         "21.0",
         "7099.0",
         "1138.0",
         "8.3014",
         "2401.0",
         "False",
         "False",
         "False",
         "True",
         "False",
         "358500.0"
        ],
        [
         "2",
         "-122.24",
         "37.85",
         "52.0",
         "1467.0",
         "177.0",
         "7.2574",
         "496.0",
         "False",
         "False",
         "False",
         "True",
         "False",
         "352100.0"
        ],
        [
         "3",
         "-122.25",
         "37.85",
         "52.0",
         "1274.0",
         "219.0",
         "5.6431",
         "558.0",
         "False",
         "False",
         "False",
         "True",
         "False",
         "341300.0"
        ],
        [
         "4",
         "-122.25",
         "37.85",
         "52.0",
         "1627.0",
         "259.0",
         "3.8462",
         "565.0",
         "False",
         "False",
         "False",
         "True",
         "False",
         "342200.0"
        ]
       ],
       "shape": {
        "columns": 13,
        "rows": 5
       }
      },
      "text/html": [
       "<div>\n",
       "<style scoped>\n",
       "    .dataframe tbody tr th:only-of-type {\n",
       "        vertical-align: middle;\n",
       "    }\n",
       "\n",
       "    .dataframe tbody tr th {\n",
       "        vertical-align: top;\n",
       "    }\n",
       "\n",
       "    .dataframe thead th {\n",
       "        text-align: right;\n",
       "    }\n",
       "</style>\n",
       "<table border=\"1\" class=\"dataframe\">\n",
       "  <thead>\n",
       "    <tr style=\"text-align: right;\">\n",
       "      <th></th>\n",
       "      <th>longitud</th>\n",
       "      <th>latitud</th>\n",
       "      <th>antiguedad</th>\n",
       "      <th>habitaciones</th>\n",
       "      <th>hogares</th>\n",
       "      <th>ingresos</th>\n",
       "      <th>poblacion</th>\n",
       "      <th>proximidad_&lt;1H OCEAN</th>\n",
       "      <th>proximidad_INLAND</th>\n",
       "      <th>proximidad_ISLAND</th>\n",
       "      <th>proximidad_NEAR BAY</th>\n",
       "      <th>proximidad_NEAR OCEAN</th>\n",
       "      <th>precio</th>\n",
       "    </tr>\n",
       "  </thead>\n",
       "  <tbody>\n",
       "    <tr>\n",
       "      <th>0</th>\n",
       "      <td>-122.23</td>\n",
       "      <td>37.88</td>\n",
       "      <td>41.0</td>\n",
       "      <td>880.0</td>\n",
       "      <td>126.0</td>\n",
       "      <td>8.3252</td>\n",
       "      <td>322.0</td>\n",
       "      <td>False</td>\n",
       "      <td>False</td>\n",
       "      <td>False</td>\n",
       "      <td>True</td>\n",
       "      <td>False</td>\n",
       "      <td>452600.0</td>\n",
       "    </tr>\n",
       "    <tr>\n",
       "      <th>1</th>\n",
       "      <td>-122.22</td>\n",
       "      <td>37.86</td>\n",
       "      <td>21.0</td>\n",
       "      <td>7099.0</td>\n",
       "      <td>1138.0</td>\n",
       "      <td>8.3014</td>\n",
       "      <td>2401.0</td>\n",
       "      <td>False</td>\n",
       "      <td>False</td>\n",
       "      <td>False</td>\n",
       "      <td>True</td>\n",
       "      <td>False</td>\n",
       "      <td>358500.0</td>\n",
       "    </tr>\n",
       "    <tr>\n",
       "      <th>2</th>\n",
       "      <td>-122.24</td>\n",
       "      <td>37.85</td>\n",
       "      <td>52.0</td>\n",
       "      <td>1467.0</td>\n",
       "      <td>177.0</td>\n",
       "      <td>7.2574</td>\n",
       "      <td>496.0</td>\n",
       "      <td>False</td>\n",
       "      <td>False</td>\n",
       "      <td>False</td>\n",
       "      <td>True</td>\n",
       "      <td>False</td>\n",
       "      <td>352100.0</td>\n",
       "    </tr>\n",
       "    <tr>\n",
       "      <th>3</th>\n",
       "      <td>-122.25</td>\n",
       "      <td>37.85</td>\n",
       "      <td>52.0</td>\n",
       "      <td>1274.0</td>\n",
       "      <td>219.0</td>\n",
       "      <td>5.6431</td>\n",
       "      <td>558.0</td>\n",
       "      <td>False</td>\n",
       "      <td>False</td>\n",
       "      <td>False</td>\n",
       "      <td>True</td>\n",
       "      <td>False</td>\n",
       "      <td>341300.0</td>\n",
       "    </tr>\n",
       "    <tr>\n",
       "      <th>4</th>\n",
       "      <td>-122.25</td>\n",
       "      <td>37.85</td>\n",
       "      <td>52.0</td>\n",
       "      <td>1627.0</td>\n",
       "      <td>259.0</td>\n",
       "      <td>3.8462</td>\n",
       "      <td>565.0</td>\n",
       "      <td>False</td>\n",
       "      <td>False</td>\n",
       "      <td>False</td>\n",
       "      <td>True</td>\n",
       "      <td>False</td>\n",
       "      <td>342200.0</td>\n",
       "    </tr>\n",
       "  </tbody>\n",
       "</table>\n",
       "</div>"
      ],
      "text/plain": [
       "   longitud  latitud  antiguedad  habitaciones  hogares  ingresos  poblacion  \\\n",
       "0   -122.23    37.88        41.0         880.0    126.0    8.3252      322.0   \n",
       "1   -122.22    37.86        21.0        7099.0   1138.0    8.3014     2401.0   \n",
       "2   -122.24    37.85        52.0        1467.0    177.0    7.2574      496.0   \n",
       "3   -122.25    37.85        52.0        1274.0    219.0    5.6431      558.0   \n",
       "4   -122.25    37.85        52.0        1627.0    259.0    3.8462      565.0   \n",
       "\n",
       "   proximidad_<1H OCEAN  proximidad_INLAND  proximidad_ISLAND  \\\n",
       "0                 False              False              False   \n",
       "1                 False              False              False   \n",
       "2                 False              False              False   \n",
       "3                 False              False              False   \n",
       "4                 False              False              False   \n",
       "\n",
       "   proximidad_NEAR BAY  proximidad_NEAR OCEAN    precio  \n",
       "0                 True                  False  452600.0  \n",
       "1                 True                  False  358500.0  \n",
       "2                 True                  False  352100.0  \n",
       "3                 True                  False  341300.0  \n",
       "4                 True                  False  342200.0  "
      ]
     },
     "execution_count": 78,
     "metadata": {},
     "output_type": "execute_result"
    }
   ],
   "source": [
    "v_copia_codificada_seleccionada_sin_valores_atipicos.head() "
   ]
  },
  {
   "cell_type": "code",
   "execution_count": 79,
   "id": "67b577ce",
   "metadata": {},
   "outputs": [
    {
     "data": {
      "text/plain": [
       "Index(['longitud', 'latitud', 'antiguedad', 'habitaciones', 'hogares',\n",
       "       'ingresos', 'poblacion', 'proximidad_<1H OCEAN', 'proximidad_INLAND',\n",
       "       'proximidad_ISLAND', 'proximidad_NEAR BAY', 'proximidad_NEAR OCEAN',\n",
       "       'precio'],\n",
       "      dtype='object')"
      ]
     },
     "execution_count": 79,
     "metadata": {},
     "output_type": "execute_result"
    }
   ],
   "source": [
    "v_copia_codificada_seleccionada_sin_valores_atipicos.keys()"
   ]
  },
  {
   "cell_type": "code",
   "execution_count": 80,
   "id": "c07798dd",
   "metadata": {},
   "outputs": [],
   "source": [
    "columnas_a_estandarizar = ['latitud', 'antiguedad', 'habitaciones', 'hogares', 'ingresos']"
   ]
  },
  {
   "cell_type": "code",
   "execution_count": 81,
   "id": "fb44aa37",
   "metadata": {},
   "outputs": [],
   "source": [
    "\n",
    "def estandarizar4(dataset, columnas_a_estandarizar):\n",
    "    from sklearn.preprocessing import StandardScaler\n",
    "    scaler = StandardScaler() # creamos el objeto particular escalador\n",
    "    dataset_num = dataset[columnas_a_estandarizar]\n",
    "    dataset[columnas_a_estandarizar] = scaler.fit_transform(dataset_num) # metodología de reasignación\n",
    "    # Ojo, es clave modificar por reasignación a solo las columnas \n",
    "    # que queremos estandarizar\n",
    "    return dataset \n",
    "\n"
   ]
  },
  {
   "cell_type": "code",
   "execution_count": 35,
   "id": "785ee9fe",
   "metadata": {},
   "outputs": [
    {
     "name": "stderr",
     "output_type": "stream",
     "text": [
      "C:\\Users\\marco\\AppData\\Local\\Temp\\ipykernel_15592\\2657819319.py:5: SettingWithCopyWarning: \n",
      "A value is trying to be set on a copy of a slice from a DataFrame.\n",
      "Try using .loc[row_indexer,col_indexer] = value instead\n",
      "\n",
      "See the caveats in the documentation: https://pandas.pydata.org/pandas-docs/stable/user_guide/indexing.html#returning-a-view-versus-a-copy\n",
      "  dataset[columnas_a_estandarizar] = scaler.fit_transform(dataset_num) # metodología de reasignación\n"
     ]
    }
   ],
   "source": [
    "v_copia_codificada_seleccionada_sin_valores_atipicos_escalada = estandarizar4(v_copia_codificada_seleccionada_sin_valores_atipicos,\\\n",
    "    columnas_a_estandarizar = columnas_a_estandarizar)"
   ]
  },
  {
   "cell_type": "code",
   "execution_count": 82,
   "id": "dc42fa5e",
   "metadata": {},
   "outputs": [],
   "source": [
    "v_copia_preprocesada = v_copia_codificada_seleccionada_sin_valores_atipicos_escalada"
   ]
  },
  {
   "cell_type": "code",
   "execution_count": 83,
   "id": "99a2f8af",
   "metadata": {},
   "outputs": [
    {
     "data": {
      "application/vnd.microsoft.datawrangler.viewer.v0+json": {
       "columns": [
        {
         "name": "index",
         "rawType": "int64",
         "type": "integer"
        },
        {
         "name": "latitud",
         "rawType": "float64",
         "type": "float"
        },
        {
         "name": "antiguedad",
         "rawType": "float64",
         "type": "float"
        },
        {
         "name": "habitaciones",
         "rawType": "float64",
         "type": "float"
        },
        {
         "name": "hogares",
         "rawType": "float64",
         "type": "float"
        },
        {
         "name": "ingresos",
         "rawType": "float64",
         "type": "float"
        },
        {
         "name": "proximidad_<1H OCEAN",
         "rawType": "bool",
         "type": "boolean"
        },
        {
         "name": "proximidad_INLAND",
         "rawType": "bool",
         "type": "boolean"
        },
        {
         "name": "proximidad_NEAR BAY",
         "rawType": "bool",
         "type": "boolean"
        },
        {
         "name": "proximidad_NEAR OCEAN",
         "rawType": "bool",
         "type": "boolean"
        },
        {
         "name": "precio",
         "rawType": "float64",
         "type": "float"
        }
       ],
       "conversionMethod": "pd.DataFrame",
       "ref": "f01952f0-924a-45e4-b25b-d18061fa6135",
       "rows": [
        [
         "0",
         "1.0348165598940622",
         "1.011986118857888",
         "-0.7969251335251792",
         "-0.9791551034048751",
         "2.9909954451490552",
         "False",
         "False",
         "True",
         "False",
         "452600.0"
        ],
        [
         "1",
         "1.025518351980946",
         "-0.5883400595488621",
         "2.051432439567421",
         "1.6604787123456222",
         "2.9757183405048178",
         "False",
         "False",
         "True",
         "False",
         "358500.0"
        ],
        [
         "2",
         "1.0208692480243897",
         "1.8921655169816007",
         "-0.5280738880829288",
         "-0.8461300790933381",
         "2.305579800648388",
         "False",
         "False",
         "True",
         "False",
         "352100.0"
        ],
        [
         "3",
         "1.0208692480243897",
         "1.8921655169816007",
         "-0.616469612734299",
         "-0.7365800590720725",
         "1.2693684549680861",
         "False",
         "False",
         "True",
         "False",
         "341300.0"
        ],
        [
         "4",
         "1.0208692480243897",
         "1.8921655169816007",
         "-0.4547924583201347",
         "-0.632246706670867",
         "0.11594705432822144",
         "False",
         "False",
         "True",
         "False",
         "342200.0"
        ]
       ],
       "shape": {
        "columns": 10,
        "rows": 5
       }
      },
      "text/html": [
       "<div>\n",
       "<style scoped>\n",
       "    .dataframe tbody tr th:only-of-type {\n",
       "        vertical-align: middle;\n",
       "    }\n",
       "\n",
       "    .dataframe tbody tr th {\n",
       "        vertical-align: top;\n",
       "    }\n",
       "\n",
       "    .dataframe thead th {\n",
       "        text-align: right;\n",
       "    }\n",
       "</style>\n",
       "<table border=\"1\" class=\"dataframe\">\n",
       "  <thead>\n",
       "    <tr style=\"text-align: right;\">\n",
       "      <th></th>\n",
       "      <th>latitud</th>\n",
       "      <th>antiguedad</th>\n",
       "      <th>habitaciones</th>\n",
       "      <th>hogares</th>\n",
       "      <th>ingresos</th>\n",
       "      <th>proximidad_&lt;1H OCEAN</th>\n",
       "      <th>proximidad_INLAND</th>\n",
       "      <th>proximidad_NEAR BAY</th>\n",
       "      <th>proximidad_NEAR OCEAN</th>\n",
       "      <th>precio</th>\n",
       "    </tr>\n",
       "  </thead>\n",
       "  <tbody>\n",
       "    <tr>\n",
       "      <th>0</th>\n",
       "      <td>1.034817</td>\n",
       "      <td>1.011986</td>\n",
       "      <td>-0.796925</td>\n",
       "      <td>-0.979155</td>\n",
       "      <td>2.990995</td>\n",
       "      <td>False</td>\n",
       "      <td>False</td>\n",
       "      <td>True</td>\n",
       "      <td>False</td>\n",
       "      <td>452600.0</td>\n",
       "    </tr>\n",
       "    <tr>\n",
       "      <th>1</th>\n",
       "      <td>1.025518</td>\n",
       "      <td>-0.588340</td>\n",
       "      <td>2.051432</td>\n",
       "      <td>1.660479</td>\n",
       "      <td>2.975718</td>\n",
       "      <td>False</td>\n",
       "      <td>False</td>\n",
       "      <td>True</td>\n",
       "      <td>False</td>\n",
       "      <td>358500.0</td>\n",
       "    </tr>\n",
       "    <tr>\n",
       "      <th>2</th>\n",
       "      <td>1.020869</td>\n",
       "      <td>1.892166</td>\n",
       "      <td>-0.528074</td>\n",
       "      <td>-0.846130</td>\n",
       "      <td>2.305580</td>\n",
       "      <td>False</td>\n",
       "      <td>False</td>\n",
       "      <td>True</td>\n",
       "      <td>False</td>\n",
       "      <td>352100.0</td>\n",
       "    </tr>\n",
       "    <tr>\n",
       "      <th>3</th>\n",
       "      <td>1.020869</td>\n",
       "      <td>1.892166</td>\n",
       "      <td>-0.616470</td>\n",
       "      <td>-0.736580</td>\n",
       "      <td>1.269368</td>\n",
       "      <td>False</td>\n",
       "      <td>False</td>\n",
       "      <td>True</td>\n",
       "      <td>False</td>\n",
       "      <td>341300.0</td>\n",
       "    </tr>\n",
       "    <tr>\n",
       "      <th>4</th>\n",
       "      <td>1.020869</td>\n",
       "      <td>1.892166</td>\n",
       "      <td>-0.454792</td>\n",
       "      <td>-0.632247</td>\n",
       "      <td>0.115947</td>\n",
       "      <td>False</td>\n",
       "      <td>False</td>\n",
       "      <td>True</td>\n",
       "      <td>False</td>\n",
       "      <td>342200.0</td>\n",
       "    </tr>\n",
       "  </tbody>\n",
       "</table>\n",
       "</div>"
      ],
      "text/plain": [
       "    latitud  antiguedad  habitaciones   hogares  ingresos  \\\n",
       "0  1.034817    1.011986     -0.796925 -0.979155  2.990995   \n",
       "1  1.025518   -0.588340      2.051432  1.660479  2.975718   \n",
       "2  1.020869    1.892166     -0.528074 -0.846130  2.305580   \n",
       "3  1.020869    1.892166     -0.616470 -0.736580  1.269368   \n",
       "4  1.020869    1.892166     -0.454792 -0.632247  0.115947   \n",
       "\n",
       "   proximidad_<1H OCEAN  proximidad_INLAND  proximidad_NEAR BAY  \\\n",
       "0                 False              False                 True   \n",
       "1                 False              False                 True   \n",
       "2                 False              False                 True   \n",
       "3                 False              False                 True   \n",
       "4                 False              False                 True   \n",
       "\n",
       "   proximidad_NEAR OCEAN    precio  \n",
       "0                  False  452600.0  \n",
       "1                  False  358500.0  \n",
       "2                  False  352100.0  \n",
       "3                  False  341300.0  \n",
       "4                  False  342200.0  "
      ]
     },
     "execution_count": 83,
     "metadata": {},
     "output_type": "execute_result"
    }
   ],
   "source": [
    "v_copia_preprocesada.head() "
   ]
  },
  {
   "cell_type": "code",
   "execution_count": 38,
   "id": "cf0cfa7d",
   "metadata": {},
   "outputs": [
    {
     "data": {
      "text/plain": [
       "'machine_learning_map.pdf'"
      ]
     },
     "execution_count": 38,
     "metadata": {},
     "output_type": "execute_result"
    }
   ],
   "source": [
    "from graphviz import Digraph\n",
    "\n",
    "# Crear el objeto Digraph\n",
    "ml_map = Digraph('Machine_Learning', format='pdf')\n",
    "ml_map.attr(rankdir='TB', splines='ortho', nodesep='0.8')\n",
    "ml_map.attr('node', shape='rectangle', style='filled', fontname='Helvetica')\n",
    "\n",
    "# Configuración de colores\n",
    "colors = {\n",
    "    'supervised': 'lightblue',\n",
    "    'unsupervised': 'lightgreen',\n",
    "    'classification': 'skyblue',\n",
    "    'regression': 'cornflowerblue',\n",
    "    'clustering': 'palegreen',\n",
    "    'dimensionality': 'limegreen',\n",
    "    'algoritmo': 'salmon',\n",
    "    'ejemplo': 'moccasin'\n",
    "}\n",
    "\n",
    "# Nodos principales\n",
    "ml_map.node('ML', 'Machine Learning', shape='doubleoctagon', color='gold', fontsize='20')\n",
    "\n",
    "# Rama Supervisado\n",
    "ml_map.node('SUP', 'Aprendizaje Supervisado', shape='parallelogram', color=colors['supervised'])\n",
    "ml_map.edge('ML', 'SUP')\n",
    "\n",
    "# Subnodos Supervisado\n",
    "ml_map.node('CLAS', 'Clasificación', shape='oval', color=colors['classification'])\n",
    "ml_map.node('REGR', 'Regresión', shape='oval', color=colors['regression'])\n",
    "ml_map.edge('SUP', 'CLAS')\n",
    "ml_map.edge('SUP', 'REGR')\n",
    "\n",
    "# Algoritmos Supervisado\n",
    "ml_map.node('SVM', 'SVM', shape='diamond', color=colors['algoritmo'])\n",
    "ml_map.node('DT', 'Árboles de Decisión', shape='diamond', color=colors['algoritmo'])\n",
    "ml_map.node('RL', 'Regresión Lineal', shape='diamond', color=colors['algoritmo'])\n",
    "ml_map.node('RF', 'Random Forest', shape='diamond', color=colors['algoritmo'])\n",
    "\n",
    "ml_map.edge('CLAS', 'SVM')\n",
    "ml_map.edge('CLAS', 'DT')\n",
    "ml_map.edge('REGR', 'RL')\n",
    "ml_map.edge('REGR', 'RF')\n",
    "\n",
    "# Ejemplos de aplicación\n",
    "ml_map.node('SPAM', 'Detección de Spam', shape='note', color=colors['ejemplo'])\n",
    "ml_map.node('PREC', 'Precios de Viviendas', shape='note', color=colors['ejemplo'])\n",
    "ml_map.edge('SVM', 'SPAM')\n",
    "ml_map.edge('RL', 'PREC')\n",
    "\n",
    "# Rama No Supervisado\n",
    "ml_map.node('UNS', 'Aprendizaje No Supervisado', shape='parallelogram', color=colors['unsupervised'])\n",
    "ml_map.edge('ML', 'UNS')\n",
    "\n",
    "# Subnodos No Supervisado\n",
    "ml_map.node('CLUST', 'Clustering', shape='oval', color=colors['clustering'])\n",
    "ml_map.node('DIM', 'Reducción de Dimensionalidad', shape='oval', color=colors['dimensionality'])\n",
    "ml_map.edge('UNS', 'CLUST')\n",
    "ml_map.edge('UNS', 'DIM')\n",
    "\n",
    "# Algoritmos No Supervisado\n",
    "ml_map.node('KMN', 'K-Means', shape='diamond', color=colors['algoritmo'])\n",
    "ml_map.node('HCL', 'Clustering Jerárquico', shape='diamond', color=colors['algoritmo'])\n",
    "ml_map.node('PCA', 'PCA', shape='diamond', color=colors['algoritmo'])\n",
    "ml_map.node('TSNE', 't-SNE', shape='diamond', color=colors['algoritmo'])\n",
    "\n",
    "ml_map.edge('CLUST', 'KMN')\n",
    "ml_map.edge('CLUST', 'HCL')\n",
    "ml_map.edge('DIM', 'PCA')\n",
    "ml_map.edge('DIM', 'TSNE')\n",
    "\n",
    "# Ejemplos de aplicación\n",
    "ml_map.node('SEG', 'Segmentación de Clientes', shape='note', color=colors['ejemplo'])\n",
    "ml_map.node('VIS', 'Visualización de Datos', shape='note', color=colors['ejemplo'])\n",
    "ml_map.edge('KMN', 'SEG')\n",
    "ml_map.edge('TSNE', 'VIS')\n",
    "\n",
    "# Guardar y renderizar\n",
    "ml_map.render('machine_learning_map', view=True)"
   ]
  },
  {
   "cell_type": "markdown",
   "id": "e07b7319",
   "metadata": {},
   "source": [
    "# Realizar todo el preprocesamiento  a través de una sola función de usuario de python"
   ]
  },
  {
   "cell_type": "markdown",
   "id": "2685bf0f",
   "metadata": {},
   "source": [
    "## Etapas del preprocesamiento   \n",
    "\n",
    "1. Codificar: La proximidad es categorico no ordinal y por tanto debe ser codificado con metodología OneHot.(proximidad) \n",
    "2. Seleccionar: los atributos mejor correlacionados.  \n",
    "3. Eliminación de datos atípicos: Detección de outliers (Con respecto al precio de vivienda). \n",
    "4. Escalamiento: Todos los atributos numéricos se va a escalar con técnica de estandarización. (Página 72 del PDF de Geron. 3 Edition)\n"
   ]
  },
  {
   "cell_type": "code",
   "execution_count": 115,
   "id": "1772caae",
   "metadata": {},
   "outputs": [
    {
     "data": {
      "text/plain": [
       "Index(['longitud', 'latitud', 'antiguedad', 'habitaciones', 'dormitorios',\n",
       "       'poblacion', 'hogares', 'ingresos', 'precio', 'proximidad'],\n",
       "      dtype='object')"
      ]
     },
     "execution_count": 115,
     "metadata": {},
     "output_type": "execute_result"
    }
   ],
   "source": [
    "v_copia.keys() "
   ]
  },
  {
   "cell_type": "code",
   "execution_count": 138,
   "id": "808e5afa",
   "metadata": {},
   "outputs": [],
   "source": [
    "\n",
    "def realizar_todo_el_preprocesamiento(dataset_copia, columna_codificar_onehot, \\\n",
    "    columna_criterio_outliers, columnas_a_estandarizar):\n",
    "    \"\"\"\n",
    "    Realiza el preprocesamiento del dataset para predicción de precios de vivienda.\n",
    "\n",
    "    Args:\n",
    "    - dataset_copia (pd.DataFrame): Copia del dataset original.\n",
    "    - lista_columnas_imputar (list): Columnas donde se imputarán valores faltantes con la mediana.\n",
    "    - columna_criterio_outliers (str): Columna usada para detectar y eliminar outliers.\n",
    "    - columnas_a_normalizar (list): Columnas que serán normalizadas (escala entre 0 y 1).\n",
    "    - columna_codificar_onehot (str): Columna para la cual se realizará codificación one-hot.\n",
    "\n",
    "    Returns:\n",
    "    - pd.DataFrame: Dataset preprocesado con selección de atributos relevantes.\n",
    "    \"\"\"\n",
    "    import numpy as np   # Importar numpy para realizar operaciones matemáticas\n",
    "    import pandas as pd  # Importar pandas para realizar operaciones con DataFrames  \n",
    "    \n",
    "    from sklearn.preprocessing import StandardScaler # Normaliza \n",
    "      \n",
    "    \n",
    "    # Etapa 1: Codificar\n",
    "    d_codificado = codificar1(dataset_copia, columna_codificar_onehot)\n",
    "    \n",
    "    # Etapa 2: Selección\n",
    "    predictores_numericos = ['longitud', 'latitud', 'antiguedad', 'habitaciones', 'hogares', \\\n",
    "        'ingresos', 'poblacion']\n",
    "    predictores_categoricos = ['proximidad_<1H OCEAN',  'proximidad_INLAND', 'proximidad_ISLAND', \\\n",
    "        'proximidad_NEAR BAY',   'proximidad_NEAR OCEAN']\n",
    "    d_codificado_selecionado = selector2(d_codificado, predictores_numericos=predictores_numericos, \\\n",
    "        predictores_categoricos=predictores_categoricos, correlation_threshold=0.01, target_column='precio' )\n",
    "    \n",
    "    # Etapa 3: Eliminación de datos atípicos\n",
    "    d_codificado_seleccionado_sin_atipicos = eliminar_valores_atipicos3(d_codificado_selecionado, 'precio')\n",
    "    # Atapa 4: Escalar\n",
    "    d_codificado_seleccionado_sin_atipicos_estandarizado = estandarizar4(d_codificado_seleccionado_sin_atipicos,\\\n",
    "        predictores_numericos)\n",
    "\n",
    "    \n",
    "    return d_codificado_seleccionado_sin_atipicos_estandarizado\n"
   ]
  },
  {
   "cell_type": "code",
   "execution_count": 139,
   "id": "b2227ce6",
   "metadata": {},
   "outputs": [
    {
     "name": "stdout",
     "output_type": "stream",
     "text": [
      "CPU times: total: 46.9 ms\n",
      "Wall time: 65.9 ms\n"
     ]
    },
    {
     "name": "stderr",
     "output_type": "stream",
     "text": [
      "C:\\Users\\marco\\AppData\\Local\\Temp\\ipykernel_15592\\2657819319.py:5: SettingWithCopyWarning: \n",
      "A value is trying to be set on a copy of a slice from a DataFrame.\n",
      "Try using .loc[row_indexer,col_indexer] = value instead\n",
      "\n",
      "See the caveats in the documentation: https://pandas.pydata.org/pandas-docs/stable/user_guide/indexing.html#returning-a-view-versus-a-copy\n",
      "  dataset[columnas_a_estandarizar] = scaler.fit_transform(dataset_num) # metodología de reasignación\n"
     ]
    }
   ],
   "source": [
    "%%time \n",
    "v_preprocesada = realizar_todo_el_preprocesamiento(v_copia, \\\n",
    "    columna_codificar_onehot='proximidad', \\\n",
    "        columna_criterio_outliers='precio', columnas_a_estandarizar=['longitud', 'latitud', 'antiguedad', 'habitaciones', 'dormitorios',\n",
    "       'población', 'hogares', 'ingresos'] )"
   ]
  },
  {
   "cell_type": "code",
   "execution_count": 140,
   "id": "202f0cd8",
   "metadata": {},
   "outputs": [
    {
     "data": {
      "application/vnd.microsoft.datawrangler.viewer.v0+json": {
       "columns": [
        {
         "name": "index",
         "rawType": "int64",
         "type": "integer"
        },
        {
         "name": "latitud",
         "rawType": "float64",
         "type": "float"
        },
        {
         "name": "antiguedad",
         "rawType": "float64",
         "type": "float"
        },
        {
         "name": "habitaciones",
         "rawType": "float64",
         "type": "float"
        },
        {
         "name": "hogares",
         "rawType": "float64",
         "type": "float"
        },
        {
         "name": "ingresos",
         "rawType": "float64",
         "type": "float"
        },
        {
         "name": "proximidad_<1H OCEAN",
         "rawType": "bool",
         "type": "boolean"
        },
        {
         "name": "proximidad_INLAND",
         "rawType": "bool",
         "type": "boolean"
        },
        {
         "name": "proximidad_NEAR BAY",
         "rawType": "bool",
         "type": "boolean"
        },
        {
         "name": "proximidad_NEAR OCEAN",
         "rawType": "bool",
         "type": "boolean"
        },
        {
         "name": "precio",
         "rawType": "float64",
         "type": "float"
        }
       ],
       "conversionMethod": "pd.DataFrame",
       "ref": "a181342b-af80-41d8-b128-b5225d8772f0",
       "rows": [
        [
         "0",
         "1.0348165598940622",
         "1.011986118857888",
         "-0.7969251335251792",
         "-0.9791551034048751",
         "2.9909954451490552",
         "False",
         "False",
         "True",
         "False",
         "452600.0"
        ],
        [
         "1",
         "1.025518351980946",
         "-0.5883400595488621",
         "2.051432439567421",
         "1.6604787123456222",
         "2.9757183405048178",
         "False",
         "False",
         "True",
         "False",
         "358500.0"
        ],
        [
         "2",
         "1.0208692480243897",
         "1.8921655169816007",
         "-0.5280738880829288",
         "-0.8461300790933381",
         "2.305579800648388",
         "False",
         "False",
         "True",
         "False",
         "352100.0"
        ],
        [
         "3",
         "1.0208692480243897",
         "1.8921655169816007",
         "-0.616469612734299",
         "-0.7365800590720725",
         "1.2693684549680861",
         "False",
         "False",
         "True",
         "False",
         "341300.0"
        ],
        [
         "4",
         "1.0208692480243897",
         "1.8921655169816007",
         "-0.4547924583201347",
         "-0.632246706670867",
         "0.11594705432822144",
         "False",
         "False",
         "True",
         "False",
         "342200.0"
        ]
       ],
       "shape": {
        "columns": 10,
        "rows": 5
       }
      },
      "text/html": [
       "<div>\n",
       "<style scoped>\n",
       "    .dataframe tbody tr th:only-of-type {\n",
       "        vertical-align: middle;\n",
       "    }\n",
       "\n",
       "    .dataframe tbody tr th {\n",
       "        vertical-align: top;\n",
       "    }\n",
       "\n",
       "    .dataframe thead th {\n",
       "        text-align: right;\n",
       "    }\n",
       "</style>\n",
       "<table border=\"1\" class=\"dataframe\">\n",
       "  <thead>\n",
       "    <tr style=\"text-align: right;\">\n",
       "      <th></th>\n",
       "      <th>latitud</th>\n",
       "      <th>antiguedad</th>\n",
       "      <th>habitaciones</th>\n",
       "      <th>hogares</th>\n",
       "      <th>ingresos</th>\n",
       "      <th>proximidad_&lt;1H OCEAN</th>\n",
       "      <th>proximidad_INLAND</th>\n",
       "      <th>proximidad_NEAR BAY</th>\n",
       "      <th>proximidad_NEAR OCEAN</th>\n",
       "      <th>precio</th>\n",
       "    </tr>\n",
       "  </thead>\n",
       "  <tbody>\n",
       "    <tr>\n",
       "      <th>0</th>\n",
       "      <td>1.034817</td>\n",
       "      <td>1.011986</td>\n",
       "      <td>-0.796925</td>\n",
       "      <td>-0.979155</td>\n",
       "      <td>2.990995</td>\n",
       "      <td>False</td>\n",
       "      <td>False</td>\n",
       "      <td>True</td>\n",
       "      <td>False</td>\n",
       "      <td>452600.0</td>\n",
       "    </tr>\n",
       "    <tr>\n",
       "      <th>1</th>\n",
       "      <td>1.025518</td>\n",
       "      <td>-0.588340</td>\n",
       "      <td>2.051432</td>\n",
       "      <td>1.660479</td>\n",
       "      <td>2.975718</td>\n",
       "      <td>False</td>\n",
       "      <td>False</td>\n",
       "      <td>True</td>\n",
       "      <td>False</td>\n",
       "      <td>358500.0</td>\n",
       "    </tr>\n",
       "    <tr>\n",
       "      <th>2</th>\n",
       "      <td>1.020869</td>\n",
       "      <td>1.892166</td>\n",
       "      <td>-0.528074</td>\n",
       "      <td>-0.846130</td>\n",
       "      <td>2.305580</td>\n",
       "      <td>False</td>\n",
       "      <td>False</td>\n",
       "      <td>True</td>\n",
       "      <td>False</td>\n",
       "      <td>352100.0</td>\n",
       "    </tr>\n",
       "    <tr>\n",
       "      <th>3</th>\n",
       "      <td>1.020869</td>\n",
       "      <td>1.892166</td>\n",
       "      <td>-0.616470</td>\n",
       "      <td>-0.736580</td>\n",
       "      <td>1.269368</td>\n",
       "      <td>False</td>\n",
       "      <td>False</td>\n",
       "      <td>True</td>\n",
       "      <td>False</td>\n",
       "      <td>341300.0</td>\n",
       "    </tr>\n",
       "    <tr>\n",
       "      <th>4</th>\n",
       "      <td>1.020869</td>\n",
       "      <td>1.892166</td>\n",
       "      <td>-0.454792</td>\n",
       "      <td>-0.632247</td>\n",
       "      <td>0.115947</td>\n",
       "      <td>False</td>\n",
       "      <td>False</td>\n",
       "      <td>True</td>\n",
       "      <td>False</td>\n",
       "      <td>342200.0</td>\n",
       "    </tr>\n",
       "  </tbody>\n",
       "</table>\n",
       "</div>"
      ],
      "text/plain": [
       "    latitud  antiguedad  habitaciones   hogares  ingresos  \\\n",
       "0  1.034817    1.011986     -0.796925 -0.979155  2.990995   \n",
       "1  1.025518   -0.588340      2.051432  1.660479  2.975718   \n",
       "2  1.020869    1.892166     -0.528074 -0.846130  2.305580   \n",
       "3  1.020869    1.892166     -0.616470 -0.736580  1.269368   \n",
       "4  1.020869    1.892166     -0.454792 -0.632247  0.115947   \n",
       "\n",
       "   proximidad_<1H OCEAN  proximidad_INLAND  proximidad_NEAR BAY  \\\n",
       "0                 False              False                 True   \n",
       "1                 False              False                 True   \n",
       "2                 False              False                 True   \n",
       "3                 False              False                 True   \n",
       "4                 False              False                 True   \n",
       "\n",
       "   proximidad_NEAR OCEAN    precio  \n",
       "0                  False  452600.0  \n",
       "1                  False  358500.0  \n",
       "2                  False  352100.0  \n",
       "3                  False  341300.0  \n",
       "4                  False  342200.0  "
      ]
     },
     "execution_count": 140,
     "metadata": {},
     "output_type": "execute_result"
    }
   ],
   "source": [
    "v_copia_preprocesada.head() "
   ]
  },
  {
   "cell_type": "code",
   "execution_count": null,
   "id": "e2cab88e",
   "metadata": {},
   "outputs": [],
   "source": [
    "from graphviz import Digraph\n",
    "\n",
    "# Configurar el diagrama\n",
    "split = Digraph('Data_Split', filename='data_split.gv')\n",
    "split.attr(rankdir='TB', splines='ortho', nodesep='0.5')\n",
    "split.attr('node', shape='rectangle', style='filled', fontname='Helvetica')\n",
    "\n",
    "# Paleta de colores\n",
    "colors = {\n",
    "    'dataset': '#FFE4B5',\n",
    "    'variables': '#87CEEB',\n",
    "    'split': '#FFA07A',\n",
    "    'train': '#98FB98',\n",
    "    'test': '#FFB6C1'\n",
    "}\n",
    "\n",
    "# Nodos principales\n",
    "split.node('D', 'Dataset (df)\\nfilas, columnas', shape='ellipse', color=colors['dataset'])\n",
    "split.node('X', 'Predictores (X)\\nTodas las características\\nexcepto target', shape='parallelogram', color=colors['variables'])\n",
    "split.node('y', 'Etiquetas (y)\\nColumna target', shape='parallelogram', color=colors['variables'])\n",
    "\n",
    "# Proceso de división\n",
    "split.node('S1', 'train_test_split()\\ntest_size=0.2\\nrandom_state=42', shape='oval', color=colors['split'])\n",
    "split.node('S2', 'train_test_split()\\ntest_size=0.2\\nrandom_state=42', shape='oval', color=colors['split'])\n",
    "\n",
    "# Subdivisiones\n",
    "split.node('X_train', 'X_train\\n(80% datos)', shape='box3d', color=colors['train'])\n",
    "split.node('X_test', 'X_test\\n(20% datos)', shape='box3d', color=colors['test'])\n",
    "split.node('y_train', 'y_train\\n(80% datos)', shape='box3d', color=colors['train'])\n",
    "split.node('y_test', 'y_test\\n(20% datos)', shape='box3d', color=colors['test'])\n",
    "\n",
    "# Conexiones\n",
    "split.edge('D', 'X', label=' Se separan\\nexplicativas →')\n",
    "split.edge('D', 'y', label=' Se separa\\ntarget →')\n",
    "\n",
    "split.edge('X', 'S1')\n",
    "split.edge('S1', 'X_train', label=' 80%')\n",
    "split.edge('S1', 'X_test', label=' 20%')\n",
    "\n",
    "split.edge('y', 'S2')\n",
    "split.edge('S2', 'y_train', label=' 80%')\n",
    "split.edge('S2', 'y_test', label=' 20%')\n",
    "\n",
    "# Ejemplo de código\n",
    "split.node('code', \n",
    "           ('Ejemplo de código sklearn:\\n\\n'\n",
    "            'from sklearn.model_selection import train_test_split\\n\\n'\n",
    "            'X = df.drop(\"target\", axis=1)\\n'\n",
    "            'y = df[\"target\"]\\n\\n'\n",
    "            'X_train, X_test,\\n'\n",
    "            'y_train, y_test = train_test_split(\\n'\n",
    "            '    X, y, test_size=0.2,\\n'\n",
    "            '    random_state=42)'), \n",
    "           shape='note', \n",
    "           color='#F0E68C')\n",
    "\n",
    "split.edge('S1', 'code', style='dashed', color='gray')\n",
    "split.edge('S2', 'code', style='dashed', color='gray')\n",
    "\n",
    "# Generar archivo\n",
    "split.render(view=True)"
   ]
  },
  {
   "cell_type": "markdown",
   "id": "460839cf",
   "metadata": {},
   "source": [
    "# División en entrenamiento y testeo de conjunto de datos preprocesado. "
   ]
  },
  {
   "cell_type": "code",
   "execution_count": 141,
   "id": "c0e197c8",
   "metadata": {},
   "outputs": [],
   "source": [
    "from sklearn.model_selection import train_test_split \n",
    "# División en predictores y objetivo \n",
    "X, y = v_copia_preprocesada.drop('precio', axis = 1), v_copia_preprocesada['precio']\n",
    "\n",
    "X_train, X_test, y_train, y_test = train_test_split(X, y, test_size=0.2, random_state=424)  \n",
    "\n",
    " "
   ]
  },
  {
   "cell_type": "markdown",
   "id": "b9e5f540",
   "metadata": {},
   "source": [
    "# Selección de algoritmos de Machine Learning "
   ]
  },
  {
   "cell_type": "code",
   "execution_count": 142,
   "id": "4407ba9d",
   "metadata": {},
   "outputs": [],
   "source": [
    "# Entrenamiento y selección de modelos de machine learning \n",
    "from sklearn.linear_model import LinearRegression\n",
    "from sklearn.tree import DecisionTreeRegressor\n",
    "from sklearn.ensemble import RandomForestRegressor\n",
    "from sklearn.svm import SVR\n",
    "from sklearn.neighbors import KNeighborsRegressor  \n",
    "# Cargó las clase de sklearn "
   ]
  },
  {
   "cell_type": "code",
   "execution_count": 143,
   "id": "ae537bbd",
   "metadata": {},
   "outputs": [],
   "source": [
    "\n",
    "# Determinación del poder de predicción del modelo a partir del conjunto con el que entrenó. \n",
    "from sklearn.model_selection import cross_val_score  # Metodología de validación cruzada\n",
    "import numpy as np\n"
   ]
  },
  {
   "cell_type": "code",
   "execution_count": 144,
   "id": "add09ddf",
   "metadata": {},
   "outputs": [],
   "source": [
    "\n",
    "def train_and_select_best_model(X_train, y_train):\n",
    "    \"\"\"\n",
    "    Entrena varios modelos de aprendizaje automático y selecciona el mejor\n",
    "    basado en el desempeño de validación cruzada.\n",
    "\n",
    "    Args:\n",
    "        X_train: Features de entrenamiento (array o DataFrame).\n",
    "        y_train: Target de entrenamiento (array o Series).\n",
    "\n",
    "    Returns:\n",
    "        dict: Información del mejor modelo, su puntaje y el modelo entrenado.\n",
    "    \"\"\"\n",
    "    # Definir los modelos a evaluar. Instanciar las clase \n",
    "    models = {\n",
    "        \"Linear Regression\": LinearRegression(),\n",
    "        \"Random Forest\": RandomForestRegressor(random_state=42),\n",
    "        \"Support Vector Machine\": SVR(),\n",
    "        \"K-Nearest Neighbors\": KNeighborsRegressor(),\n",
    "        \"Decision Tree\": DecisionTreeRegressor(random_state=42)\n",
    "    }\n",
    "\n",
    "    # Inicializar variables para rastrear el mejor modelo\n",
    "    best_model = None\n",
    "    best_score = -np.inf\n",
    "    best_name = \"\"\n",
    "\n",
    "    # Evaluar cada modelo utilizando validación cruzada\n",
    "    for name, model in models.items():\n",
    "        # Validación cruzada con 5 pliegues\n",
    "        scores = cross_val_score(model, X_train, y_train, cv=10, scoring='neg_mean_squared_error')\n",
    "        rmean_score = np.sqrt(-np.mean(scores))  # Convertir a raiz del error cuadrático medio positivo\n",
    "\n",
    "        print(f\"{name}: RMSE promedio = {rmean_score:.1f}\")\n",
    "\n",
    "        # Actualizar el mejor modelo si el desempeño es mejor\n",
    "        if rmean_score < best_score or best_model is None:\n",
    "            best_model = model\n",
    "            best_score = rmean_score\n",
    "            best_name = name\n",
    "\n",
    "    # Entrenar el mejor modelo en todos los datos de entrenamiento\n",
    "    best_model.fit(X_train, y_train)\n",
    "\n",
    "    # Retornar información del mejor modelo\n",
    "    return {\n",
    "        \"model_name\": best_name,\n",
    "        \"best_score\": best_score,\n",
    "        \"trained_model\": best_model\n",
    "    }\n",
    "\n",
    "# Ejemplo de uso (asegúrate de tener tus datos X_train e y_train definidos):\n",
    "#result = train_and_select_best_model(X_train, y_train)\n",
    "#print(f\"El mejor modelo es: {result['model_name']} con MSE promedio: {result['best_score']:.1f}\")\n"
   ]
  },
  {
   "cell_type": "code",
   "execution_count": 145,
   "id": "0e4dea10",
   "metadata": {},
   "outputs": [
    {
     "name": "stdout",
     "output_type": "stream",
     "text": [
      "Linear Regression: RMSE promedio = 62356.8\n",
      "Random Forest: RMSE promedio = 54366.4\n",
      "Support Vector Machine: RMSE promedio = 96533.9\n",
      "K-Nearest Neighbors: RMSE promedio = 60418.1\n",
      "Decision Tree: RMSE promedio = 74479.1\n",
      "CPU times: total: 3min 33s\n",
      "Wall time: 3min 41s\n"
     ]
    },
    {
     "data": {
      "text/plain": [
       "{'model_name': 'Random Forest',\n",
       " 'best_score': np.float64(54366.41973873647),\n",
       " 'trained_model': RandomForestRegressor(random_state=42)}"
      ]
     },
     "execution_count": 145,
     "metadata": {},
     "output_type": "execute_result"
    }
   ],
   "source": [
    "%%time\n",
    "train_and_select_best_model(X_train=X_train, y_train=y_train)"
   ]
  },
  {
   "cell_type": "markdown",
   "id": "c198317b",
   "metadata": {},
   "source": [
    "Consulte la página 104 de PDF de la terce edición de Géron. "
   ]
  },
  {
   "cell_type": "markdown",
   "id": "7643b020",
   "metadata": {},
   "source": [
    "Aquí tienes un código completo que define una función de usuario para entrenar y seleccionar el mejor modelo entre al menos 5 algoritmos de aprendizaje automático, utilizando validación cruzada con al menos 10 pliegues:\n",
    "\n",
    "Este código:\n",
    "\n",
    "1. Define una función `train_and_select_best_model` que recibe los datos de entrenamiento `X_train` y `y_train`.\n",
    "2. Entrena cinco algoritmos de aprendizaje automático: regresión lineal, bosque aleatorio, máquinas de soporte vectorial, K-vecinos más cercanos, y árbol de decisión.\n",
    "3. Evalúa cada modelo usando validación cruzada con 10 pliegues y selecciona el que tenga el mejor desempeño (menor RMSE promedio).\n",
    "4. Retorna el nombre, el puntaje promedio de MSE y el modelo entrenado del mejor algoritmo.\n",
    "\n",
    "Puedes ajustar los hiperparámetros de los modelos o cambiar el método de scoring según las necesidades de tu proyecto.\n"
   ]
  },
  {
   "cell_type": "markdown",
   "id": "7ddca98c",
   "metadata": {},
   "source": [
    "[Video de apoyo para la selección de modelos](https://www.youtube.com/watch?v=Mova3YDabVc)"
   ]
  },
  {
   "cell_type": "markdown",
   "id": "4b93e896",
   "metadata": {},
   "source": [
    "# Afinar el modelo que mejor se desempeñó. "
   ]
  },
  {
   "cell_type": "code",
   "execution_count": null,
   "id": "552b964b",
   "metadata": {},
   "outputs": [],
   "source": []
  },
  {
   "cell_type": "code",
   "execution_count": null,
   "id": "53d01b30",
   "metadata": {},
   "outputs": [],
   "source": []
  },
  {
   "cell_type": "code",
   "execution_count": null,
   "id": "be375d15",
   "metadata": {},
   "outputs": [],
   "source": []
  },
  {
   "cell_type": "markdown",
   "id": "4c304748",
   "metadata": {},
   "source": [
    "\n",
    "   - Entrenar un modelo de regresión lineal:\n"
   ]
  },
  {
   "cell_type": "markdown",
   "id": "c5fade9e",
   "metadata": {},
   "source": [
    "\n",
    "2. **Cálculo de Métricas de Rendimiento**:\n",
    "   - Crear una función para calcular el error cuadrático medio (MSE):\n"
   ]
  },
  {
   "cell_type": "code",
   "execution_count": null,
   "id": "e179b300",
   "metadata": {},
   "outputs": [],
   "source": [
    "import numpy as np \n",
    "from sklearn.metrics import mean_squared_error\n",
    "\n",
    "def calcular_rmse(model, X, y):\n",
    "    predicciones = model.predict(X)\n",
    "    mse = mean_squared_error(y, predicciones)\n",
    "    return mse\n",
    "\n",
    "rmse_train = np.sqrt(calcular_rmse(model, X_train, y_train))\n",
    "rmse_test = np.sqrt(calcular_rmse(model, X_test, y_test))\n",
    "print(f\"RMSE en entrenamiento: {rmse_train} dólares\")\n",
    "print(f\"RMSE en prueba: {rmse_test} dólares\")\n",
    "\n"
   ]
  },
  {
   "cell_type": "markdown",
   "id": "78010c9f",
   "metadata": {},
   "source": [
    "\n",
    "---\n",
    "\n",
    "## **Actividad 4: Visualización de Resultados**\n",
    "\n",
    "1. **Gráficas Estáticas con Matplotlib**:\n",
    "   - Visualizar la línea de regresión ajustada:\n"
   ]
  },
  {
   "cell_type": "code",
   "execution_count": null,
   "id": "35e85e95",
   "metadata": {},
   "outputs": [],
   "source": [
    "import matplotlib.pyplot as plt  \n",
    "plt.scatter(X_test[\"antiguedad\"], y_test, color=\"blue\", label=\"Datos reales\")\n",
    "plt.scatter(X_test[\"antiguedad\"], model.predict(X_test), color=\"red\", label=\"Línea de regresión\")\n",
    "plt.xlabel(\"antiguedad\")\n",
    "plt.ylabel(\"Precio\")\n",
    "plt.legend()\n",
    "plt.title(\"Línea de regresión ajustada\")\n",
    "save_fig('linea_regresion_ajustada.jpeg')\n",
    "plt.show()\n",
    "\n"
   ]
  },
  {
   "cell_type": "markdown",
   "id": "c3f7cc95",
   "metadata": {},
   "source": [
    "\n",
    "   # - Predicciones frente a datos reales:\n"
   ]
  },
  {
   "cell_type": "code",
   "execution_count": null,
   "id": "39b0a6f5",
   "metadata": {},
   "outputs": [],
   "source": [
    "plt.scatter(y_test, model.predict(X_test), alpha=0.6)\n",
    "plt.plot([y_test.min(), y_test.max()], [y_test.min(), y_test.max()], color=\"red\", linewidth=2)\n",
    "plt.xlabel(\"Valores Reales\")\n",
    "plt.ylabel(\"Predicciones\")\n",
    "plt.title(\"Predicciones frente a valores reales\")\n",
    "plt.grid(alpha = 0.5)\n",
    "plt.show()\n",
    "\n"
   ]
  },
  {
   "cell_type": "markdown",
   "id": "6ed7dfa8",
   "metadata": {},
   "source": [
    "\n",
    "2. **Gráfica Animada del Ajuste Progresivo**:\n",
    "   - Crear una animación que muestre el progreso del ajuste:\n"
   ]
  },
  {
   "cell_type": "code",
   "execution_count": null,
   "id": "cbef36bb",
   "metadata": {},
   "outputs": [],
   "source": [
    "import numpy as np\n",
    "import matplotlib.animation as animation\n",
    "\n",
    "fig, ax = plt.subplots()\n",
    "line, = ax.plot([], [], 'r-', lw=2)\n",
    "ax.scatter(X_test[\"antiguedad\"], y_test, color=\"blue\", alpha=0.6)\n",
    "\n",
    "def init():\n",
    "    line.set_data([], [])\n",
    "    return line,\n",
    "\n",
    "def update(frame):\n",
    "    alpha = frame / 100\n",
    "    partial_preds = (1 - alpha) * np.mean(y_train) + alpha * model.predict(X_test)\n",
    "    line.set_data(X_test[\"antiguedad\"], partial_preds)\n",
    "    return line,\n",
    "\n",
    "ani = animation.FuncAnimation(fig, update, frames=100, init_func=init, blit=True)\n",
    "plt.show()\n"
   ]
  },
  {
   "cell_type": "markdown",
   "id": "4c9488d5",
   "metadata": {},
   "source": [
    "\n",
    "--- \n"
   ]
  },
  {
   "cell_type": "markdown",
   "id": "1565fc73",
   "metadata": {},
   "source": [
    "\n",
    "¿Te gustaría ajustar o ampliar alguna de estas actividades? "
   ]
  },
  {
   "cell_type": "markdown",
   "id": "9cafcc37",
   "metadata": {},
   "source": [
    "\n",
    "### 5. Tarea o actividades de ejercitación y fijación\n"
   ]
  },
  {
   "cell_type": "markdown",
   "id": "3ac3b5bf",
   "metadata": {},
   "source": [
    "\n",
    "1. Crear una función que permita evaluar el modelo para un subconjunto de datos desconocidos (datos de prueba).\n",
    "2. Implementar visualizaciones adicionales, como:\n",
    "   - Histograma de errores de predicción.\n",
    "   - Gráfica 3D si se incluyen más de dos variables predictoras.\n",
    "3. Experimentar con diferentes subconjuntos de variables predictoras para observar cómo cambia el rendimiento del modelo.\n"
   ]
  },
  {
   "cell_type": "markdown",
   "id": "92a5b941",
   "metadata": {},
   "source": [
    "### **Desarrollo de la Quinta Parte: Tarea o Actividades de Ejercitación y Fijación**\n"
   ]
  },
  {
   "cell_type": "markdown",
   "id": "d4f1bd4b",
   "metadata": {},
   "source": [
    "\n",
    "#### **1. Crear una Función para Evaluar el Modelo en Datos de Prueba**\n",
    "\n",
    "- Diseñar una función que evalúe el modelo utilizando métricas relevantes como el error cuadrático medio (MSE) y el coeficiente de determinación ($R^2$):\n"
   ]
  },
  {
   "cell_type": "code",
   "execution_count": null,
   "id": "88d23224",
   "metadata": {},
   "outputs": [],
   "source": [
    "from sklearn.metrics import mean_squared_error, r2_score\n",
    "\n",
    "def evaluar_modelo(model, X_test, y_test):\n",
    "    predicciones = model.predict(X_test)\n",
    "    mse = mean_squared_error(y_test, predicciones)\n",
    "    r2 = r2_score(y_test, predicciones)\n",
    "    print(f\"MSE en datos de prueba: {mse:.2f}\")\n",
    "    print(f\"R² en datos de prueba: {r2:.2f}\")\n",
    "    return predicciones\n"
   ]
  },
  {
   "cell_type": "code",
   "execution_count": null,
   "id": "0b4bddae",
   "metadata": {},
   "outputs": [],
   "source": [
    "\n",
    "predicciones_prueba = evaluar_modelo(model, X_test, y_test)\n",
    "\n"
   ]
  },
  {
   "cell_type": "markdown",
   "id": "316efc29",
   "metadata": {},
   "source": [
    "\n",
    "---\n",
    "\n",
    "#### **2. Implementar Visualizaciones Adicionales**\n",
    "\n",
    "##### **Histograma de Errores de Predicción**\n",
    "- Visualizar la distribución de los errores de predicción (residuos):\n"
   ]
  },
  {
   "cell_type": "code",
   "execution_count": null,
   "id": "233aac43",
   "metadata": {},
   "outputs": [],
   "source": [
    "import matplotlib.pyplot as plt\n",
    "\n",
    "def graficar_histograma_errores(y_test, predicciones):\n",
    "    errores = y_test - predicciones\n",
    "    plt.hist(errores, bins=30, alpha=0.7, color=\"blue\", edgecolor=\"black\")\n",
    "    plt.axvline(0, color=\"red\", linestyle=\"--\")\n",
    "    plt.title(\"Histograma de Errores de Predicción\")\n",
    "    plt.xlabel(\"Error\")\n",
    "    plt.ylabel(\"Frecuencia\")\n",
    "    save_fig('errores_de_prediccion.jpeg')\n",
    "    plt.show()\n"
   ]
  },
  {
   "cell_type": "code",
   "execution_count": null,
   "id": "b94c752f",
   "metadata": {},
   "outputs": [],
   "source": [
    "\n",
    "graficar_histograma_errores(y_test, predicciones_prueba)\n",
    "\n"
   ]
  },
  {
   "cell_type": "markdown",
   "id": "b7835165",
   "metadata": {},
   "source": [
    "\n",
    "##### **Gráfica 3D (Si se Incluyen Más de Dos Variables Predictoras)**\n",
    "- Crear una gráfica tridimensional para analizar la relación entre las variables predictoras y el objetivo:\n"
   ]
  },
  {
   "cell_type": "code",
   "execution_count": null,
   "id": "370d25d5",
   "metadata": {},
   "outputs": [],
   "source": [
    "from mpl_toolkits.mplot3d import Axes3D\n",
    "\n",
    "def graficar_3d(X_test, y_test, predicciones):\n",
    "    fig = plt.figure(figsize=(10, 7))\n",
    "    ax = fig.add_subplot(111, projection=\"3d\")\n",
    "    ax.scatter(X_test[\"superficie\"], X_test[\"número_habitaciones\"], y_test, color=\"blue\", label=\"Datos reales\")\n",
    "    ax.scatter(X_test[\"superficie\"], X_test[\"número_habitaciones\"], predicciones, color=\"red\", label=\"Predicciones\")\n",
    "    ax.set_xlabel(\"Superficie\")\n",
    "    ax.set_ylabel(\"Número de Habitaciones\")\n",
    "    ax.set_zlabel(\"Precio\")\n",
    "    plt.title(\"Visualización 3D de Predicciones y Datos Reales\")\n",
    "    plt.legend()\n",
    "    save_fig('relacion_predictores_objetivo.jpg')\n",
    "    plt.show()\n"
   ]
  },
  {
   "cell_type": "code",
   "execution_count": null,
   "id": "252e9015",
   "metadata": {},
   "outputs": [],
   "source": [
    "\n",
    "graficar_3d(X_test, y_test, predicciones_prueba)\n",
    "\n"
   ]
  },
  {
   "cell_type": "markdown",
   "id": "1757b17a",
   "metadata": {},
   "source": [
    "\n",
    "#### **3. Experimentar con Diferentes Subconjuntos de Variables Predictoras**\n"
   ]
  },
  {
   "cell_type": "markdown",
   "id": "ea8d8eab",
   "metadata": {},
   "source": [
    "\n",
    "- Probar cómo diferentes combinaciones de variables predictoras afectan el rendimiento del modelo:\n"
   ]
  },
  {
   "cell_type": "code",
   "execution_count": null,
   "id": "56a49012",
   "metadata": {},
   "outputs": [],
   "source": [
    "v.keys()"
   ]
  },
  {
   "cell_type": "code",
   "execution_count": null,
   "id": "b0ab50b4",
   "metadata": {},
   "outputs": [],
   "source": [
    "def probar_subconjuntos(df, variables_predictoras, objetivo):\n",
    "    resultados = {}\n",
    "    for subset in variables_predictoras:\n",
    "        X = df[list(subset)]\n",
    "        y = df[objetivo]\n",
    "        X_train, X_test, y_train, y_test = train_test_split(X, y, test_size=0.2, random_state=42)\n",
    "        \n",
    "        model = LinearRegression()\n",
    "        model.fit(X_train, y_train)\n",
    "          \n",
    "        mse = mean_squared_error(y_test, model.predict(X_test))\n",
    "        r2 = r2_score(y_test, model.predict(X_test))\n",
    "        resultados[subset] = {\"MSE\": mse, \"R²\": r2}\n",
    "      \n",
    "    return resultados\n",
    "\n",
    "from itertools import combinations\n",
    "from sklearn.metrics import mean_squared_error, r2_score\n",
    "\n",
    "variables = [\"antiguedad\", \"habitaciones\", \"ingresos\"]\n",
    "subconjuntos = [combo for i in range(1, len(variables) + 1) for combo in combinations(variables, i)]\n",
    "resultados = probar_subconjuntos(v_sin_outliers, subconjuntos, \"precio\")\n",
    "for subset, metrics in resultados.items():\n",
    "    print(f\"Variables: {subset}, MSE: {metrics['MSE']:.2f}, R²: {metrics['R²']:.2f}\")\n",
    "\n"
   ]
  },
  {
   "cell_type": "markdown",
   "id": "c0bf125e",
   "metadata": {},
   "source": [
    "\n",
    "### **Resumen de la Tarea**\n"
   ]
  },
  {
   "cell_type": "markdown",
   "id": "200f2f01",
   "metadata": {},
   "source": [
    "1. Crear una función para evaluar el modelo y reportar métricas.\n",
    "2. Implementar visualizaciones adicionales:\n",
    "   - Histograma de errores.\n",
    "   - Gráfica 3D.\n",
    "3. Explorar diferentes subconjuntos de variables predictoras para analizar su impacto en el rendimiento.\n"
   ]
  },
  {
   "cell_type": "markdown",
   "id": "e445f007",
   "metadata": {},
   "source": [
    "\n",
    "¿Te gustaría que amplíe o ajuste alguna parte del desarrollo? "
   ]
  },
  {
   "cell_type": "markdown",
   "id": "0044d18f",
   "metadata": {},
   "source": [
    "\n",
    "# 6. Diseño de actividad de retroalimentación\n"
   ]
  },
  {
   "cell_type": "markdown",
   "id": "beacedab",
   "metadata": {},
   "source": [
    "\n",
    "- **Discusión en clase:** Cada estudiante presentará sus hallazgos sobre la variable que tiene mayor correlación con el precio de la vivienda y cómo el modelo predice en datos de prueba.\n"
   ]
  },
  {
   "cell_type": "markdown",
   "id": "f0d5ce15",
   "metadata": {},
   "source": [
    "- **Revisión colaborativa:** Formar equipos para revisar y comentar los códigos de sus compañeros. Identificar mejoras en las funciones implementadas.\n"
   ]
  },
  {
   "cell_type": "markdown",
   "id": "1da275f4",
   "metadata": {},
   "source": [
    "- **Entrega de un reporte:** El estudiante generará un informe en formato Markdown dentro del cuaderno Jupyter, explicando los pasos seguidos, los resultados obtenidos y el impacto de las visualizaciones en la interpretación del modelo.\n",
    "\n"
   ]
  },
  {
   "cell_type": "markdown",
   "id": "ec048afb",
   "metadata": {},
   "source": [
    "### **Desarrollo de la Sexta Parte: Diseño de Actividad de Retroalimentación**\n"
   ]
  },
  {
   "cell_type": "markdown",
   "id": "7c2a34cf",
   "metadata": {},
   "source": [
    "\n",
    "#### **1. Discusión en Clase**\n",
    "El objetivo de esta actividad es fomentar la reflexión y el análisis crítico de los resultados obtenidos. \n"
   ]
  },
  {
   "cell_type": "markdown",
   "id": "ee2f9439",
   "metadata": {},
   "source": [
    "\n",
    "## **Desarrollo:**\n"
   ]
  },
  {
   "cell_type": "markdown",
   "id": "38558ccf",
   "metadata": {},
   "source": [
    "1. **Presentación Individual:**\n",
    "   - Cada estudiante presentará:\n",
    "     - La variable que identificaron como la más correlacionada con el precio de la vivienda (según análisis exploratorio y visualizaciones).\n",
    "     - El desempeño del modelo en los datos de prueba, destacando métricas como el MSE y \\(R^2\\).\n",
    "     - Limitaciones y fortalezas de su modelo.\n",
    "   - Tiempo estimado: 3-5 minutos por estudiante.\n"
   ]
  },
  {
   "cell_type": "markdown",
   "id": "14bd8a69",
   "metadata": {},
   "source": [
    "2. **Guía para la Discusión:**\n",
    "   - ¿Qué variable tuvo la mayor correlación y por qué creen que es así?\n",
    "   - ¿Cómo influyen las características del dataset (valores atípicos, escalas, etc.) en el modelo?\n",
    "   - ¿Qué cambios aplicarían para mejorar los resultados?\n"
   ]
  },
  {
   "cell_type": "markdown",
   "id": "a2901535",
   "metadata": {},
   "source": [
    "3. **Dinámica:**\n",
    "   - Cada estudiante recibe preguntas constructivas de al menos un compañero o del docente para fomentar el intercambio de ideas.\n",
    "\n",
    "---\n"
   ]
  },
  {
   "cell_type": "markdown",
   "id": "b15eeb4b",
   "metadata": {},
   "source": [
    "\n",
    "#### **2. Revisión Colaborativa**\n",
    "El propósito es mejorar la calidad del código y el análisis a través del trabajo en equipo.\n"
   ]
  },
  {
   "cell_type": "markdown",
   "id": "df02c895",
   "metadata": {},
   "source": [
    "\n",
    "**Desarrollo:**\n"
   ]
  },
  {
   "cell_type": "markdown",
   "id": "c8362051",
   "metadata": {},
   "source": [
    "1. **Formación de Equipos:**\n",
    "   - Se forman equipos de 3-4 estudiantes.\n",
    "   - Cada equipo intercambia cuadernos Jupyter con otro equipo.\n"
   ]
  },
  {
   "cell_type": "markdown",
   "id": "27e33dba",
   "metadata": {},
   "source": [
    "2. **Revisión del Código:**\n",
    "   - Aspectos a revisar:\n",
    "     - Claridad y organización del código.\n",
    "     - Uso adecuado de funciones.\n",
    "     - Calidad de las visualizaciones.\n",
    "     - Corrección en el cálculo de métricas.\n",
    "   - Identificar al menos **una mejora** en cada cuaderno.\n"
   ]
  },
  {
   "cell_type": "markdown",
   "id": "25acd19e",
   "metadata": {},
   "source": [
    "3. **Registro de Comentarios:**\n",
    "   - Los equipos deben registrar sus observaciones y sugerencias de mejora en un archivo Markdown o directamente en los comentarios del cuaderno.\n"
   ]
  },
  {
   "cell_type": "markdown",
   "id": "fdcfa6b4",
   "metadata": {},
   "source": [
    "4. **Retroalimentación en Clase:**\n",
    "   - Breve presentación de las mejoras sugeridas a los compañeros.\n",
    "\n",
    "---\n"
   ]
  },
  {
   "cell_type": "markdown",
   "id": "6b852234",
   "metadata": {},
   "source": [
    "\n",
    "#### **3. Entrega de un Reporte**\n",
    "El informe final ayuda a consolidar el aprendizaje y a desarrollar habilidades de comunicación técnica.\n"
   ]
  },
  {
   "cell_type": "markdown",
   "id": "277cc300",
   "metadata": {},
   "source": [
    "\n",
    "# **Desarrollo del Reporte:**\n"
   ]
  },
  {
   "cell_type": "markdown",
   "id": "2b68cfa7",
   "metadata": {},
   "source": [
    "1. **Estructura:**\n"
   ]
  },
  {
   "cell_type": "markdown",
   "id": "51dd1796",
   "metadata": {},
   "source": [
    "   - **Título y Autor:**\n",
    "     - Nombre del estudiante y título del proyecto.\n",
    "   - **Introducción:**\n",
    "     - Breve descripción del dataset y objetivo del análisis.\n",
    "   - **Limpieza de Datos:**\n",
    "     - Resumen de pasos realizados: detección y tratamiento de valores ausentes, eliminación de outliers, normalización, etc.\n",
    "   - **Análisis Exploratorio:**\n",
    "     - Visualizaciones clave y hallazgos principales (incluyendo la variable más correlacionada con el precio).\n",
    "   - **Modelo de Regresión:**\n",
    "     - Descripción del modelo implementado y resultados obtenidos (MSE, \\(R^2\\), etc.).\n",
    "   - **Visualizaciones:**\n",
    "     - Gráficas relevantes (línea de regresión, histograma de errores, etc.).\n",
    "   - **Conclusiones y Futuras Mejoras:**\n",
    "     - Reflexión sobre los resultados y posibles mejoras al análisis o modelo.\n",
    "2. **Formato Markdown:**\n",
    "   - Incluir celdas de texto y código en el cuaderno Jupyter.\n",
    "   - Utilizar encabezados, listas, y tablas para estructurar la información.\n",
    "   - Agregar imágenes generadas por las visualizaciones.\n"
   ]
  },
  {
   "cell_type": "markdown",
   "id": "a053d6ea",
   "metadata": {},
   "source": [
    "\n",
    "**Código para Exportar a HTML o PDF:**\n",
    "Al finalizar el informe, los estudiantes pueden exportarlo para su entrega:\n"
   ]
  },
  {
   "cell_type": "markdown",
   "id": "b03bc863",
   "metadata": {},
   "source": [
    "```bash\n",
    "jupyter nbconvert --to html reporte_vivienda.ipynb\n",
    "```\n"
   ]
  },
  {
   "cell_type": "markdown",
   "id": "341db066",
   "metadata": {},
   "source": [
    "\n",
    "---\n",
    "\n",
    "### **Objetivos de la Actividad de Retroalimentación**\n"
   ]
  },
  {
   "cell_type": "markdown",
   "id": "476313d8",
   "metadata": {},
   "source": [
    "1. Fomentar la reflexión crítica y el análisis colaborativo.\n",
    "2. Desarrollar habilidades de revisión de código y comunicación técnica.\n",
    "3. Consolidar el aprendizaje a través de la elaboración de un informe bien estructurado.\n"
   ]
  },
  {
   "cell_type": "markdown",
   "id": "f498b969",
   "metadata": {},
   "source": [
    "\n",
    "¿Te gustaría incluir algún detalle adicional o profundizar en alguna sección? "
   ]
  },
  {
   "cell_type": "markdown",
   "id": "10bce0d0",
   "metadata": {
    "slideshow": {
     "slide_type": "slide"
    }
   },
   "source": [
    "## Referentes "
   ]
  },
  {
   "cell_type": "markdown",
   "id": "1db3c468",
   "metadata": {
    "slideshow": {
     "slide_type": "slide"
    }
   },
   "source": [
    " \n",
    "\n",
    "* [Chollet, F. (2021). Deep learning with Python. Simon and Schuster.](chrome-extension://efaidnbmnnnibpcajpcglclefindmkaj/https://tanthiamhuat.wordpress.com/wp-content/uploads/2018/03/deeplearningwithpython.pdf)  \n",
    "  \n",
    "\n",
    "* [Recomendación de la UNESCO sobre ciencia abierta](https://unesdoc.unesco.org/ark:/48223/pf0000379949_spa)\n",
    "\n",
    "* [chatGPT](https://openai.com/blog/chatgpt)  \n",
    "\n",
    "* [Géron, A. (2017). Hands-on machine learning with scikit-learn and tensorflow: Concepts. Tools, and Techniques to build intelligent systems.](https://github.com/marco-canas/didactica_ciencia_datos/blob/main/2_referentes/geron/Hands-On%20Machine%20Learning-3nd_Edition(2022).pdf)  \n"
   ]
  },
  {
   "cell_type": "markdown",
   "id": "df925560",
   "metadata": {},
   "source": [
    "\n",
    "* [McKinney, W. (2012). Python for data analysis: Data wrangling with Pandas, NumPy, and IPython. \" O'Reilly Media, Inc.\".](https://wesmckinney.com/book/) "
   ]
  },
  {
   "cell_type": "markdown",
   "id": "8e65d6f9",
   "metadata": {},
   "source": [
    "# Como estudiante, encuentro que...   \n",
    "\n",
    "F: Mis Fortalezas son:     \n",
    "O: Mis Oportunidades son:    \n",
    "D: Mis Debilidades son:    \n",
    "A: Lo que Amenazas mi aprendizaje es:  "
   ]
  },
  {
   "cell_type": "markdown",
   "id": "6b9e56a8",
   "metadata": {
    "slideshow": {
     "slide_type": "slide"
    }
   },
   "source": [
    "### [Evaluamos al profesor Marco Cañas Aquí](https://forms.office.com/Pages/ResponsePage.aspx?id=IefhmYRxjkmK_7KtTlPBwkanXIs1i1FEujpsZgO6dXpUREJPV1kxUk1JV1ozTFJIQVNIQjY5WEY3US4u)"
   ]
  },
  {
   "cell_type": "markdown",
   "id": "10f43536",
   "metadata": {
    "slideshow": {
     "slide_type": "slide"
    }
   },
   "source": [
    "### Continue su aprendizaje en la siguiente clase a través del siguiente [vínculo]()"
   ]
  },
  {
   "cell_type": "markdown",
   "id": "53cc9115",
   "metadata": {
    "slideshow": {
     "slide_type": "slide"
    }
   },
   "source": [
    "## Agradecimientos  \n",
    "\n",
    "Doy gracias a Dios por la vida de mi Hijo Joseph Cañas Osorio y la madurez que ha alcanzado. Este hijo me enorgullece y me hace falta abrazarlo cada día. \n",
    "\n",
    "Y a mi esposa Yasmira Emperatriz Barboza Mogollón por su apoyo, orientación y acompañamiento. "
   ]
  },
  {
   "cell_type": "markdown",
   "id": "a0efb260",
   "metadata": {},
   "source": [
    "# Enseñar enfocado al servicio  "
   ]
  },
  {
   "cell_type": "markdown",
   "id": "57dbeaa6",
   "metadata": {},
   "source": [
    "Es admirable que reflexiones sobre cómo mejorar tus emociones y actitudes hacia tus estudiantes y su aceptación de tus métodos de enseñanza. "
   ]
  },
  {
   "cell_type": "markdown",
   "id": "29d2f844",
   "metadata": {},
   "source": [
    "Trabajar en estos aspectos no solo te hará sentir más pleno y tranquilo, sino que también mejorará la experiencia educativa para tus estudiantes. "
   ]
  },
  {
   "cell_type": "markdown",
   "id": "2b529c50",
   "metadata": {},
   "source": [
    "Aquí tienes algunas estrategias:\n",
    "\n",
    "---\n"
   ]
  },
  {
   "cell_type": "markdown",
   "id": "c6329acf",
   "metadata": {},
   "source": [
    "\n",
    "### **1. Reconocer y cuestionar los prejuicios**\n"
   ]
  },
  {
   "cell_type": "markdown",
   "id": "e0e26bc1",
   "metadata": {},
   "source": [
    "   - **Identifica tus pensamientos automáticos:** Cuando sientas que los estudiantes te rechazan, detente y pregúntate: _¿Qué evidencia concreta tengo para pensar esto?_\n",
    "   - **Reformula tus percepciones:** En lugar de pensar “mis estudiantes me rechazan,” prueba con: “mis estudiantes tienen diferentes formas de aprender y adaptarse.”\n",
    "   - **Acepta la diversidad:** Reconoce que no todos los estudiantes estarán inmediatamente interesados en tus propuestas, pero eso no significa rechazo hacia ti o tu esfuerzo.\n",
    "\n",
    "---\n"
   ]
  },
  {
   "cell_type": "markdown",
   "id": "a4fca0e3",
   "metadata": {},
   "source": [
    "\n",
    "### **2. Cambia el enfoque hacia el servicio**\n",
    "   - **Enfócate en el aprendizaje, no en la aceptación:** Piensa que tu propósito es sembrar conocimiento, incluso si algunos estudiantes no lo aprecian en el momento.\n",
    "   - **Adopta una mentalidad de facilitador:** Más que transmitir información, facilita experiencias significativas de aprendizaje, adaptándote a las necesidades e intereses de los estudiantes.\n",
    "\n",
    "---\n"
   ]
  },
  {
   "cell_type": "markdown",
   "id": "4da7317d",
   "metadata": {},
   "source": [
    "\n",
    "### **3. Fomenta el diálogo y la empatía**\n"
   ]
  },
  {
   "cell_type": "markdown",
   "id": "f006ad1a",
   "metadata": {},
   "source": [
    "   - **Escucha activa:** Pregunta directamente a tus estudiantes cómo se sienten respecto a tus métodos. Escucha con apertura y sin juzgar.\n",
    "   - **Valora sus perspectivas:** Acepta que algunos estudiantes puedan preferir métodos más tradicionales. Encuentra maneras de conectar esos métodos con tu propuesta moderna.\n",
    "   - **Construye relaciones:** Muestra interés genuino en sus vidas y contextos. Cuando se sienten valorados como personas, son más receptivos a tus métodos.\n",
    "\n",
    "---\n"
   ]
  },
  {
   "cell_type": "markdown",
   "id": "2939cfb5",
   "metadata": {},
   "source": [
    "\n",
    "### **4. Adapta tu enseñanza gradualmente**\n"
   ]
  },
  {
   "cell_type": "markdown",
   "id": "f3a5fb0a",
   "metadata": {},
   "source": [
    "   - **Introducción progresiva:** Si Python, Jupyter y Machine Learning son muy nuevos para tus estudiantes, introdúcelos poco a poco, empezando por problemas simples y relevantes para su contexto.\n"
   ]
  },
  {
   "cell_type": "markdown",
   "id": "55a5922f",
   "metadata": {},
   "source": [
    "   - **Conecta con su realidad:** Relaciona tus clases con situaciones prácticas y locales que les sean familiares, como ejemplos en agroindustria, economía local o salud pública.\n"
   ]
  },
  {
   "cell_type": "markdown",
   "id": "9f4c2224",
   "metadata": {},
   "source": [
    "   - **Proporciona alternativas:** Complementa tus clases con métodos más tradicionales para dar a los estudiantes opciones y tiempo para adaptarse.\n",
    "\n",
    "---\n"
   ]
  },
  {
   "cell_type": "markdown",
   "id": "fe7309a9",
   "metadata": {},
   "source": [
    "\n",
    "### **5. Gestiona tus emociones**\n"
   ]
  },
  {
   "cell_type": "markdown",
   "id": "9c4796a6",
   "metadata": {},
   "source": [
    "   - **Practica la autorreflexión:** Al final de cada clase, reflexiona: _\n",
    "      * ¿Qué funcionó bien?_ y _\n",
    "      * ¿Qué puedo ajustar?_ \n",
    "  *  Esto te ayudará a enfocarte en soluciones en lugar de quedarte en la frustración.\n"
   ]
  },
  {
   "cell_type": "markdown",
   "id": "d79b19ec",
   "metadata": {},
   "source": [
    "   - **Acepta lo que no puedes controlar:** No todos los estudiantes estarán abiertos de inmediato, y eso está bien. Concéntrate en aquellos que están dispuestos a aprender.\n",
    "   - **Practica la gratitud:** Agradece los momentos positivos con tus estudiantes. Esto ayuda a equilibrar la percepción de rechazo.\n",
    "\n",
    "---\n"
   ]
  },
  {
   "cell_type": "markdown",
   "id": "6747e345",
   "metadata": {},
   "source": [
    "\n",
    "### **6. Aprende a manejar la resistencia**\n"
   ]
  },
  {
   "cell_type": "markdown",
   "id": "bdc2a092",
   "metadata": {},
   "source": [
    "   - **No lo tomes como algo personal:** La resistencia puede deberse a múltiples factores, como miedo al cambio, falta de confianza en sus habilidades o experiencias previas negativas.\n"
   ]
  },
  {
   "cell_type": "markdown",
   "id": "54ddf530",
   "metadata": {},
   "source": [
    "   - **Apóyales en la transición:** Proporciona recursos adicionales, tutorías o espacios para aclarar dudas. Asegúrate de que no sientan que están solos en su proceso.\n",
    "\n",
    "---\n"
   ]
  },
  {
   "cell_type": "markdown",
   "id": "69fcfebe",
   "metadata": {},
   "source": [
    "\n",
    "### **7. Busca apoyo personal y profesional**\n"
   ]
  },
  {
   "cell_type": "markdown",
   "id": "d72d69c3",
   "metadata": {},
   "source": [
    "   - **Construye una red de colegas:** Comparte tus experiencias con otros profesores que también estén adoptando enfoques innovadores. Sus consejos y apoyo te serán valiosos.\n",
    "   - **Consulta a un mentor:** Hablar con alguien con experiencia en pedagogía puede darte nuevas perspectivas.\n",
    "   - **Practica técnicas de relajación:** Meditación, mindfulness o actividades como el ciclismo pueden ayudarte a manejar la ansiedad y mantener la calma.\n",
    "\n",
    "---\n"
   ]
  },
  {
   "cell_type": "markdown",
   "id": "777aac91",
   "metadata": {},
   "source": [
    "\n",
    "### **8. Redefine el éxito**\n",
    "   - El éxito no siempre es que todos los estudiantes acepten tu método. Es que logres impactar positivamente, aunque sea en un solo estudiante. Siembra semillas de conocimiento y curiosidad, incluso si los resultados no son inmediatos.\n",
    "\n",
    "---\n"
   ]
  },
  {
   "cell_type": "markdown",
   "id": "822eb54c",
   "metadata": {},
   "source": [
    "\n",
    "### Reflexión final:\n"
   ]
  },
  {
   "cell_type": "markdown",
   "id": "518cf856",
   "metadata": {},
   "source": [
    "En tu papel como educador, el rechazo o la resistencia de los estudiantes no siempre significa fracaso, sino una oportunidad de crecer y aprender sobre cómo conectarte mejor con ellos. "
   ]
  },
  {
   "cell_type": "markdown",
   "id": "a3dd80ab",
   "metadata": {},
   "source": [
    "Al mantener una actitud de servicio, empatía y apertura al cambio, fortalecerás no solo tus clases, sino también tu bienestar emocional y profesional.\n"
   ]
  },
  {
   "cell_type": "markdown",
   "id": "2750bec6",
   "metadata": {},
   "source": [
    "\n",
    "¿Te gustaría explorar estrategias específicas para introducir Python y ciencia de datos a tus estudiantes en función de su contexto?"
   ]
  },
  {
   "cell_type": "markdown",
   "id": "d2f8fe22",
   "metadata": {},
   "source": [
    "# Apéndice de informaciones institucionales por semestre 2025  \n",
    "\n",
    "ARTÍCULO 1: Fijar el periodo de vacaciones intersemestrales para los docentes de la Institución\n",
    "entre el 24 de junio y el 08 de julio de 2025, ambas fechas inclusive."
   ]
  }
 ],
 "metadata": {
  "celltoolbar": "Slideshow",
  "kernelspec": {
   "display_name": ".venv",
   "language": "python",
   "name": "python3"
  },
  "language_info": {
   "codemirror_mode": {
    "name": "ipython",
    "version": 3
   },
   "file_extension": ".py",
   "mimetype": "text/x-python",
   "name": "python",
   "nbconvert_exporter": "python",
   "pygments_lexer": "ipython3",
   "version": "3.13.2"
  },
  "rise": {
   "enable_chalkboard": true,
   "theme": "sky",
   "transition": "zoom"
  }
 },
 "nbformat": 4,
 "nbformat_minor": 5
}
