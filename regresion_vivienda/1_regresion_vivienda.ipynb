{
 "cells": [
  {
   "cell_type": "markdown",
   "id": "dc06dec7",
   "metadata": {
    "slideshow": {
     "slide_type": "slide"
    }
   },
   "source": [
    "<table align=\"left\">\n",
    "  <td>\n",
    "    <a href=\"https://colab.research.google.com/github/marco-canas/didactica_ciencia_datos/blob/main/1_curso_machine_learning/6_regresion/regresion_vivienda/1_regresion_vivienda.ipynb\" target=\"_parent\"><img src=\"https://colab.research.google.com/assets/colab-badge.svg\" alt=\"Open In Colab\"/></a>\n",
    "  </td>\n",
    "  <td>\n",
    "    <a target=\"_blank\" href=\"https://kaggle.com/kernels/welcome?src=https://github.com/marco-canas/didactica_ciencia_datos/blob/main/1_curso_machine_learning/6_regresion/regresion_vivienda/1_regresion_vivienda.ipynb\"><img src=\"https://kaggle.com/static/images/open-in-kaggle.svg\" /></a>\n",
    "  </td>\n",
    "</table>"
   ]
  },
  {
   "cell_type": "markdown",
   "id": "e0c5b198",
   "metadata": {
    "slideshow": {
     "slide_type": "slide"
    }
   },
   "source": [
    "### [Video de apoyo a la lectura interactiva y experimental de este cuaderno]()"
   ]
  },
  {
   "cell_type": "markdown",
   "id": "41e82203",
   "metadata": {
    "slideshow": {
     "slide_type": "slide"
    }
   },
   "source": [
    "### [Vínculo al programa del curso Introducción al machine learning ](https://github.com/marco-canas/didactica_ciencia_datos/blob/main/1_curso_machine_learning/0_plan_del_curso/plan_curso_ml.md)\n",
    "\n"
   ]
  },
  {
   "cell_type": "markdown",
   "id": "96775931",
   "metadata": {
    "slideshow": {
     "slide_type": "slide"
    }
   },
   "source": [
    "## Título de la clase: Regresión con el dataset de vivienda de Geron   \n",
    "\n",
    "[]()"
   ]
  },
  {
   "cell_type": "markdown",
   "id": "8853d874",
   "metadata": {},
   "source": [
    "## El componente histórico y epistemológico"
   ]
  },
  {
   "cell_type": "markdown",
   "id": "2fded09f",
   "metadata": {},
   "source": [
    "Para desarrollar una clase sobre la **construcción de un modelo de regresión de principio a fin** utilizando el dataset \"housing\" del libro *Hands-On Machine Learning with Scikit-Learn, Keras, and TensorFlow* de Aurélien Géron, podemos incluir elementos **históricos y epistemológicos** relevantes que contextualicen el proceso. "
   ]
  },
  {
   "cell_type": "markdown",
   "id": "9c2f9955",
   "metadata": {},
   "source": [
    "\n",
    "### **Elementos históricos**\n",
    "1. **Origen del concepto de regresión**:  \n"
   ]
  },
  {
   "cell_type": "markdown",
   "id": "3ccdeb05",
   "metadata": {},
   "source": [
    "   - Introducido por Francis Galton en el siglo XIX en su estudio de la herencia biológica. Observó que las alturas de los hijos tendían a \"regresar\" hacia la media de las alturas de la población.\n"
   ]
  },
  {
   "cell_type": "markdown",
   "id": "2f857659",
   "metadata": {},
   "source": [
    "   - Relación con el concepto de correlación, también desarrollado por Galton y matemáticamente formalizado por Karl Pearson.\n"
   ]
  },
  {
   "cell_type": "markdown",
   "id": "80c223da",
   "metadata": {},
   "source": [
    "\n",
    "2. **Evolución de la estadística inferencial**:  \n"
   ]
  },
  {
   "cell_type": "markdown",
   "id": "02186ad8",
   "metadata": {},
   "source": [
    "   - El método de los mínimos cuadrados, que es la base de la regresión lineal, fue desarrollado por Adrien-Marie Legendre (1805) y Carl Friedrich Gauss (1809).\n"
   ]
  },
  {
   "cell_type": "markdown",
   "id": "4760efc1",
   "metadata": {},
   "source": [
    "   - Los desarrollos en teoría estadística durante el siglo XX, incluyendo el trabajo de Ronald Fisher, cimentaron la base para los modelos estadísticos modernos.\n"
   ]
  },
  {
   "cell_type": "markdown",
   "id": "42541823",
   "metadata": {},
   "source": [
    "\n",
    "3. **Avances en computación y aprendizaje automático**: "
   ]
  },
  {
   "cell_type": "markdown",
   "id": "ddda112b",
   "metadata": {},
   "source": [
    " \n",
    "   - El uso de computadoras permitió el cálculo de modelos más complejos en grandes datasets. En las décadas de 1950 y 1960, la aparición de lenguajes como Fortran y C facilitó la implementación de algoritmos de regresión.\n"
   ]
  },
  {
   "cell_type": "markdown",
   "id": "d3bbb094",
   "metadata": {},
   "source": [
    "   - En la década de 2010, el auge del *Machine Learning* popularizó herramientas como Scikit-Learn, simplificando la implementación de modelos como los de regresión.\n"
   ]
  },
  {
   "cell_type": "markdown",
   "id": "aedd87d2",
   "metadata": {},
   "source": [
    "\n",
    "4. **Publicación del dataset \"housing\"**:  \n"
   ]
  },
  {
   "cell_type": "markdown",
   "id": "9d1a41dd",
   "metadata": {},
   "source": [
    "   - El dataset \"housing\" proviene de los datos sobre precios de vivienda en California y fue recopilado como parte del censo estadounidense de 1990. "
   ]
  },
  {
   "cell_type": "markdown",
   "id": "13facee3",
   "metadata": {},
   "source": [
    "Su inclusión en *Hands-On Machine Learning* lo convirtió en un ejemplo clásico para aprendizaje supervisado.\n",
    "\n",
    "---\n"
   ]
  },
  {
   "cell_type": "markdown",
   "id": "4d61a160",
   "metadata": {},
   "source": [
    "\n",
    "### **Elementos epistemológicos**\n"
   ]
  },
  {
   "cell_type": "markdown",
   "id": "9543d011",
   "metadata": {},
   "source": [
    "1. **La modelización como una forma de representar la realidad**:  \n",
    "   - Los modelos de regresión buscan capturar relaciones entre variables independientes (predictoras) y una variable dependiente (respuesta) para hacer predicciones o entender patrones.  \n",
    "   - Reflexión: ¿Qué tan bien un modelo puede capturar la complejidad del mundo real? ¿Qué se pierde en la simplificación?\n"
   ]
  },
  {
   "cell_type": "markdown",
   "id": "c7eb375a",
   "metadata": {},
   "source": [
    "\n",
    "2. **La importancia de los datos en el conocimiento científico**:  \n",
    "   - La calidad del modelo depende de la calidad y relevancia de los datos. Esto resalta el papel del *preprocesamiento de datos* y de la *limpieza* como pasos fundamentales para evitar sesgos y errores.\n"
   ]
  },
  {
   "cell_type": "markdown",
   "id": "3a8e0610",
   "metadata": {},
   "source": [
    "\n",
    "3. **La interpretación de los resultados**:  \n",
    "   - En ciencia, un modelo no solo debe predecir bien; debe ser interpretable. Esto lleva a preguntas como: ¿Qué significan los coeficientes de la regresión? ¿Qué limitaciones tienen las predicciones?  \n",
    "   - Reflexión: ¿Qué sucede si los datos usados para construir el modelo no representan adecuadamente la población?\n"
   ]
  },
  {
   "cell_type": "markdown",
   "id": "5b8a1c34",
   "metadata": {},
   "source": [
    "\n",
    "4. **El papel del error y la validación**:  \n",
    "   - Los conceptos de error (RMSE, MAE) son fundamentales para evaluar la calidad de un modelo. Este enfoque cuantitativo refuerza la idea de que todo modelo es una aproximación sujeta a incertidumbre.\n"
   ]
  },
  {
   "cell_type": "markdown",
   "id": "b7929c4c",
   "metadata": {},
   "source": [
    "\n",
    "5. **Ética en la construcción de modelos**:  \n",
    "   - Al trabajar con datos sensibles como precios de vivienda, surgen preguntas éticas: ¿Cómo evitar perpetuar desigualdades sociales o económicas a través de modelos mal diseñados?\n",
    "\n",
    "---\n"
   ]
  },
  {
   "cell_type": "markdown",
   "id": "3fcb1560",
   "metadata": {},
   "source": [
    "\n",
    "### **Propuesta de estructura para la clase**\n",
    "1. **Introducción histórica**:\n",
    "   - Breve historia de la regresión y su importancia en estadística y aprendizaje automático.\n",
    "   - Origen y contexto del dataset \"housing\".\n"
   ]
  },
  {
   "cell_type": "markdown",
   "id": "015cc2fd",
   "metadata": {},
   "source": [
    "\n",
    "2. **Fundamentos epistemológicos**:\n",
    "   - Discusión sobre la naturaleza de los modelos matemáticos: ¿son representaciones exactas o aproximaciones útiles?\n",
    "   - Debate sobre la ética y las limitaciones de los modelos predictivos.\n"
   ]
  },
  {
   "cell_type": "markdown",
   "id": "21b6a3d6",
   "metadata": {},
   "source": [
    "\n",
    "3. **Implementación práctica con Python**:\n",
    "   - Carga y exploración del dataset (exploración inicial, visualización).\n",
    "   - Preprocesamiento de datos (manejo de valores nulos, escalado, codificación).\n",
    "   - Entrenamiento de un modelo de regresión lineal.\n",
    "   - Evaluación del modelo con métricas como RMSE y análisis de errores.\n"
   ]
  },
  {
   "cell_type": "markdown",
   "id": "63ecca25",
   "metadata": {},
   "source": [
    "\n",
    "4. **Cierre reflexivo**:\n",
    "   - Interpretación de los resultados.\n",
    "   - Análisis crítico: ¿cómo mejorar el modelo? ¿Qué nos dicen los resultados sobre el dataset?\n",
    "\n",
    "---\n"
   ]
  },
  {
   "cell_type": "markdown",
   "id": "4f0ad518",
   "metadata": {},
   "source": [
    "\n",
    "Con esta combinación de historia, epistemología y práctica, los estudiantes podrán comprender tanto el contexto teórico como la implementación técnica del modelo de regresión. "
   ]
  },
  {
   "cell_type": "markdown",
   "id": "95dd5d2c",
   "metadata": {},
   "source": [
    "[Video de apoyo a la lectura de algunos elementos históricos y epistemológicos asociados a la regresión con el dataset housing de Geron](https://www.youtube.com/watch?v=g-Ac7nyQo08)"
   ]
  },
  {
   "cell_type": "code",
   "execution_count": null,
   "id": "bc0addfe",
   "metadata": {},
   "outputs": [],
   "source": [
    "# mapa conceptual para cada clase  \n",
    "from graphviz import Digraph\n",
    "\n",
    "# Crear un nuevo grafo dirigido\n",
    "dot = Digraph()\n",
    "\n",
    "# Concepto principal\n",
    "main_concept = 'Regresión Multilineal'\n",
    "dot.node('A', main_concept)\n",
    "\n",
    "# Etapas del proceso\n",
    "dot.node('B', '1. Exploración de datos')\n",
    "dot.node('C', '2. Preprocesamiento')\n",
    "dot.node('D', '3. División de datos')\n",
    "dot.node('E', '4. Selección de características')\n",
    "dot.node('F', '5. Entrenamiento del modelo')\n",
    "dot.node('G', '6. Evaluación del modelo')\n",
    "dot.node('H', '7. Ajustes y mejora')\n",
    "dot.node('I', '8. Predicción con datos nuevos')\n",
    "\n",
    "# Relaciones entre las etapas\n",
    "dot.edges([\n",
    "    ('A', 'B'),\n",
    "    ('B', 'C'),\n",
    "    ('C', 'D'),\n",
    "    ('D', 'E'),\n",
    "    ('E', 'F'),\n",
    "    ('F', 'G'),\n",
    "    ('G', 'H'),\n",
    "    ('H', 'I')\n",
    "])\n",
    "\n",
    "# Guardar el grafo como un archivo de imagen\n",
    "dot.render(filename=main_concept, format='png', cleanup=True, \\\n",
    "           directory='C:/Users/marco/Descargas')\n",
    "\n",
    "# Mostrar el grafo\n",
    "dot.view()\n"
   ]
  },
  {
   "cell_type": "markdown",
   "id": "10e55ccf",
   "metadata": {},
   "source": [
    "# Estructura general para todas las clases\n",
    "\n",
    "Dame, por favor, un diseño de clase sobre:<<Tema de la clase>>, siguiendo la estructura: \n",
    "1. Título de la clase \n",
    "2. Objetivo de aprendizaje\n",
    "3. Contenido de la clase\n",
    "4. Actividades de aprendizaje\n",
    "5. Tarea o actividades de ejercitación y fijación\n",
    "6. Diseño de actividad de retroalimentación.   \n",
    "\n",
    "Pero  que este diseño sea para que el estudiante pueda aprender experimentando en cuadernos Jupyter con funciones de usuario y animaciones y visualizaciones en python. "
   ]
  },
  {
   "cell_type": "markdown",
   "id": "239427f7",
   "metadata": {},
   "source": [
    "\n",
    "\n",
    "# Constitución de un modelo de regresión para la predicción de precios de vivienda.\n"
   ]
  },
  {
   "cell_type": "markdown",
   "id": "e7088d2b",
   "metadata": {},
   "source": [
    "\n",
    "### 2. Objetivo de aprendizaje\n",
    "El estudiante será capaz de diseñar un modelo de regresión Multilineal o de arbol de decisión, Random Forest para predecir precios de vivienda, aplicando visualizaciones y animaciones en Python, y utilizando funciones de usuario en cuadernos Jupyter.\n"
   ]
  },
  {
   "cell_type": "markdown",
   "id": "87fdde18",
   "metadata": {},
   "source": [
    "Decimos que un modelo es lineal cuando: \n",
    "\n",
    "$$ y = \\theta_{0} + \\theta_{1}x_{1} + \\theta_{2}x_{2} + \\cdots + \\theta_{n}x_{n} $$"
   ]
  },
  {
   "cell_type": "markdown",
   "id": "bf27c7ee",
   "metadata": {},
   "source": [
    "\n",
    "### 3. Contenido de la clase\n",
    "1. Introducción a los modelos de regresión y sus aplicaciones en la predicción de precios de vivienda.\n",
    "2. Exploración y limpieza de datos.\n",
    "3. Diseño de funciones de usuario para preparar y analizar los datos.\n",
    "4. Creación de un modelo de regresión lineal simple.\n",
    "5. Visualización de resultados: gráficas estáticas y animadas para interpretar el modelo.\n"
   ]
  },
  {
   "cell_type": "markdown",
   "id": "e432880b",
   "metadata": {},
   "source": [
    "\n",
    "### 4. Actividades de aprendizaje\n"
   ]
  },
  {
   "cell_type": "markdown",
   "id": "b2c06fcb",
   "metadata": {},
   "source": [
    "**Actividad 1: Exploración del dataset**\n"
   ]
  },
  {
   "cell_type": "markdown",
   "id": "056c3090",
   "metadata": {},
   "source": [
    "* El estudiante creará una función de usuario de python para salvar las imagenes de todo el proceso de visualización que realice en la modelación  \n",
    "\n"
   ]
  },
  {
   "cell_type": "markdown",
   "id": "a52ce249",
   "metadata": {},
   "source": [
    "- El estudiante cargará y explorará el archivo `vivienda.csv` utilizando pandas. \n",
    "- Identificará variables relevantes (como 'longitud', \"antiguedad\", \"habitaciones\", y \"precio\") para el modelo de regresión.\n"
   ]
  },
  {
   "cell_type": "markdown",
   "id": "a10a1007",
   "metadata": {},
   "source": [
    "- Utilizará funciones de usuario para:\n",
    "  - Calcular estadísticas descriptivas.\n",
    "  - Generar visualizaciones iniciales de correlación (gráficas de dispersión).\n"
   ]
  },
  {
   "cell_type": "markdown",
   "id": "bd54a90b",
   "metadata": {},
   "source": [
    "\n",
    "**Actividad 2: Diseño de funciones para preparar los datos**\n",
    "- El estudiante escribirá una función que normalice los datos y otra que elimine valores atípicos.\n",
    "- Aplicará estas funciones al dataset y observará cómo cambia la distribución de los datos.\n"
   ]
  },
  {
   "cell_type": "markdown",
   "id": "4c71069d",
   "metadata": {},
   "source": [
    "\n",
    "**Actividad 3: Creación del modelo de regresión**\n",
    "- Utilizará scikit-learn para implementar un modelo de regresión lineal simple.\n",
    "- Diseñará una función para entrenar el modelo y calcular métricas de rendimiento como el error cuadrático medio (MSE).\n"
   ]
  },
  {
   "cell_type": "markdown",
   "id": "fe06f8c4",
   "metadata": {},
   "source": [
    "\n",
    "**Actividad 4: Visualización de resultados**\n"
   ]
  },
  {
   "cell_type": "markdown",
   "id": "4b0f2d33",
   "metadata": {},
   "source": [
    "- Creará gráficas estáticas con matplotlib para visualizar:\n",
    "  - La línea de regresión ajustada.\n",
    "  - Las predicciones frente a los datos reales.\n",
    "- Diseñará una animación con matplotlib o plotly que muestre el ajuste progresivo de la línea de regresión durante el entrenamiento.\n"
   ]
  },
  {
   "cell_type": "markdown",
   "id": "6ff8c27d",
   "metadata": {},
   "source": [
    "\n",
    "### 5. Tarea o actividades de ejercitación y fijación\n",
    "1. Crear una función que permita evaluar el modelo para un subconjunto de datos desconocidos (datos de prueba).\n",
    "2. Implementar visualizaciones adicionales, como:\n",
    "   - Histograma de errores de predicción.\n",
    "   - Gráfica 3D si se incluyen más de dos variables predictoras.\n",
    "3. Experimentar con diferentes subconjuntos de variables predictoras para observar cómo cambia el rendimiento del modelo.\n"
   ]
  },
  {
   "cell_type": "markdown",
   "id": "78b0ebdc",
   "metadata": {},
   "source": [
    "\n",
    "### 6. Diseño de actividad de retroalimentación\n"
   ]
  },
  {
   "cell_type": "markdown",
   "id": "1a1ef513",
   "metadata": {},
   "source": [
    "- **Discusión en clase:** Cada estudiante presentará sus hallazgos sobre la variable que tiene mayor correlación con el precio de la vivienda y cómo el modelo predice en datos de prueba.\n",
    "- **Revisión colaborativa:** Formar equipos para revisar y comentar los códigos de sus compañeros. Identificar mejoras en las funciones implementadas.\n",
    "- **Entrega de un reporte:** El estudiante generará un informe en formato Markdown dentro del cuaderno Jupyter, explicando los pasos seguidos, los resultados obtenidos y el impacto de las visualizaciones en la interpretación del modelo.\n",
    "\n"
   ]
  },
  {
   "cell_type": "code",
   "execution_count": null,
   "id": "adbfb012",
   "metadata": {},
   "outputs": [],
   "source": [
    "import os\n",
    "import subprocess\n",
    "\n",
    "# Lista de archivos extraída de git lfs ls-files\n",
    "files_to_remove = [\n",
    "    \"1_curso_ml/1_python/2_estructuras_datos/5_dataframe/ejemplo_datos.csv\",\n",
    "    \"1_curso_ml/1_python/2_estructuras_datos/5_dataframe/mi_segundo_csv_file.csv\",\n",
    "    \"1_curso_ml/1_python/2_estructuras_datos/5_dataframe/miprimer_csv_file.csv\",\n",
    "    \"1_curso_ml/4_visualizacion/1_mapas_geograficos_de_calor/col_admbnda_adm0_mgn_itos_20200416.shp\",\n",
    "    \"1_curso_ml/4_visualizacion/1_mapas_geograficos_de_calor/col_admbnda_adm1_mgn_20200416.shp\",\n",
    "    \"1_curso_ml/4_visualizacion/1_mapas_geograficos_de_calor/col_admbnda_adm2_mgn_20200416.shp\",\n",
    "    # Agregar el resto de archivos aquí...\n",
    "]\n",
    "\n",
    "# Eliminar archivos de Git\n",
    "for file in files_to_remove:\n",
    "    print(f\"Eliminando {file} del historial de Git...\")\n",
    "    subprocess.run([\"git\", \"rm\", \"--cached\", file])\n",
    "\n",
    "# Hacer commit de los cambios\n",
    "subprocess.run([\"git\", \"commit\", \"-m\", \"Eliminados archivos grandes del historial\"])\n",
    "\n",
    "# Reescribir el historial de Git\n",
    "subprocess.run([\"git\", \"repack\", \"-a\", \"-d\"])\n",
    "subprocess.run([\"git\", \"gc\", \"--prune=now\"])\n",
    "subprocess.run([\"git\", \"filter-branch\", \"--force\", \"--index-filter\", \n",
    "                \"git rm --cached --ignore-unmatch $(git lfs ls-files | awk '{print $3}')\", \n",
    "                \"--prune-empty\", \"--tag-name-filter\", \"cat\", \"--\", \"--all\"])\n",
    "\n",
    "print(\"Proceso completado. Recuerda hacer push forzado si es un repositorio remoto: git push origin --force --all\")\n"
   ]
  },
  {
   "cell_type": "markdown",
   "id": "acac3cd8",
   "metadata": {},
   "source": [
    "# Implementar esta clase \n"
   ]
  },
  {
   "cell_type": "markdown",
   "id": "55e42c68",
   "metadata": {},
   "source": [
    "# Constitución de un modelo de regresión multilineal para la predicción de precios de vivienda.\n"
   ]
  },
  {
   "cell_type": "markdown",
   "id": "9880a022",
   "metadata": {},
   "source": [
    "\n",
    "### 2. Objetivo de aprendizaje\n",
    "\n",
    "El estudiante será capaz de diseñar un modelo de regresión multilineal para predecir precios de vivienda, aplicando visualizaciones y animaciones en Python, y utilizando funciones de usuario en cuadernos Jupyter.\n"
   ]
  },
  {
   "cell_type": "markdown",
   "id": "cb6f8a34",
   "metadata": {},
   "source": [
    "\n",
    "### 3. Contenido de la clase\n"
   ]
  },
  {
   "cell_type": "markdown",
   "id": "0edfc7c6",
   "metadata": {},
   "source": [
    "\n",
    "1. **Introducción a los modelos de regresión y sus aplicaciones en la predicción de precios de vivienda.**\n"
   ]
  },
  {
   "cell_type": "markdown",
   "id": "3212efe7",
   "metadata": {},
   "source": [
    "   - **Concepto básico de regresión:** \n"
   ]
  },
  {
   "cell_type": "markdown",
   "id": "29eeaa8d",
   "metadata": {},
   "source": [
    "- Un modelo de regresión es una herramienta estadística que permite establecer relaciones entre una variable dependiente (respuesta) y una o más variables independientes (predictoras).\n"
   ]
  },
  {
   "cell_type": "markdown",
   "id": "a36b2ec3",
   "metadata": {},
   "source": [
    "# - Tipos principales:\n",
    "   1. **Regresión lineal simple:** Se utiliza cuando hay una sola variable predictora y se asume una relación lineal entre las variables.\n",
    "   2. **Regresión lineal múltiple:** Amplía la regresión simple al incluir varias variables predictoras.\n",
    "   3. **Regresión polinómica:** Se utiliza cuando la relación entre las variables no es lineal y requiere términos polinómicos para modelar.\n"
   ]
  },
  {
   "cell_type": "markdown",
   "id": "d6990567",
   "metadata": {},
   "source": [
    "- Cuándo utilizarlos:\n"
   ]
  },
  {
   "cell_type": "markdown",
   "id": "e2cca08e",
   "metadata": {},
   "source": [
    "  - Regresión lineal simple: Cuando el objetivo es analizar la relación entre dos variables de manera directa.\n",
    "  - Regresión lineal múltiple: Para capturar el impacto combinado de múltiples variables en la variable dependiente.\n",
    "  - Regresión polinómica: Cuando se identifican patrones no lineales en los datos.\n"
   ]
  },
  {
   "cell_type": "markdown",
   "id": "f0504a21",
   "metadata": {},
   "source": [
    "\n",
    "2. **Exploración y limpieza de datos.**\n",
    "   - **Carga del dataset:**\n",
    "     - Uso de pandas para cargar el archivo `vivienda.csv`.\n",
    "     - Verificación inicial del dataset: dimensiones, tipos de datos, y valores ausentes.\n"
   ]
  },
  {
   "cell_type": "code",
   "execution_count": null,
   "id": "42e1382f",
   "metadata": {},
   "outputs": [],
   "source": [
    "from graphviz import Digraph\n",
    "\n",
    "# Crear el objeto Digraph\n",
    "dot = Digraph(\"RegresionMultilineal\", format=\"png\")\n",
    "\n",
    "# Configuración general\n",
    "dot.attr(bgcolor=\"#f7f7f7\", rankdir=\"LR\")\n",
    "\n",
    "# Etapa 1: Análisis Exploratorio de Datos (EDA)\n",
    "dot.node(\"EDA\", \"Análisis Exploratorio\\nde Datos (EDA)\", shape=\"ellipse\", style=\"filled\", fillcolor=\"lightblue\", color=\"blue\")\n",
    "dot.node(\"Distribucion\", \"Distribución de Variables\", shape=\"box\", style=\"filled\", fillcolor=\"lightyellow\", color=\"goldenrod\")\n",
    "dot.node(\"Correlacion\", \"Matriz de Correlación\", shape=\"parallelogram\", style=\"filled\", fillcolor=\"lightpink\", color=\"red\")\n",
    "dot.node(\"Outliers\", \"Detección de Outliers\", shape=\"diamond\", style=\"filled\", fillcolor=\"lightgreen\", color=\"darkgreen\")\n",
    "\n",
    "# Etapa 2: Preprocesamiento de Datos\n",
    "dot.node(\"Preprocesamiento\", \"Preprocesamiento\\nde Datos\", shape=\"ellipse\", style=\"filled\", fillcolor=\"lightgray\", color=\"black\")\n",
    "dot.node(\"Normalizacion\", \"Normalización\\ny Escalado\", shape=\"box\", style=\"filled\", fillcolor=\"lightcoral\", color=\"maroon\")\n",
    "dot.node(\"Codificacion\", \"Codificación de Variables\", shape=\"parallelogram\", style=\"filled\", fillcolor=\"lightcyan\", color=\"teal\")\n",
    "dot.node(\"Imputacion\", \"Imputación de Valores Faltantes\", shape=\"diamond\", style=\"filled\", fillcolor=\"lightgoldenrod\", color=\"darkorange\")\n",
    "\n",
    "# Etapa 3: Selección de Modelos\n",
    "dot.node(\"SeleccionModelos\", \"Selección de Modelos de ML\", shape=\"ellipse\", style=\"filled\", fillcolor=\"lightblue\", color=\"navy\")\n",
    "dot.node(\"RegresionLineal\", \"Regresión Lineal\", shape=\"box\", style=\"filled\", fillcolor=\"lightgreen\", color=\"green\")\n",
    "dot.node(\"RidgeLasso\", \"Ridge & Lasso\", shape=\"diamond\", style=\"filled\", fillcolor=\"lightpink\", color=\"crimson\")\n",
    "dot.node(\"RandomForest\", \"Random Forest\", shape=\"parallelogram\", style=\"filled\", fillcolor=\"lightyellow\", color=\"goldenrod\")\n",
    "\n",
    "# Etapa 4: Ajuste del Modelo Seleccionado\n",
    "dot.node(\"AjusteModelo\", \"Ajuste del Modelo Seleccionado\", shape=\"ellipse\", style=\"filled\", fillcolor=\"lightgray\", color=\"black\")\n",
    "dot.node(\"Evaluacion\", \"Evaluación y Métricas\", shape=\"box\", style=\"filled\", fillcolor=\"lightblue\", color=\"darkblue\")\n",
    "dot.node(\"Optimizacion\", \"Optimización de Hiperparámetros\", shape=\"diamond\", style=\"filled\", fillcolor=\"lightcoral\", color=\"red\")\n",
    "\n",
    "# Conexiones entre nodos\n",
    "dot.edge(\"EDA\", \"Distribucion\")\n",
    "dot.edge(\"EDA\", \"Correlacion\")\n",
    "dot.edge(\"EDA\", \"Outliers\")\n",
    "dot.edge(\"Distribucion\", \"Preprocesamiento\")\n",
    "dot.edge(\"Correlacion\", \"Preprocesamiento\")\n",
    "dot.edge(\"Outliers\", \"Preprocesamiento\")\n",
    "\n",
    "dot.edge(\"Preprocesamiento\", \"Normalizacion\")\n",
    "dot.edge(\"Preprocesamiento\", \"Codificacion\")\n",
    "dot.edge(\"Preprocesamiento\", \"Imputacion\")\n",
    "dot.edge(\"Normalizacion\", \"SeleccionModelos\")\n",
    "dot.edge(\"Codificacion\", \"SeleccionModelos\")\n",
    "dot.edge(\"Imputacion\", \"SeleccionModelos\")\n",
    "\n",
    "dot.edge(\"SeleccionModelos\", \"RegresionLineal\")\n",
    "dot.edge(\"SeleccionModelos\", \"RidgeLasso\")\n",
    "dot.edge(\"SeleccionModelos\", \"RandomForest\")\n",
    "dot.edge(\"RegresionLineal\", \"AjusteModelo\")\n",
    "dot.edge(\"RidgeLasso\", \"AjusteModelo\")\n",
    "dot.edge(\"RandomForest\", \"AjusteModelo\")\n",
    "\n",
    "dot.edge(\"AjusteModelo\", \"Evaluacion\")\n",
    "dot.edge(\"AjusteModelo\", \"Optimizacion\")\n",
    "\n",
    "# Guardar y mostrar\n",
    "output_path = \"C:/Users/marco/Descargas/regresion_multilineal\"\n",
    "dot.render(output_path, view=True)\n"
   ]
  },
  {
   "cell_type": "markdown",
   "id": "5527fcef",
   "metadata": {},
   "source": [
    "# Secuencia de modelación  \n",
    "\n",
    "1. EDA\n",
    "2. Preprocesamiento\n",
    "3. Selección de modelos\n",
    "4. Afinamiento"
   ]
  },
  {
   "cell_type": "markdown",
   "id": "8b47cd70",
   "metadata": {},
   "source": [
    "# EDA: Análisis exploratorio de datos \n",
    "\n",
    "1. Se empieza por determinar la naturaleza de las variables del dataset. "
   ]
  },
  {
   "cell_type": "code",
   "execution_count": null,
   "id": "a6a1d3a2",
   "metadata": {},
   "outputs": [],
   "source": [
    "def save_fig(nombre_archivo_imagen):\n",
    "    import os \n",
    "    import matplotlib.pyplot as plt\n",
    "    ubicacion_para_imagenes = r\"C:/Users/marco/Descargas\"\n",
    "    imagen_path = os.path.join(ubicacion_para_imagenes, nombre_archivo_imagen)\n",
    "    plt.savefig(imagen_path, bbox_inches='tight')"
   ]
  },
  {
   "cell_type": "code",
   "execution_count": null,
   "id": "3e898afa",
   "metadata": {},
   "outputs": [],
   "source": [
    "# la función load_dataset como función sin argumentos de entrada \n",
    "\n",
    "def load_dataset():\n",
    "    ubicacion = r\"C:/Users/marco/Documentos/investigacion/didactica_datos/3_datasets/vivienda/\"\n",
    "    nombre_archvo = 'vivienda.csv'  \n",
    "    import os \n",
    "    import pandas as pd \n",
    "    csv_path = os.path.join(ubicacion, nombre_archvo)\n",
    "    return pd.read_csv(csv_path)\n",
    "    \n"
   ]
  },
  {
   "cell_type": "code",
   "execution_count": 7,
   "id": "a0dbdf92",
   "metadata": {},
   "outputs": [
    {
     "name": "stdout",
     "output_type": "stream",
     "text": [
      "CPU times: total: 78.1 ms\n",
      "Wall time: 71.1 ms\n"
     ]
    },
    {
     "data": {
      "application/vnd.microsoft.datawrangler.viewer.v0+json": {
       "columns": [
        {
         "name": "index",
         "rawType": "int64",
         "type": "integer"
        },
        {
         "name": "longitud",
         "rawType": "float64",
         "type": "float"
        },
        {
         "name": "latitud",
         "rawType": "float64",
         "type": "float"
        },
        {
         "name": "antiguedad",
         "rawType": "float64",
         "type": "float"
        },
        {
         "name": "habitaciones",
         "rawType": "float64",
         "type": "float"
        },
        {
         "name": "dormitorios",
         "rawType": "float64",
         "type": "float"
        },
        {
         "name": "habitantes",
         "rawType": "float64",
         "type": "float"
        },
        {
         "name": "hogares",
         "rawType": "float64",
         "type": "float"
        },
        {
         "name": "ingresos",
         "rawType": "float64",
         "type": "float"
        },
        {
         "name": "precio",
         "rawType": "float64",
         "type": "float"
        },
        {
         "name": "proximidad",
         "rawType": "object",
         "type": "string"
        }
       ],
       "conversionMethod": "pd.DataFrame",
       "ref": "47c675ac-34dd-4be6-a662-f081a58f2b50",
       "rows": [
        [
         "0",
         "-122.23",
         "37.88",
         "41.0",
         "880.0",
         "129.0",
         "322.0",
         "126.0",
         "8.3252",
         "452600.0",
         "NEAR BAY"
        ],
        [
         "1",
         "-122.22",
         "37.86",
         "21.0",
         "7099.0",
         "1106.0",
         "2401.0",
         "1138.0",
         "8.3014",
         "358500.0",
         "NEAR BAY"
        ],
        [
         "2",
         "-122.24",
         "37.85",
         "52.0",
         "1467.0",
         "190.0",
         "496.0",
         "177.0",
         "7.2574",
         "352100.0",
         "NEAR BAY"
        ],
        [
         "3",
         "-122.25",
         "37.85",
         "52.0",
         "1274.0",
         "235.0",
         "558.0",
         "219.0",
         "5.6431",
         "341300.0",
         "NEAR BAY"
        ],
        [
         "4",
         "-122.25",
         "37.85",
         "52.0",
         "1627.0",
         "280.0",
         "565.0",
         "259.0",
         "3.8462",
         "342200.0",
         "NEAR BAY"
        ]
       ],
       "shape": {
        "columns": 10,
        "rows": 5
       }
      },
      "text/html": [
       "<div>\n",
       "<style scoped>\n",
       "    .dataframe tbody tr th:only-of-type {\n",
       "        vertical-align: middle;\n",
       "    }\n",
       "\n",
       "    .dataframe tbody tr th {\n",
       "        vertical-align: top;\n",
       "    }\n",
       "\n",
       "    .dataframe thead th {\n",
       "        text-align: right;\n",
       "    }\n",
       "</style>\n",
       "<table border=\"1\" class=\"dataframe\">\n",
       "  <thead>\n",
       "    <tr style=\"text-align: right;\">\n",
       "      <th></th>\n",
       "      <th>longitud</th>\n",
       "      <th>latitud</th>\n",
       "      <th>antiguedad</th>\n",
       "      <th>habitaciones</th>\n",
       "      <th>dormitorios</th>\n",
       "      <th>habitantes</th>\n",
       "      <th>hogares</th>\n",
       "      <th>ingresos</th>\n",
       "      <th>precio</th>\n",
       "      <th>proximidad</th>\n",
       "    </tr>\n",
       "  </thead>\n",
       "  <tbody>\n",
       "    <tr>\n",
       "      <th>0</th>\n",
       "      <td>-122.23</td>\n",
       "      <td>37.88</td>\n",
       "      <td>41.0</td>\n",
       "      <td>880.0</td>\n",
       "      <td>129.0</td>\n",
       "      <td>322.0</td>\n",
       "      <td>126.0</td>\n",
       "      <td>8.3252</td>\n",
       "      <td>452600.0</td>\n",
       "      <td>NEAR BAY</td>\n",
       "    </tr>\n",
       "    <tr>\n",
       "      <th>1</th>\n",
       "      <td>-122.22</td>\n",
       "      <td>37.86</td>\n",
       "      <td>21.0</td>\n",
       "      <td>7099.0</td>\n",
       "      <td>1106.0</td>\n",
       "      <td>2401.0</td>\n",
       "      <td>1138.0</td>\n",
       "      <td>8.3014</td>\n",
       "      <td>358500.0</td>\n",
       "      <td>NEAR BAY</td>\n",
       "    </tr>\n",
       "    <tr>\n",
       "      <th>2</th>\n",
       "      <td>-122.24</td>\n",
       "      <td>37.85</td>\n",
       "      <td>52.0</td>\n",
       "      <td>1467.0</td>\n",
       "      <td>190.0</td>\n",
       "      <td>496.0</td>\n",
       "      <td>177.0</td>\n",
       "      <td>7.2574</td>\n",
       "      <td>352100.0</td>\n",
       "      <td>NEAR BAY</td>\n",
       "    </tr>\n",
       "    <tr>\n",
       "      <th>3</th>\n",
       "      <td>-122.25</td>\n",
       "      <td>37.85</td>\n",
       "      <td>52.0</td>\n",
       "      <td>1274.0</td>\n",
       "      <td>235.0</td>\n",
       "      <td>558.0</td>\n",
       "      <td>219.0</td>\n",
       "      <td>5.6431</td>\n",
       "      <td>341300.0</td>\n",
       "      <td>NEAR BAY</td>\n",
       "    </tr>\n",
       "    <tr>\n",
       "      <th>4</th>\n",
       "      <td>-122.25</td>\n",
       "      <td>37.85</td>\n",
       "      <td>52.0</td>\n",
       "      <td>1627.0</td>\n",
       "      <td>280.0</td>\n",
       "      <td>565.0</td>\n",
       "      <td>259.0</td>\n",
       "      <td>3.8462</td>\n",
       "      <td>342200.0</td>\n",
       "      <td>NEAR BAY</td>\n",
       "    </tr>\n",
       "  </tbody>\n",
       "</table>\n",
       "</div>"
      ],
      "text/plain": [
       "   longitud  latitud  antiguedad  habitaciones  dormitorios  habitantes  \\\n",
       "0   -122.23    37.88        41.0         880.0        129.0       322.0   \n",
       "1   -122.22    37.86        21.0        7099.0       1106.0      2401.0   \n",
       "2   -122.24    37.85        52.0        1467.0        190.0       496.0   \n",
       "3   -122.25    37.85        52.0        1274.0        235.0       558.0   \n",
       "4   -122.25    37.85        52.0        1627.0        280.0       565.0   \n",
       "\n",
       "   hogares  ingresos    precio proximidad  \n",
       "0    126.0    8.3252  452600.0   NEAR BAY  \n",
       "1   1138.0    8.3014  358500.0   NEAR BAY  \n",
       "2    177.0    7.2574  352100.0   NEAR BAY  \n",
       "3    219.0    5.6431  341300.0   NEAR BAY  \n",
       "4    259.0    3.8462  342200.0   NEAR BAY  "
      ]
     },
     "execution_count": 7,
     "metadata": {},
     "output_type": "execute_result"
    }
   ],
   "source": [
    "%%time \n",
    "v_original = load_dataset() # Notación de apellido \n",
    "v_original.head() "
   ]
  },
  {
   "cell_type": "markdown",
   "id": "6f34a254",
   "metadata": {},
   "source": [
    "## Inferecias de la observación de las cinco primeras instancias del dataframe   \n",
    "\n",
    "1. proximidad es una variable a codificar \n",
    "2. Hay que escalar los atributos numéricos pues los rangos son muy diferentes. "
   ]
  },
  {
   "cell_type": "code",
   "execution_count": 8,
   "id": "9899bdc7",
   "metadata": {},
   "outputs": [
    {
     "data": {
      "text/plain": [
       "proximidad\n",
       "<1H OCEAN     9136\n",
       "INLAND        6551\n",
       "NEAR OCEAN    2658\n",
       "NEAR BAY      2290\n",
       "ISLAND           5\n",
       "Name: count, dtype: int64"
      ]
     },
     "execution_count": 8,
     "metadata": {},
     "output_type": "execute_result"
    }
   ],
   "source": [
    "v_original.proximidad.value_counts() # Variable categórica "
   ]
  },
  {
   "cell_type": "markdown",
   "id": "b958c065",
   "metadata": {},
   "source": [
    "# Inferencias se derivan del resumen de esta variable categórica. \n",
    "\n",
    "1. proximidad es categórica no ordinal lo que implica que su codificación debe ser de metodología OneHot. "
   ]
  },
  {
   "cell_type": "code",
   "execution_count": 9,
   "id": "f200fbc6",
   "metadata": {},
   "outputs": [
    {
     "name": "stdout",
     "output_type": "stream",
     "text": [
      "<class 'pandas.core.frame.DataFrame'>\n",
      "RangeIndex: 20640 entries, 0 to 20639\n",
      "Data columns (total 10 columns):\n",
      " #   Column        Non-Null Count  Dtype  \n",
      "---  ------        --------------  -----  \n",
      " 0   longitud      20640 non-null  float64\n",
      " 1   latitud       20640 non-null  float64\n",
      " 2   antiguedad    20640 non-null  float64\n",
      " 3   habitaciones  20640 non-null  float64\n",
      " 4   dormitorios   20433 non-null  float64\n",
      " 5   habitantes    20640 non-null  float64\n",
      " 6   hogares       20640 non-null  float64\n",
      " 7   ingresos      20640 non-null  float64\n",
      " 8   precio        20640 non-null  float64\n",
      " 9   proximidad    20640 non-null  object \n",
      "dtypes: float64(9), object(1)\n",
      "memory usage: 1.6+ MB\n"
     ]
    }
   ],
   "source": [
    "v_original.info() # resumen "
   ]
  },
  {
   "cell_type": "code",
   "execution_count": 10,
   "id": "5a37e6f9",
   "metadata": {},
   "outputs": [
    {
     "data": {
      "text/plain": [
       "longitud        0.000000\n",
       "latitud         0.000000\n",
       "antiguedad      0.000000\n",
       "habitaciones    0.000000\n",
       "dormitorios     1.002907\n",
       "habitantes      0.000000\n",
       "hogares         0.000000\n",
       "ingresos        0.000000\n",
       "precio          0.000000\n",
       "proximidad      0.000000\n",
       "dtype: float64"
      ]
     },
     "execution_count": 10,
     "metadata": {},
     "output_type": "execute_result"
    }
   ],
   "source": [
    "v_original.isnull().sum()/len(v_original)*100 # esto nos dice de manera porcentual cuántos valores faltantes hay en la columna"
   ]
  },
  {
   "cell_type": "markdown",
   "id": "f7041c0f",
   "metadata": {},
   "source": [
    "Inferencias de la implementación del método .info()\n",
    "\n",
    "1. Se infiere de esto que la estrategia de tratamiento de datos faltantes debe ser imputación. (com la mediana) "
   ]
  },
  {
   "cell_type": "markdown",
   "id": "645dc44f",
   "metadata": {},
   "source": [
    "[Video de apoyo a la primera parte del contenido sobre regresión](https://www.youtube.com/watch?v=YemkEQNzg9A)"
   ]
  },
  {
   "cell_type": "markdown",
   "id": "a4dc87d2",
   "metadata": {},
   "source": [
    "   - **Exploración inicial:**\n",
    "     - Estadísticas descriptivas: Promedio, mediana, desviación estándar y percentiles de las variables.\n",
    "     - Identificación de correlaciones iniciales mediante un mapa de calor con seaborn para detectar relaciones significativas entre las variables predictoras y el precio.\n",
    "     - Visualización básica: Gráficas de dispersión para observar tendencias entre variables (e.g., superficie vs. precio).\n"
   ]
  },
  {
   "cell_type": "code",
   "execution_count": 11,
   "id": "d86faf77",
   "metadata": {},
   "outputs": [
    {
     "data": {
      "application/vnd.microsoft.datawrangler.viewer.v0+json": {
       "columns": [
        {
         "name": "index",
         "rawType": "object",
         "type": "string"
        },
        {
         "name": "longitud",
         "rawType": "float64",
         "type": "float"
        },
        {
         "name": "latitud",
         "rawType": "float64",
         "type": "float"
        },
        {
         "name": "antiguedad",
         "rawType": "float64",
         "type": "float"
        },
        {
         "name": "habitaciones",
         "rawType": "float64",
         "type": "float"
        },
        {
         "name": "dormitorios",
         "rawType": "float64",
         "type": "float"
        },
        {
         "name": "habitantes",
         "rawType": "float64",
         "type": "float"
        },
        {
         "name": "hogares",
         "rawType": "float64",
         "type": "float"
        },
        {
         "name": "ingresos",
         "rawType": "float64",
         "type": "float"
        },
        {
         "name": "precio",
         "rawType": "float64",
         "type": "float"
        }
       ],
       "conversionMethod": "pd.DataFrame",
       "ref": "2e2ea165-8238-43ac-b644-d8798117c58b",
       "rows": [
        [
         "count",
         "20640.0",
         "20640.0",
         "20640.0",
         "20640.0",
         "20433.0",
         "20640.0",
         "20640.0",
         "20640.0",
         "20640.0"
        ],
        [
         "mean",
         "-119.6",
         "35.6",
         "28.6",
         "2635.8",
         "537.9",
         "1425.5",
         "499.5",
         "3.9",
         "206855.8"
        ],
        [
         "std",
         "2.0",
         "2.1",
         "12.6",
         "2181.6",
         "421.4",
         "1132.5",
         "382.3",
         "1.9",
         "115395.6"
        ],
        [
         "min",
         "-124.4",
         "32.5",
         "1.0",
         "2.0",
         "1.0",
         "3.0",
         "1.0",
         "0.5",
         "14999.0"
        ],
        [
         "25%",
         "-121.8",
         "33.9",
         "18.0",
         "1447.8",
         "296.0",
         "787.0",
         "280.0",
         "2.6",
         "119600.0"
        ],
        [
         "50%",
         "-118.5",
         "34.3",
         "29.0",
         "2127.0",
         "435.0",
         "1166.0",
         "409.0",
         "3.5",
         "179700.0"
        ],
        [
         "75%",
         "-118.0",
         "37.7",
         "37.0",
         "3148.0",
         "647.0",
         "1725.0",
         "605.0",
         "4.7",
         "264725.0"
        ],
        [
         "max",
         "-114.3",
         "42.0",
         "52.0",
         "39320.0",
         "6445.0",
         "35682.0",
         "6082.0",
         "15.0",
         "500001.0"
        ]
       ],
       "shape": {
        "columns": 9,
        "rows": 8
       }
      },
      "text/html": [
       "<div>\n",
       "<style scoped>\n",
       "    .dataframe tbody tr th:only-of-type {\n",
       "        vertical-align: middle;\n",
       "    }\n",
       "\n",
       "    .dataframe tbody tr th {\n",
       "        vertical-align: top;\n",
       "    }\n",
       "\n",
       "    .dataframe thead th {\n",
       "        text-align: right;\n",
       "    }\n",
       "</style>\n",
       "<table border=\"1\" class=\"dataframe\">\n",
       "  <thead>\n",
       "    <tr style=\"text-align: right;\">\n",
       "      <th></th>\n",
       "      <th>longitud</th>\n",
       "      <th>latitud</th>\n",
       "      <th>antiguedad</th>\n",
       "      <th>habitaciones</th>\n",
       "      <th>dormitorios</th>\n",
       "      <th>habitantes</th>\n",
       "      <th>hogares</th>\n",
       "      <th>ingresos</th>\n",
       "      <th>precio</th>\n",
       "    </tr>\n",
       "  </thead>\n",
       "  <tbody>\n",
       "    <tr>\n",
       "      <th>count</th>\n",
       "      <td>20640.0</td>\n",
       "      <td>20640.0</td>\n",
       "      <td>20640.0</td>\n",
       "      <td>20640.0</td>\n",
       "      <td>20433.0</td>\n",
       "      <td>20640.0</td>\n",
       "      <td>20640.0</td>\n",
       "      <td>20640.0</td>\n",
       "      <td>20640.0</td>\n",
       "    </tr>\n",
       "    <tr>\n",
       "      <th>mean</th>\n",
       "      <td>-119.6</td>\n",
       "      <td>35.6</td>\n",
       "      <td>28.6</td>\n",
       "      <td>2635.8</td>\n",
       "      <td>537.9</td>\n",
       "      <td>1425.5</td>\n",
       "      <td>499.5</td>\n",
       "      <td>3.9</td>\n",
       "      <td>206855.8</td>\n",
       "    </tr>\n",
       "    <tr>\n",
       "      <th>std</th>\n",
       "      <td>2.0</td>\n",
       "      <td>2.1</td>\n",
       "      <td>12.6</td>\n",
       "      <td>2181.6</td>\n",
       "      <td>421.4</td>\n",
       "      <td>1132.5</td>\n",
       "      <td>382.3</td>\n",
       "      <td>1.9</td>\n",
       "      <td>115395.6</td>\n",
       "    </tr>\n",
       "    <tr>\n",
       "      <th>min</th>\n",
       "      <td>-124.4</td>\n",
       "      <td>32.5</td>\n",
       "      <td>1.0</td>\n",
       "      <td>2.0</td>\n",
       "      <td>1.0</td>\n",
       "      <td>3.0</td>\n",
       "      <td>1.0</td>\n",
       "      <td>0.5</td>\n",
       "      <td>14999.0</td>\n",
       "    </tr>\n",
       "    <tr>\n",
       "      <th>25%</th>\n",
       "      <td>-121.8</td>\n",
       "      <td>33.9</td>\n",
       "      <td>18.0</td>\n",
       "      <td>1447.8</td>\n",
       "      <td>296.0</td>\n",
       "      <td>787.0</td>\n",
       "      <td>280.0</td>\n",
       "      <td>2.6</td>\n",
       "      <td>119600.0</td>\n",
       "    </tr>\n",
       "    <tr>\n",
       "      <th>50%</th>\n",
       "      <td>-118.5</td>\n",
       "      <td>34.3</td>\n",
       "      <td>29.0</td>\n",
       "      <td>2127.0</td>\n",
       "      <td>435.0</td>\n",
       "      <td>1166.0</td>\n",
       "      <td>409.0</td>\n",
       "      <td>3.5</td>\n",
       "      <td>179700.0</td>\n",
       "    </tr>\n",
       "    <tr>\n",
       "      <th>75%</th>\n",
       "      <td>-118.0</td>\n",
       "      <td>37.7</td>\n",
       "      <td>37.0</td>\n",
       "      <td>3148.0</td>\n",
       "      <td>647.0</td>\n",
       "      <td>1725.0</td>\n",
       "      <td>605.0</td>\n",
       "      <td>4.7</td>\n",
       "      <td>264725.0</td>\n",
       "    </tr>\n",
       "    <tr>\n",
       "      <th>max</th>\n",
       "      <td>-114.3</td>\n",
       "      <td>42.0</td>\n",
       "      <td>52.0</td>\n",
       "      <td>39320.0</td>\n",
       "      <td>6445.0</td>\n",
       "      <td>35682.0</td>\n",
       "      <td>6082.0</td>\n",
       "      <td>15.0</td>\n",
       "      <td>500001.0</td>\n",
       "    </tr>\n",
       "  </tbody>\n",
       "</table>\n",
       "</div>"
      ],
      "text/plain": [
       "       longitud  latitud  antiguedad  habitaciones  dormitorios  habitantes  \\\n",
       "count   20640.0  20640.0     20640.0       20640.0      20433.0     20640.0   \n",
       "mean     -119.6     35.6        28.6        2635.8        537.9      1425.5   \n",
       "std         2.0      2.1        12.6        2181.6        421.4      1132.5   \n",
       "min      -124.4     32.5         1.0           2.0          1.0         3.0   \n",
       "25%      -121.8     33.9        18.0        1447.8        296.0       787.0   \n",
       "50%      -118.5     34.3        29.0        2127.0        435.0      1166.0   \n",
       "75%      -118.0     37.7        37.0        3148.0        647.0      1725.0   \n",
       "max      -114.3     42.0        52.0       39320.0       6445.0     35682.0   \n",
       "\n",
       "       hogares  ingresos    precio  \n",
       "count  20640.0   20640.0   20640.0  \n",
       "mean     499.5       3.9  206855.8  \n",
       "std      382.3       1.9  115395.6  \n",
       "min        1.0       0.5   14999.0  \n",
       "25%      280.0       2.6  119600.0  \n",
       "50%      409.0       3.5  179700.0  \n",
       "75%      605.0       4.7  264725.0  \n",
       "max     6082.0      15.0  500001.0  "
      ]
     },
     "execution_count": 11,
     "metadata": {},
     "output_type": "execute_result"
    }
   ],
   "source": [
    "# Estadísticas descriptivas \n",
    "\n",
    "round(v_original.describe(), 1) "
   ]
  },
  {
   "cell_type": "markdown",
   "id": "8b578b48",
   "metadata": {},
   "source": [
    "# Inferencias fruto de la implementación del método .descibe() \n",
    "\n",
    "1. La metodología de escalamiento puede ser la de normalización que se puede implementar con la clase MinMaxScaler de Sklearn "
   ]
  },
  {
   "cell_type": "code",
   "execution_count": 13,
   "id": "e068e7a6",
   "metadata": {},
   "outputs": [
    {
     "data": {
      "text/plain": [
       "'C:\\\\Users\\\\marco\\\\Descargas\\\\mapa_escalado.png'"
      ]
     },
     "execution_count": 13,
     "metadata": {},
     "output_type": "execute_result"
    }
   ],
   "source": [
    "from graphviz import Digraph\n",
    "\n",
    "# Crear un objeto Digraph\n",
    "dot = Digraph('Tipos de Escalamiento de Atributos Numéricos')\n",
    "\n",
    "# Configurar nodos principales\n",
    "dot.node('E', 'Escalamiento de Atributos Numéricos', shape='box', style='filled', fillcolor='lightblue')\n",
    "dot.node('N', 'Normalización', shape='ellipse', style='filled', fillcolor='lightgreen')\n",
    "dot.node('Estand', 'Estandarización', shape='ellipse', style='filled', fillcolor='lightyellow')\n",
    "\n",
    "dot.node('MinMax', 'Min-Max Scaling', shape='rectangle', style='filled', fillcolor='lightgrey')\n",
    "dot.node('MaxAbs', 'MaxAbs Scaling', shape='rectangle', style='filled', fillcolor='lightgrey')\n",
    "dot.node('Robust', 'Robust Scaling', shape='rectangle', style='filled', fillcolor='lightgrey')\n",
    "dot.node('ZScore', 'Z-Score Scaling', shape='rectangle', style='filled', fillcolor='lightgrey')\n",
    "dot.node('Dec', 'Decimal Scaling', shape='rectangle', style='filled', fillcolor='lightgrey')\n",
    "\n",
    "# Conectar nodos\n",
    "dot.edge('E', 'N')\n",
    "dot.edge('E', 'Estand')\n",
    "dot.edge('N', 'MinMax')\n",
    "dot.edge('N', 'MaxAbs')\n",
    "dot.edge('Estand', 'ZScore')\n",
    "dot.edge('Estand', 'Robust')\n",
    "dot.edge('N', 'Dec')\n",
    "\n",
    "# Guardar y renderizar el archivo\n",
    "dot.render(r'C:/Users/marco/Descargas/mapa_escalado', format='png', cleanup=True, view=True)\n"
   ]
  },
  {
   "cell_type": "markdown",
   "id": "3853aa67",
   "metadata": {},
   "source": [
    "[Video de apoyo al análisis exploratorio de datos](https://www.youtube.com/watch?v=dedw26TN6_4)"
   ]
  },
  {
   "cell_type": "markdown",
   "id": "37f4489f",
   "metadata": {},
   "source": [
    "# 2. Preprocesamiento  "
   ]
  },
  {
   "cell_type": "markdown",
   "id": "108f7109",
   "metadata": {},
   "source": [
    "# Codificación de la variable categórica `proximidad`"
   ]
  },
  {
   "cell_type": "code",
   "execution_count": 14,
   "id": "6ecac810",
   "metadata": {},
   "outputs": [
    {
     "data": {
      "application/vnd.microsoft.datawrangler.viewer.v0+json": {
       "columns": [
        {
         "name": "index",
         "rawType": "int64",
         "type": "integer"
        },
        {
         "name": "longitud",
         "rawType": "float64",
         "type": "float"
        },
        {
         "name": "latitud",
         "rawType": "float64",
         "type": "float"
        },
        {
         "name": "antiguedad",
         "rawType": "float64",
         "type": "float"
        },
        {
         "name": "habitaciones",
         "rawType": "float64",
         "type": "float"
        },
        {
         "name": "dormitorios",
         "rawType": "float64",
         "type": "float"
        },
        {
         "name": "habitantes",
         "rawType": "float64",
         "type": "float"
        },
        {
         "name": "hogares",
         "rawType": "float64",
         "type": "float"
        },
        {
         "name": "ingresos",
         "rawType": "float64",
         "type": "float"
        },
        {
         "name": "precio",
         "rawType": "float64",
         "type": "float"
        },
        {
         "name": "proximidad",
         "rawType": "object",
         "type": "string"
        }
       ],
       "conversionMethod": "pd.DataFrame",
       "ref": "a9cc56dc-021f-4ed7-800f-03671aec6654",
       "rows": [
        [
         "0",
         "-122.23",
         "37.88",
         "41.0",
         "880.0",
         "129.0",
         "322.0",
         "126.0",
         "8.3252",
         "452600.0",
         "NEAR BAY"
        ],
        [
         "1",
         "-122.22",
         "37.86",
         "21.0",
         "7099.0",
         "1106.0",
         "2401.0",
         "1138.0",
         "8.3014",
         "358500.0",
         "NEAR BAY"
        ],
        [
         "2",
         "-122.24",
         "37.85",
         "52.0",
         "1467.0",
         "190.0",
         "496.0",
         "177.0",
         "7.2574",
         "352100.0",
         "NEAR BAY"
        ],
        [
         "3",
         "-122.25",
         "37.85",
         "52.0",
         "1274.0",
         "235.0",
         "558.0",
         "219.0",
         "5.6431",
         "341300.0",
         "NEAR BAY"
        ],
        [
         "4",
         "-122.25",
         "37.85",
         "52.0",
         "1627.0",
         "280.0",
         "565.0",
         "259.0",
         "3.8462",
         "342200.0",
         "NEAR BAY"
        ]
       ],
       "shape": {
        "columns": 10,
        "rows": 5
       }
      },
      "text/html": [
       "<div>\n",
       "<style scoped>\n",
       "    .dataframe tbody tr th:only-of-type {\n",
       "        vertical-align: middle;\n",
       "    }\n",
       "\n",
       "    .dataframe tbody tr th {\n",
       "        vertical-align: top;\n",
       "    }\n",
       "\n",
       "    .dataframe thead th {\n",
       "        text-align: right;\n",
       "    }\n",
       "</style>\n",
       "<table border=\"1\" class=\"dataframe\">\n",
       "  <thead>\n",
       "    <tr style=\"text-align: right;\">\n",
       "      <th></th>\n",
       "      <th>longitud</th>\n",
       "      <th>latitud</th>\n",
       "      <th>antiguedad</th>\n",
       "      <th>habitaciones</th>\n",
       "      <th>dormitorios</th>\n",
       "      <th>habitantes</th>\n",
       "      <th>hogares</th>\n",
       "      <th>ingresos</th>\n",
       "      <th>precio</th>\n",
       "      <th>proximidad</th>\n",
       "    </tr>\n",
       "  </thead>\n",
       "  <tbody>\n",
       "    <tr>\n",
       "      <th>0</th>\n",
       "      <td>-122.23</td>\n",
       "      <td>37.88</td>\n",
       "      <td>41.0</td>\n",
       "      <td>880.0</td>\n",
       "      <td>129.0</td>\n",
       "      <td>322.0</td>\n",
       "      <td>126.0</td>\n",
       "      <td>8.3252</td>\n",
       "      <td>452600.0</td>\n",
       "      <td>NEAR BAY</td>\n",
       "    </tr>\n",
       "    <tr>\n",
       "      <th>1</th>\n",
       "      <td>-122.22</td>\n",
       "      <td>37.86</td>\n",
       "      <td>21.0</td>\n",
       "      <td>7099.0</td>\n",
       "      <td>1106.0</td>\n",
       "      <td>2401.0</td>\n",
       "      <td>1138.0</td>\n",
       "      <td>8.3014</td>\n",
       "      <td>358500.0</td>\n",
       "      <td>NEAR BAY</td>\n",
       "    </tr>\n",
       "    <tr>\n",
       "      <th>2</th>\n",
       "      <td>-122.24</td>\n",
       "      <td>37.85</td>\n",
       "      <td>52.0</td>\n",
       "      <td>1467.0</td>\n",
       "      <td>190.0</td>\n",
       "      <td>496.0</td>\n",
       "      <td>177.0</td>\n",
       "      <td>7.2574</td>\n",
       "      <td>352100.0</td>\n",
       "      <td>NEAR BAY</td>\n",
       "    </tr>\n",
       "    <tr>\n",
       "      <th>3</th>\n",
       "      <td>-122.25</td>\n",
       "      <td>37.85</td>\n",
       "      <td>52.0</td>\n",
       "      <td>1274.0</td>\n",
       "      <td>235.0</td>\n",
       "      <td>558.0</td>\n",
       "      <td>219.0</td>\n",
       "      <td>5.6431</td>\n",
       "      <td>341300.0</td>\n",
       "      <td>NEAR BAY</td>\n",
       "    </tr>\n",
       "    <tr>\n",
       "      <th>4</th>\n",
       "      <td>-122.25</td>\n",
       "      <td>37.85</td>\n",
       "      <td>52.0</td>\n",
       "      <td>1627.0</td>\n",
       "      <td>280.0</td>\n",
       "      <td>565.0</td>\n",
       "      <td>259.0</td>\n",
       "      <td>3.8462</td>\n",
       "      <td>342200.0</td>\n",
       "      <td>NEAR BAY</td>\n",
       "    </tr>\n",
       "  </tbody>\n",
       "</table>\n",
       "</div>"
      ],
      "text/plain": [
       "   longitud  latitud  antiguedad  habitaciones  dormitorios  habitantes  \\\n",
       "0   -122.23    37.88        41.0         880.0        129.0       322.0   \n",
       "1   -122.22    37.86        21.0        7099.0       1106.0      2401.0   \n",
       "2   -122.24    37.85        52.0        1467.0        190.0       496.0   \n",
       "3   -122.25    37.85        52.0        1274.0        235.0       558.0   \n",
       "4   -122.25    37.85        52.0        1627.0        280.0       565.0   \n",
       "\n",
       "   hogares  ingresos    precio proximidad  \n",
       "0    126.0    8.3252  452600.0   NEAR BAY  \n",
       "1   1138.0    8.3014  358500.0   NEAR BAY  \n",
       "2    177.0    7.2574  352100.0   NEAR BAY  \n",
       "3    219.0    5.6431  341300.0   NEAR BAY  \n",
       "4    259.0    3.8462  342200.0   NEAR BAY  "
      ]
     },
     "execution_count": 14,
     "metadata": {},
     "output_type": "execute_result"
    }
   ],
   "source": [
    "v_original.head() "
   ]
  },
  {
   "cell_type": "code",
   "execution_count": 15,
   "id": "774d50ad",
   "metadata": {},
   "outputs": [],
   "source": [
    "v_copia = v_original.copy() # Generamos la copia cuando ya vamos a preprocesar "
   ]
  },
  {
   "cell_type": "code",
   "execution_count": 16,
   "id": "d6b26cf0",
   "metadata": {},
   "outputs": [
    {
     "data": {
      "application/vnd.microsoft.datawrangler.viewer.v0+json": {
       "columns": [
        {
         "name": "index",
         "rawType": "int64",
         "type": "integer"
        },
        {
         "name": "longitud",
         "rawType": "float64",
         "type": "float"
        },
        {
         "name": "latitud",
         "rawType": "float64",
         "type": "float"
        },
        {
         "name": "antiguedad",
         "rawType": "float64",
         "type": "float"
        },
        {
         "name": "habitaciones",
         "rawType": "float64",
         "type": "float"
        },
        {
         "name": "dormitorios",
         "rawType": "float64",
         "type": "float"
        },
        {
         "name": "habitantes",
         "rawType": "float64",
         "type": "float"
        },
        {
         "name": "hogares",
         "rawType": "float64",
         "type": "float"
        },
        {
         "name": "ingresos",
         "rawType": "float64",
         "type": "float"
        },
        {
         "name": "precio",
         "rawType": "float64",
         "type": "float"
        },
        {
         "name": "proximidad",
         "rawType": "object",
         "type": "string"
        }
       ],
       "conversionMethod": "pd.DataFrame",
       "ref": "c66c0781-2123-4b90-b9f6-8ac26eecee6b",
       "rows": [
        [
         "0",
         "-122.23",
         "37.88",
         "41.0",
         "880.0",
         "129.0",
         "322.0",
         "126.0",
         "8.3252",
         "452600.0",
         "NEAR BAY"
        ],
        [
         "1",
         "-122.22",
         "37.86",
         "21.0",
         "7099.0",
         "1106.0",
         "2401.0",
         "1138.0",
         "8.3014",
         "358500.0",
         "NEAR BAY"
        ]
       ],
       "shape": {
        "columns": 10,
        "rows": 2
       }
      },
      "text/html": [
       "<div>\n",
       "<style scoped>\n",
       "    .dataframe tbody tr th:only-of-type {\n",
       "        vertical-align: middle;\n",
       "    }\n",
       "\n",
       "    .dataframe tbody tr th {\n",
       "        vertical-align: top;\n",
       "    }\n",
       "\n",
       "    .dataframe thead th {\n",
       "        text-align: right;\n",
       "    }\n",
       "</style>\n",
       "<table border=\"1\" class=\"dataframe\">\n",
       "  <thead>\n",
       "    <tr style=\"text-align: right;\">\n",
       "      <th></th>\n",
       "      <th>longitud</th>\n",
       "      <th>latitud</th>\n",
       "      <th>antiguedad</th>\n",
       "      <th>habitaciones</th>\n",
       "      <th>dormitorios</th>\n",
       "      <th>habitantes</th>\n",
       "      <th>hogares</th>\n",
       "      <th>ingresos</th>\n",
       "      <th>precio</th>\n",
       "      <th>proximidad</th>\n",
       "    </tr>\n",
       "  </thead>\n",
       "  <tbody>\n",
       "    <tr>\n",
       "      <th>0</th>\n",
       "      <td>-122.23</td>\n",
       "      <td>37.88</td>\n",
       "      <td>41.0</td>\n",
       "      <td>880.0</td>\n",
       "      <td>129.0</td>\n",
       "      <td>322.0</td>\n",
       "      <td>126.0</td>\n",
       "      <td>8.3252</td>\n",
       "      <td>452600.0</td>\n",
       "      <td>NEAR BAY</td>\n",
       "    </tr>\n",
       "    <tr>\n",
       "      <th>1</th>\n",
       "      <td>-122.22</td>\n",
       "      <td>37.86</td>\n",
       "      <td>21.0</td>\n",
       "      <td>7099.0</td>\n",
       "      <td>1106.0</td>\n",
       "      <td>2401.0</td>\n",
       "      <td>1138.0</td>\n",
       "      <td>8.3014</td>\n",
       "      <td>358500.0</td>\n",
       "      <td>NEAR BAY</td>\n",
       "    </tr>\n",
       "  </tbody>\n",
       "</table>\n",
       "</div>"
      ],
      "text/plain": [
       "   longitud  latitud  antiguedad  habitaciones  dormitorios  habitantes  \\\n",
       "0   -122.23    37.88        41.0         880.0        129.0       322.0   \n",
       "1   -122.22    37.86        21.0        7099.0       1106.0      2401.0   \n",
       "\n",
       "   hogares  ingresos    precio proximidad  \n",
       "0    126.0    8.3252  452600.0   NEAR BAY  \n",
       "1   1138.0    8.3014  358500.0   NEAR BAY  "
      ]
     },
     "execution_count": 16,
     "metadata": {},
     "output_type": "execute_result"
    }
   ],
   "source": [
    "v_copia.head(2)"
   ]
  },
  {
   "cell_type": "code",
   "execution_count": 17,
   "id": "dd660540",
   "metadata": {},
   "outputs": [
    {
     "data": {
      "text/plain": [
       "Index(['<1H OCEAN', 'INLAND', 'NEAR OCEAN', 'NEAR BAY', 'ISLAND'], dtype='object', name='proximidad')"
      ]
     },
     "execution_count": 17,
     "metadata": {},
     "output_type": "execute_result"
    }
   ],
   "source": [
    "v_copia.proximidad.value_counts().index "
   ]
  },
  {
   "cell_type": "code",
   "execution_count": null,
   "id": "6351bbb5",
   "metadata": {},
   "outputs": [],
   "source": [
    "import pandas as pd\n",
    "\n",
    "def one_hot_encode_proximity(df, column='proximidad'):\n",
    "    \"\"\"\n",
    "    Aplica codificación One-Hot al atributo de proximidad en un dataset de vivienda.\n",
    "    \n",
    "    Parámetros:\n",
    "    df (pd.DataFrame): DataFrame de entrada que contiene la columna de proximidad.\n",
    "    column (str): Nombre de la columna a codificar (por defecto 'proximidad').\n",
    "    \n",
    "    Retorna:\n",
    "    pd.DataFrame: DataFrame con la columna codificada y sin la columna original.\n",
    "    \"\"\"\n",
    "    \n",
    "    # Aplicar codificación One-Hot usando pandas\n",
    "    df_encoded = pd.get_dummies(df, columns=[column], prefix=column)\n",
    "    \n",
    "    return df_encoded\n"
   ]
  },
  {
   "cell_type": "code",
   "execution_count": null,
   "id": "114cfe5d",
   "metadata": {},
   "outputs": [],
   "source": [
    "\n",
    "\n",
    "# Aplicar codificación One-Hot\n",
    "v_copia_codificada = one_hot_encode_proximity(v_copia, column='proximidad') \n",
    "v_copia_codificada\n"
   ]
  },
  {
   "cell_type": "markdown",
   "id": "8f1983a1",
   "metadata": {},
   "source": [
    "# Identificación de correlaciones\n"
   ]
  },
  {
   "cell_type": "markdown",
   "id": "6466c34c",
   "metadata": {},
   "source": [
    "## Definición matemática de la correlación de punto biserial  \n",
    "\n",
    "La **correlación de punto biserial** ($r_{pb}$) mide la relación entre una variable continua ($X$) y una variable dicotómica ($Y$), que toma valores 0 y 1. Su fórmula matemática es:\n",
    "\n",
    "$$\n",
    "r_{pb} = \\frac{\\bar{X}_1 - \\bar{X}_0}{s_X} \\cdot \\sqrt{\\frac{p q}{n}}\n",
    "$$\n",
    "\n",
    "donde:\n",
    "\n",
    "- $\\bar{X}_1$ es la media de la variable continua \\( X \\) en el grupo donde \\( Y = 1 \\).\n",
    "- \\( \\bar{X}_0 \\) es la media de la variable continua \\( X \\) en el grupo donde \\( Y = 0 \\).\n",
    "- \\( s_X \\) es la desviación estándar de la variable continua \\( X \\), calculada como:\n",
    "\n",
    "  $$\n",
    "  s_X = \\sqrt{\\frac{1}{n} \\sum_{i=1}^{n} (X_i - \\bar{X})^2}\n",
    "  $$\n",
    "\n",
    "- $p$ es la proporción de observaciones donde \\( Y = 1 \\) (\\( p = \\frac{n_1}{n} \\)).\n",
    "- \\( q \\) es la proporción de observaciones donde \\( Y = 0 \\) (\\( q = 1 - p \\)).\n",
    "- \\( n \\) es el número total de observaciones.\n",
    "- \\( n_1 \\) y \\( n_0 \\) son el número de observaciones en cada grupo.\n",
    "\n",
    "### Interpretación:\n",
    "- \\( r_{pb} \\) toma valores entre \\(-1\\) y \\(1\\).\n",
    "- Valores cercanos a \\(1\\) indican una fuerte relación positiva.\n",
    "- Valores cercanos a \\(-1\\) indican una fuerte relación negativa.\n",
    "- Valores cercanos a \\(0\\) indican poca o ninguna correlación.\n",
    "\n",
    "¿Quieres que implementemos un ejemplo en Python para calcularlo? 🚀"
   ]
  },
  {
   "cell_type": "markdown",
   "id": "c08cc329",
   "metadata": {},
   "source": [
    "## El significado gráfico de las correlaciones Lineales   \n",
    "\n",
    "Aquí tienes la definición matemática de la correlación lineal de Pearson en lenguaje LaTeX:\n",
    "\n",
    "$$\n",
    "r_{xy} = \\frac{\\sum_{i=1}^n (x_i - \\bar{x})(y_i - \\bar{y})}{\\sqrt{\\sum_{i=1}^n (x_i - \\bar{x})^2} \\sqrt{\\sum_{i=1}^n (y_i - \\bar{y})^2}}\n",
    "$$\n",
    "\n",
    "### Descripción:\n",
    "- $r_{xy}$: Coeficiente de correlación lineal de Pearson.\n",
    "- $x_i, y_i$: Valores individuales de las variables $x$ e $y$.\n",
    "- $ \\bar{x}, \\bar{y}$: Media aritmética de las variables $x$ e $y$.\n",
    "- $n$: Número total de observaciones. \n",
    "\n",
    "Este coeficiente mide la fuerza y la dirección de la relación lineal entre las variables $x$ e $y$, con valores entre $-1$ y $1$.\n"
   ]
  },
  {
   "cell_type": "markdown",
   "id": "c24b8e59",
   "metadata": {},
   "source": [
    "## Definición matemática de la correlación lineal de pearson  \n",
    "\n",
    "Ver página 62 de Géron sobre Looking Correlations "
   ]
  },
  {
   "cell_type": "markdown",
   "id": "182ad80b",
   "metadata": {},
   "source": [
    "\n",
    "<img src = 'https://upload.wikimedia.org/wikipedia/commons/thumb/d/d4/Correlation_examples2.svg/1920px-Correlation_examples2.svg.png'>"
   ]
  },
  {
   "cell_type": "code",
   "execution_count": null,
   "id": "77b2f5e1",
   "metadata": {},
   "outputs": [],
   "source": [
    "\n",
    "\n",
    "%%time \n",
    "import matplotlib.pyplot as plt\n",
    "import seaborn as sns\n",
    "\n",
    "\n",
    "# Generar el mapa de calor de correlaciones\n",
    "v_original_num = v_original.drop(['proximidad'], axis = 1)              # eliminación de las variables categóricas\n",
    "correlation_matrix = v_original_num.corr(method = 'pearson')   # Correlaciones lineales entre las variables numéricas \n",
    "correlation_matrix\n"
   ]
  },
  {
   "cell_type": "code",
   "execution_count": null,
   "id": "ee24c547",
   "metadata": {},
   "outputs": [],
   "source": [
    "correlation_matrix.shape "
   ]
  },
  {
   "cell_type": "code",
   "execution_count": null,
   "id": "8f79c88b",
   "metadata": {},
   "outputs": [],
   "source": [
    "correlation_matrix.precio # Solo las correlaciones con respecto a la variable objetivo "
   ]
  },
  {
   "cell_type": "code",
   "execution_count": null,
   "id": "daf491da",
   "metadata": {},
   "outputs": [],
   "source": [
    "correlation_matrix.precio.sort_values(ascending=False)"
   ]
  },
  {
   "cell_type": "markdown",
   "id": "a61e69a1",
   "metadata": {},
   "source": [
    "# Lo que se busca en el análisis de correlaciones \n"
   ]
  },
  {
   "cell_type": "markdown",
   "id": "f3c5427f",
   "metadata": {},
   "source": [
    "1. Los atributos predictores independientes linealmente entre si. \n",
    "2. Los atributos predictores mejor correlacionados con respecto a la variable objetivo. \n",
    "3. Crear las combinaciones de atributos predictores para mejorar la precisión del modelo. "
   ]
  },
  {
   "cell_type": "markdown",
   "id": "8f0357f5",
   "metadata": {},
   "source": [
    "# Agregar atributos combinados y luego seleccionar de todos los mejor correlacionados con la variable objetivo pero independientes entre sí. "
   ]
  },
  {
   "cell_type": "code",
   "execution_count": null,
   "id": "3ae0457d",
   "metadata": {},
   "outputs": [],
   "source": [
    "import pandas as pd\n",
    "import numpy as np\n",
    "from scipy.stats import pearsonr, pointbiserialr\n",
    "\n",
    "def select_predictors(dataset, target_column, predictores_numericos, predictores_categoricos, correlation_threshold=0.05):\n",
    "    \"\"\"\n",
    "    Selecciona los atributos predictores que mejor se correlacionan con la variable objetivo.\n",
    "    \n",
    "    - Usa la correlación de Pearson para atributos numéricos.\n",
    "    - Usa la correlación de punto biserial para atributos categóricos binarios.\n",
    "    \n",
    "    Args:\n",
    "        dataset (pd.DataFrame): DataFrame con los datos.\n",
    "        target_column (str): Nombre de la variable objetivo.\n",
    "        predictores_numericos (list): Lista de nombres de columnas numéricas.\n",
    "        predictores_categoricos (list): Lista de nombres de columnas categóricas binarias.\n",
    "        correlation_threshold (float): Umbral para determinar si dos variables están correlacionadas.\n",
    "    \n",
    "    Returns:\n",
    "        list: Lista de nombres de atributos seleccionados.\n",
    "    \"\"\"\n",
    "    selected_features = []\n",
    "\n",
    "    # Evaluar correlaciones de atributos numéricos con el objetivo usando Pearson\n",
    "    for feature in predictores_numericos:\n",
    "        corr, _ = pearsonr(dataset[feature], dataset[target_column])\n",
    "        if abs(corr) >= correlation_threshold:\n",
    "            selected_features.append(feature)\n",
    "\n",
    "    # Evaluar correlaciones de atributos categóricos binarios con el objetivo usando Punto Biserial\n",
    "    for feature in predictores_categoricos:\n",
    "        corr, _ = pointbiserialr(dataset[feature], dataset[target_column])\n",
    "        if abs(corr) >= correlation_threshold:\n",
    "            selected_features.append(feature)\n",
    "\n",
    "    return selected_features\n",
    "\n",
    "# Ejemplo de uso:\n",
    "# dataset = pd.read_csv(\"vivienda.csv\")\n",
    "# predictores_numericos = [\"longitud\", \"latitud\", \"antiguedad\", \"habitaciones\", \"ingresos\"]\n",
    "# predictores_categoricos = [\"cerca_escuela\", \"zona_rural\"]  # Atribut\n",
    "\n"
   ]
  },
  {
   "cell_type": "code",
   "execution_count": null,
   "id": "d0983e10",
   "metadata": {},
   "outputs": [],
   "source": [
    "v_copia_codificada.keys()"
   ]
  },
  {
   "cell_type": "code",
   "execution_count": null,
   "id": "1a3c7beb",
   "metadata": {},
   "outputs": [],
   "source": [
    "select_predictors(v_copia_codificada, 'precio', ['longitud', 'latitud', 'antiguedad', 'habitaciones', 'dormitorios',\n",
    "       'habitantes', 'hogares', 'ingresos'], ['proximidad_<1H OCEAN',\n",
    "       'proximidad_INLAND', 'proximidad_ISLAND', 'proximidad_NEAR BAY',\n",
    "       'proximidad_NEAR OCEAN'] )"
   ]
  },
  {
   "cell_type": "code",
   "execution_count": null,
   "id": "77970a1a",
   "metadata": {},
   "outputs": [],
   "source": [
    "v_copia_codificada_seleccionada = v_copia_codificada[['latitud',\n",
    " 'antiguedad',\n",
    " 'habitaciones',\n",
    " 'hogares',\n",
    " 'ingresos',\n",
    " 'proximidad_<1H OCEAN',\n",
    " 'proximidad_INLAND',\n",
    " 'proximidad_NEAR BAY',\n",
    " 'proximidad_NEAR OCEAN', 'precio']]"
   ]
  },
  {
   "cell_type": "code",
   "execution_count": null,
   "id": "5c432ce6",
   "metadata": {},
   "outputs": [],
   "source": [
    "v_copia_codificada_seleccionada.head()"
   ]
  },
  {
   "cell_type": "code",
   "execution_count": null,
   "id": "320677fa",
   "metadata": {},
   "outputs": [],
   "source": [
    "len(v_copia_codificada.columns), len(v_copia_codificada_seleccionada.columns)"
   ]
  },
  {
   "cell_type": "code",
   "execution_count": null,
   "id": "7ad42d11",
   "metadata": {},
   "outputs": [],
   "source": [
    "v_copia_codificada.keys() "
   ]
  },
  {
   "cell_type": "code",
   "execution_count": null,
   "id": "be1b44fc",
   "metadata": {},
   "outputs": [],
   "source": [
    "v_copia_codificada_seleccionada_num = v_copia_codificada_seleccionada.drop('proximidad', axis=1)"
   ]
  },
  {
   "cell_type": "code",
   "execution_count": null,
   "id": "c5c95842",
   "metadata": {},
   "outputs": [],
   "source": [
    "select_predictors(v_original_num, 'precio') + ['proximidad']"
   ]
  },
  {
   "cell_type": "code",
   "execution_count": null,
   "id": "f3b80873",
   "metadata": {},
   "outputs": [],
   "source": [
    "\n",
    "%%time\n",
    "# Configuración del mapa de calor\n",
    "plt.figure(figsize=(8, 7))\n",
    "heatmap = sns.heatmap(v_num.corr(), annot=True, cmap='coolwarm', fmt='.2f')\n",
    "plt.title('Mapa de calor de correlaciones - Precios de vivienda')\n",
    "plt.show()\n"
   ]
  },
  {
   "cell_type": "code",
   "execution_count": null,
   "id": "16cc7f9a",
   "metadata": {},
   "outputs": [],
   "source": [
    "%%time \n",
    "from pandas.plotting import scatter_matrix   # móduulo plotting de pandas y función scatter_matrix \n",
    "\n",
    "scatter_matrix(v_num, figsize=(12, 10))\n",
    "plt.savefig(r'C:/Users/marco/Documentos/investigacion/didactica_ciencia_datos/1_curso_machine_learning/6_regresion/regresion_vivienda/images/scatter_matrix.jpg')\n",
    "plt.show()"
   ]
  },
  {
   "cell_type": "markdown",
   "id": "33daae3f",
   "metadata": {},
   "source": [
    "[Video de apoyo hasta el análisis de correlaciones](https://www.youtube.com/watch?v=LrJ8256Fbps)"
   ]
  },
  {
   "cell_type": "code",
   "execution_count": null,
   "id": "9975f356",
   "metadata": {},
   "outputs": [],
   "source": [
    "v"
   ]
  },
  {
   "cell_type": "code",
   "execution_count": null,
   "id": "960b10bd",
   "metadata": {},
   "outputs": [],
   "source": [
    "v_num "
   ]
  },
  {
   "cell_type": "code",
   "execution_count": null,
   "id": "305fff2f",
   "metadata": {},
   "outputs": [],
   "source": [
    "# Visualización básica \n",
    "\n",
    "v_num.hist(figsize=(8,8)) # Histogramas de las variables numéricas\n",
    "plt.show() "
   ]
  },
  {
   "cell_type": "code",
   "execution_count": null,
   "id": "a2da428c",
   "metadata": {},
   "outputs": [],
   "source": [
    "lista_estilos = plt.style.available\n",
    "\n",
    "lista_estilos "
   ]
  },
  {
   "cell_type": "code",
   "execution_count": null,
   "id": "41142706",
   "metadata": {},
   "outputs": [],
   "source": [
    "\n",
    "# 1. Histograma de distribución de precios\n",
    "for estilo in lista_estilos:\n",
    "    plt.style.use(estilo) # Selecciona el estilo de gráfico\n",
    "    plt.figure(figsize=(8, 6))\n",
    "    plt.hist(v['precio'], bins=20, color='skyblue', edgecolor='black')\n",
    "    plt.title(f'Distribución de precios de vivienda en estilo {estilo}', fontsize=14)\n",
    "    plt.xlabel('Precio', fontsize=12)\n",
    "    plt.ylabel('Frecuencia', fontsize=12)\n",
    "    plt.show()\n"
   ]
  },
  {
   "cell_type": "code",
   "execution_count": null,
   "id": "834c2aaf",
   "metadata": {},
   "outputs": [],
   "source": [
    "len(plt.style.available)"
   ]
  },
  {
   "cell_type": "markdown",
   "id": "ef47616a",
   "metadata": {},
   "source": [
    "[Video de apoyo hasta la visualización]()"
   ]
  },
  {
   "cell_type": "markdown",
   "id": "f7941471",
   "metadata": {},
   "source": [
    "  # **Limpieza de datos:**\n"
   ]
  },
  {
   "cell_type": "markdown",
   "id": "183fb91f",
   "metadata": {},
   "source": [
    "- Detección de valores ausentes y su tratamiento:\n",
    "  - Eliminación de filas/columnas con demasiados valores ausentes.  `pandas.DataFrame.dropna(axis = 0, thresh = len(v)*90 )`\n",
    "  - Imputación con medidas estadísticas (media, mediana, etc.). `sklearn.inpute import SimpleImputer`\n"
   ]
  },
  {
   "cell_type": "markdown",
   "id": "92564479",
   "metadata": {},
   "source": [
    "- Identificación y eliminación de valores atípicos (outliers):\n",
    "  - Uso de boxplots para detectar valores extremos en variables clave.\n",
    "  - Aplicación de técnicas como el rango intercuartílico (IQR).\n",
    "- Normalización de datos para asegurar que las variables estén en escalas comparables.\n"
   ]
  },
  {
   "cell_type": "markdown",
   "id": "b4b951fe",
   "metadata": {},
   "source": [
    "\n",
    "3. Diseño de funciones de usuario para preparar y analizar los datos.\n"
   ]
  },
  {
   "cell_type": "markdown",
   "id": "8eef7d5f",
   "metadata": {},
   "source": [
    "4. Creación de un modelo de regresión lineal simple.\n"
   ]
  },
  {
   "cell_type": "markdown",
   "id": "24294327",
   "metadata": {},
   "source": [
    "5. Visualización de resultados: gráficas estáticas y animadas para interpretar el modelo.\n"
   ]
  },
  {
   "cell_type": "markdown",
   "id": "17bb5073",
   "metadata": {},
   "source": [
    "\n",
    "## **Limpieza de datos**\n",
    "### **Detección de valores ausentes y su tratamiento**\n",
    "1. **Identificación de valores ausentes**:\n",
    "   - Utilizamos el método `isnull()` de pandas para identificar valores nulos y `sum()` para calcular el número total de valores ausentes por columna:\n"
   ]
  },
  {
   "cell_type": "markdown",
   "id": "7d706e1b",
   "metadata": {},
   "source": [
    "\n",
    "2. **Eliminación de filas/columnas con demasiados valores ausentes**:\n",
    "   - Si una columna tiene una gran proporción de valores ausentes, se puede eliminar:\n"
   ]
  },
  {
   "cell_type": "code",
   "execution_count": null,
   "id": "443f722a",
   "metadata": {},
   "outputs": [],
   "source": [
    "v_copia_columnas_eliminadas = v_copia.dropna(thresh=len(v) * 0.9, axis=1)  \n",
    "# Mantener columnas con al menos el 90% de datos\n"
   ]
  },
  {
   "cell_type": "code",
   "execution_count": null,
   "id": "e657d9ac",
   "metadata": {},
   "outputs": [],
   "source": [
    "\n",
    "len(v_copia.keys()), len(v_copia_columnas_eliminadas.keys())\n"
   ]
  },
  {
   "cell_type": "code",
   "execution_count": null,
   "id": "14d15ff6",
   "metadata": {},
   "outputs": [],
   "source": [
    "\n",
    "def imputar(dataset, columnas_a_imputar):\n",
    "    '''\n",
    "    INPUT: \n",
    "    OUTPUT: \n",
    "    '''\n",
    "    from sklearn.impute import SimpleImputer\n",
    "    imputador = SimpleImputer(strategy='median')\n",
    "    dataset[columnas_a_imputar] = imputador.fit_transform(dataset[columnas_a_imputar])\n",
    "    return dataset"
   ]
  },
  {
   "cell_type": "code",
   "execution_count": null,
   "id": "4c191850",
   "metadata": {},
   "outputs": [],
   "source": [
    "v_copia_codificada_seleccionada.keys()"
   ]
  },
  {
   "cell_type": "code",
   "execution_count": null,
   "id": "9c55b7b1",
   "metadata": {},
   "outputs": [],
   "source": [
    "v_copia_codificada_seleccionada.info() "
   ]
  },
  {
   "cell_type": "code",
   "execution_count": null,
   "id": "f19186ea",
   "metadata": {},
   "outputs": [],
   "source": [
    "v_copia_codificada_seleccionada_imputada = v_copia_codificada_seleccionada"
   ]
  },
  {
   "cell_type": "code",
   "execution_count": null,
   "id": "8e086e8b",
   "metadata": {},
   "outputs": [],
   "source": [
    "v_copia_codificada_seleccionada_imputada.isnull().sum()  # logramos imputar los valores faltantes. "
   ]
  },
  {
   "cell_type": "markdown",
   "id": "82380508",
   "metadata": {},
   "source": [
    "   - Para filas específicas con valores ausentes en ciertas columnas críticas:\n"
   ]
  },
  {
   "cell_type": "code",
   "execution_count": null,
   "id": "21096520",
   "metadata": {},
   "outputs": [],
   "source": [
    "# v = v.dropna(thresh = len(v_copia)*0.9, subset=[\"dormitorios\"])\n",
    "     \n"
   ]
  },
  {
   "cell_type": "code",
   "execution_count": null,
   "id": "eaaeb1ad",
   "metadata": {},
   "outputs": [],
   "source": [
    "v_copia_imputado.isnull().sum() "
   ]
  },
  {
   "cell_type": "markdown",
   "id": "7e1ce5ad",
   "metadata": {},
   "source": [
    "\n",
    "3. **Imputación con medidas estadísticas**:\n",
    "   - Imputar valores ausentes con medidas como la media o la mediana:\n"
   ]
  },
  {
   "cell_type": "code",
   "execution_count": null,
   "id": "2960db17",
   "metadata": {},
   "outputs": [],
   "source": [
    "# forma de imputar en todo el dataset  \n",
    "from sklearn.impute import SimpleImputer\n",
    "imputer = SimpleImputer(strategy=\"median\") # creamos un objeto imputador \n",
    "v_num = v_copia.select_dtypes(include=[\"float64\", \"int64\"])\n",
    "v_copia_imputed = pd.DataFrame(imputer.fit_transform(v_num), columns=v_num.columns)\n",
    "\n"
   ]
  },
  {
   "cell_type": "code",
   "execution_count": null,
   "id": "a797072a",
   "metadata": {},
   "outputs": [],
   "source": [
    "v_copia_imputed.info()"
   ]
  },
  {
   "cell_type": "markdown",
   "id": "579df2ea",
   "metadata": {},
   "source": [
    "\n",
    "---\n"
   ]
  },
  {
   "cell_type": "markdown",
   "id": "7e0c9a3e",
   "metadata": {},
   "source": [
    "\n",
    "### **Identificación y eliminación de valores atípicos (outliers)**\n",
    "1. **Uso de boxplots para detectar valores extremos**:\n",
    "   - Un boxplot visualiza valores atípicos:\n"
   ]
  },
  {
   "cell_type": "code",
   "execution_count": null,
   "id": "a9d87a88",
   "metadata": {},
   "outputs": [],
   "source": [
    "# Configurar propiedades de los valores atípicos (resaltarlos en rojo)\n",
    "# flierprops: como resaltar a los que busco  \n",
    "flierprops = dict(marker='o', color='red', markersize=8)\n",
    "flierprops  \n"
   ]
  },
  {
   "cell_type": "code",
   "execution_count": null,
   "id": "4ee5d969",
   "metadata": {},
   "outputs": [],
   "source": [
    "v_copia_codificada_seleccionada.head() "
   ]
  },
  {
   "cell_type": "code",
   "execution_count": null,
   "id": "7685986e",
   "metadata": {},
   "outputs": [],
   "source": [
    "# Crear el diagrama de caja\n",
    "import matplotlib.pyplot as plt \n",
    "v_copia_codificada_seleccionada.boxplot(column=[\"precio\"], flierprops=flierprops)\n",
    "save_fig('caja_con_valores_atipicos')\n",
    "plt.show() "
   ]
  },
  {
   "cell_type": "code",
   "execution_count": null,
   "id": "744b031d",
   "metadata": {},
   "outputs": [],
   "source": [
    "v_copia.precio.median()"
   ]
  },
  {
   "cell_type": "code",
   "execution_count": null,
   "id": "b3478043",
   "metadata": {},
   "outputs": [],
   "source": [
    "v_copia.precio.quantile(0.750)"
   ]
  },
  {
   "cell_type": "code",
   "execution_count": null,
   "id": "2feb70c3",
   "metadata": {},
   "outputs": [],
   "source": [
    "import matplotlib.pyplot as plt\n",
    "plt.figure(figsize=(8, 6))\n",
    "flierprops = dict(marker='o', color='red', markersize=8)\n",
    "plt.title('Diagrama de cajas del precio de vivienda con datos atípicos resaltados')\n",
    "v_copia.boxplot(column=[\"precio\"], flierprops = flierprops)\n",
    "plt.show()\n",
    "\n"
   ]
  },
  {
   "cell_type": "markdown",
   "id": "e9eb331a",
   "metadata": {},
   "source": [
    "\n",
    "2. **Aplicación del rango intercuartílico (IQR)**:\n",
    "   - Detectar y eliminar outliers usando el IQR:\n"
   ]
  },
  {
   "cell_type": "code",
   "execution_count": null,
   "id": "576a9d80",
   "metadata": {},
   "outputs": [],
   "source": [
    "Q1 = v_copia[\"ingresos\"].quantile(0.25)\n",
    "Q1"
   ]
  },
  {
   "cell_type": "code",
   "execution_count": null,
   "id": "78649b67",
   "metadata": {},
   "outputs": [],
   "source": [
    "def eliminar_valores_atipicos(dataset, columna):\n",
    "    Q1 = dataset[columna].quantile(0.25)\n",
    "    Q3 = dataset[columna].quantile(0.75)\n",
    "    IQR = Q3 - Q1                          # rango intercuartílico \n",
    "    lower_bound = Q1 - 1.5 * IQR           # cota inferior \n",
    "    upper_bound = Q3 + 1.5 * IQR           # cota superior \n",
    "    return dataset.iloc[dataset[(dataset[columna] >= lower_bound) & (dataset[columna] <= upper_bound)].index] \n",
    "        \n"
   ]
  },
  {
   "cell_type": "code",
   "execution_count": null,
   "id": "ee37bd0e",
   "metadata": {},
   "outputs": [],
   "source": [
    "\n",
    "v_copia_codificada_seleccionada_sin_valores_atipicos = eliminar_valores_atipicos(v_copia_codificada_seleccionada,\\\n",
    "    'precio')\n"
   ]
  },
  {
   "cell_type": "code",
   "execution_count": null,
   "id": "af958731",
   "metadata": {},
   "outputs": [],
   "source": [
    "len(v_copia_codificada_seleccionada) - len(v_copia_codificada_seleccionada_sin_valores_atipicos)"
   ]
  },
  {
   "cell_type": "markdown",
   "id": "cadcf0b6",
   "metadata": {},
   "source": [
    "\n",
    "---\n",
    "\n",
    "### **Normalización de datos**\n",
    "- Es esencial para variables en diferentes escalas, como ingresos y valores de vivienda:\n"
   ]
  },
  {
   "cell_type": "code",
   "execution_count": null,
   "id": "fb44aa37",
   "metadata": {},
   "outputs": [],
   "source": [
    "\n",
    "def normalizar(dataset, columnas_a_normalizar):\n",
    "    from sklearn.preprocessing import MinMaxScaler\n",
    "    scaler = MinMaxScaler() # creamos el objeto particular escalador\n",
    "    dataset_num = dataset[columnas_a_normalizar]\n",
    "    return pd.DataFrame(scaler.fit_transform(dataset_num), columns=dataset_num.columns)\n",
    "\n"
   ]
  },
  {
   "cell_type": "code",
   "execution_count": null,
   "id": "401c6037",
   "metadata": {},
   "outputs": [],
   "source": [
    "v_copia.keys() "
   ]
  },
  {
   "cell_type": "code",
   "execution_count": null,
   "id": "4f02db08",
   "metadata": {},
   "outputs": [],
   "source": [
    "columnas_a_normalizar = ['longitud', 'latitud', 'antiguedad', 'habitaciones', 'dormitorios', 'población', 'hogares', 'ingresos', 'precio']\n",
    "v_copia_imputada_sin_valores_atipicos_normalizada = normalizar(v_copia_imputada_sin_valores_atipicos, columnas_a_normalizar = columnas_a_normalizar)"
   ]
  },
  {
   "cell_type": "code",
   "execution_count": null,
   "id": "e6e14367",
   "metadata": {},
   "outputs": [],
   "source": [
    "round(v_copia_imputada_sin_valores_atipicos_normalizada.describe(), 1)"
   ]
  },
  {
   "cell_type": "markdown",
   "id": "bf0f3e17",
   "metadata": {},
   "source": [
    "[Video de apoyo a la normalización de los atributos](https://www.youtube.com/watch?v=oUp94lzgLBQ)"
   ]
  },
  {
   "cell_type": "markdown",
   "id": "a911825a",
   "metadata": {},
   "source": [
    "[video con notaciión de apellido con el preprocesamiento sin la codificación de atributos no numéricos](https://www.youtube.com/watch?v=rZwbUaWtTRs)"
   ]
  },
  {
   "cell_type": "markdown",
   "id": "de95690f",
   "metadata": {},
   "source": [
    "\n",
    "---\n"
   ]
  },
  {
   "cell_type": "markdown",
   "id": "1be53ecf",
   "metadata": {},
   "source": [
    "\n",
    "## **Diseño de funciones de usuario para preparar y analizar los datos**\n",
    "- Se puede automatizar el proceso de limpieza con una función personalizada:\n"
   ]
  },
  {
   "cell_type": "code",
   "execution_count": null,
   "id": "62190dfa",
   "metadata": {},
   "outputs": [],
   "source": []
  },
  {
   "cell_type": "markdown",
   "id": "20bf4296",
   "metadata": {},
   "source": [
    "\n",
    "---\n",
    "\n",
    "## **Creación de un modelo de regresión lineal simple**\n",
    "1. **Dividir los datos en conjuntos de entrenamiento y prueba**:\n"
   ]
  },
  {
   "cell_type": "code",
   "execution_count": null,
   "id": "bf02efb2",
   "metadata": {},
   "outputs": [],
   "source": [
    "\n",
    "from sklearn.model_selection import train_test_split\n",
    "X = v_cleaned[[\"ingresos\"]]\n",
    "y = v_cleaned[\"precio\"]\n",
    "X_train, X_test, y_train, y_test = train_test_split(X, y, test_size=0.2, random_state=42)\n",
    "\n"
   ]
  },
  {
   "cell_type": "markdown",
   "id": "ab8e0d80",
   "metadata": {},
   "source": [
    "\n",
    "2. **Entrenar el modelo**:\n"
   ]
  },
  {
   "cell_type": "code",
   "execution_count": null,
   "id": "a6c8001c",
   "metadata": {},
   "outputs": [],
   "source": [
    "from sklearn.linear_model import LinearRegression\n",
    "model_linear = LinearRegression()\n",
    "model_linear.fit(X_train, y_train)\n",
    "\n"
   ]
  },
  {
   "cell_type": "markdown",
   "id": "e3d6ee47",
   "metadata": {},
   "source": [
    "\n",
    "# 3. **Hacer predicciones**:\n"
   ]
  },
  {
   "cell_type": "code",
   "execution_count": null,
   "id": "8a5e2ecd",
   "metadata": {},
   "outputs": [],
   "source": [
    "y_pred = model_linear.predict(X_test)\n"
   ]
  },
  {
   "cell_type": "markdown",
   "id": "752ceb32",
   "metadata": {},
   "source": [
    "\n",
    "# **Visualización de resultados**\n"
   ]
  },
  {
   "cell_type": "markdown",
   "id": "be99ab9c",
   "metadata": {},
   "source": [
    "1. **Gráfica estática de los resultados del modelo sobre los datos preprocesados**:\n"
   ]
  },
  {
   "cell_type": "code",
   "execution_count": null,
   "id": "9571c6c3",
   "metadata": {},
   "outputs": [],
   "source": [
    "\n",
    "from sklearn.model_selection import train_test_split\n",
    "X = v_cleaned[[\"ingresos\"]]\n",
    "y = v_cleaned[\"precio\"]\n",
    "X_train, X_test, y_train, y_test = train_test_split(X, y, test_size=0.2, random_state=42)\n",
    "\n",
    "from sklearn.linear_model import LinearRegression\n",
    "model_linear = LinearRegression()\n",
    "model_linear.fit(X_train, y_train)\n",
    "\n",
    "\n",
    "y_pred = model_linear.predict(X_test)\n",
    "\n",
    "import matplotlib.pyplot as plt \n",
    "plt.scatter(X_test, y_test, color=\"blue\", label=\"Datos reales normalizados\")\n",
    "plt.plot(X_test, y_pred, color=\"red\", label=\"Modelo de Regresión Lineal Simple\")\n",
    "plt.xlabel(\"Ingresos\")\n",
    "plt.ylabel(\"Precio\")\n",
    "plt.legend()\n",
    "plt.grid(alpha = 0.5)\n",
    "save_fig('regresion_lineal')\n",
    "plt.show()\n",
    "\n"
   ]
  },
  {
   "cell_type": "markdown",
   "id": "61dd323e",
   "metadata": {},
   "source": [
    "# Visualización de los datos reales y del modelo en los datos reales \n"
   ]
  },
  {
   "cell_type": "code",
   "execution_count": null,
   "id": "e8a26a9f",
   "metadata": {},
   "outputs": [],
   "source": [
    "import numpy as np \n",
    "import pandas as pd\n",
    "# Cargar el dataset\n",
    "ubicación = r'C:/Users/marco/Documentos/investigacion/didactica_ciencia_datos/3_datasets/vivienda' \n",
    "nombre_archivo = 'vivienda.csv'\n",
    "v_original = pd.read_csv(ubicación + '//' + nombre_archivo)\n",
    "\n",
    "\n",
    "\n",
    "from sklearn.model_selection import train_test_split\n",
    "\n",
    "# Datos originales no limpiados\n",
    "X_original = v_original[[\"ingresos\"]]\n",
    "y_original = v_original[\"precio\"]\n",
    "\n",
    "\n",
    "columns_to_impute = ['dormitorios']\n",
    "columns_to_normalize = ['antiguedad', 'habitaciones', 'dormitorios', 'población', 'hogares', 'ingresos', 'precio']\n",
    "v_cleaned = clean_housing_data(v, columns_to_impute=columns_to_impute, columns_to_normalize=columns_to_normalize)\n",
    "\n",
    "\n",
    "\n",
    "\n",
    "# Datos limpios o preprocesados\n",
    "X_cleaned = v_cleaned[[\"ingresos\"]]\n",
    "y_cleaned = v_cleaned[\"precio\"]\n",
    "\n",
    "# División en conjunto de entrenamiento y prueba utilizando datos limpios\n",
    "X_cleaned_train, X_cleaned_test, y_cleaned_train, y_cleaned_test = train_test_split(X_cleaned, y_cleaned, test_size=0.2, random_state=42)\n",
    "\n",
    "from sklearn.linear_model import LinearRegression\n",
    "model_linear = LinearRegression()\n",
    "model_linear.fit(X_cleaned_train, y_cleaned_train)\n",
    "\n",
    "# Predicciones sobre los datos de prueba limpios\n",
    "y_cleaned_pred = model_linear.predict(X_cleaned_test)\n",
    "\n",
    "# Mapeo de índices para obtener los datos originales correspondientes a X_test y y_test\n",
    "X_test_original = X_original.loc[X_test.index]\n",
    "y_test_original = y_original.loc[y_test.index]\n",
    "\n",
    "y_pred = y_cleaned_pred*(np.max(y_original) - np.min(y_original)) + np.min(y_original)\n",
    "# Visualización\n",
    "import matplotlib.pyplot as plt\n",
    "plt.scatter(X_test_original, y_test_original, color=\"blue\", label=\"Datos reales no limpiados\")\n",
    "plt.plot(X_test_original, y_pred, color=\"red\", label=\"Modelo de Regresión Lineal Simple\")\n",
    "plt.xlabel(\"Ingresos\")\n",
    "plt.ylabel(\"Precio\")\n",
    "plt.legend()\n",
    "plt.grid(alpha=0.5)\n",
    "plt.savefig('regresion_lineal_original.png')\n",
    "plt.show()\n"
   ]
  },
  {
   "cell_type": "markdown",
   "id": "6bf6afc0",
   "metadata": {},
   "source": [
    "[Video de apoyo a constitución de un modelo de regresión simple](https://www.youtube.com/watch?v=ehebxDuFPgo)"
   ]
  },
  {
   "cell_type": "markdown",
   "id": "eaf25098",
   "metadata": {},
   "source": [
    "\n",
    "2. **Gráfica animada para interpretar el ajuste progresivo**:\n",
    "   - Se puede usar `FuncAnimation` para mostrar cómo cambia el modelo durante el entrenamiento.\n"
   ]
  },
  {
   "cell_type": "code",
   "execution_count": null,
   "id": "ffac75eb",
   "metadata": {},
   "outputs": [],
   "source": []
  },
  {
   "cell_type": "markdown",
   "id": "3b6e48cb",
   "metadata": {},
   "source": [
    "\n",
    "¿Quieres que detalle esta parte sobre la animación? "
   ]
  },
  {
   "cell_type": "markdown",
   "id": "cac01fa5",
   "metadata": {},
   "source": [
    "\n",
    "# 4. **Actividades de aprendizaje**\n"
   ]
  },
  {
   "cell_type": "markdown",
   "id": "aaff561d",
   "metadata": {},
   "source": [
    "\n",
    "## **Actividad 1: Exploración del dataset**\n"
   ]
  },
  {
   "cell_type": "markdown",
   "id": "98be5472",
   "metadata": {},
   "source": [
    "\n",
    "- El estudiante cargará y explorará el archivo `vivienda.csv` utilizando pandas. Identificará variables relevantes (como \"antiguedad\", \"habitaciones\", y \"precio\") para el modelo de regresión.\n",
    "- Utilizará funciones de usuario para:\n",
    "  - Calcular estadísticas descriptivas.\n",
    "  - Generar visualizaciones iniciales de correlación (gráficas de dispersión).\n"
   ]
  },
  {
   "cell_type": "markdown",
   "id": "4a042de2",
   "metadata": {},
   "source": [
    "\n",
    "**Actividad 2: Diseño de funciones para preparar los datos**\n",
    "\n",
    "- El estudiante escribirá una función que normalice los datos y otra que elimine valores atípicos.\n",
    "- Aplicará estas funciones al dataset y observará cómo cambia la distribución de los datos.\n"
   ]
  },
  {
   "cell_type": "markdown",
   "id": "8d9bd919",
   "metadata": {},
   "source": [
    "\n",
    "**Actividad 3: Creación del modelo de regresión**\n",
    "\n",
    "- Utilizará scikit-learn para implementar un modelo de regresión lineal simple.\n",
    "- Diseñará una función para entrenar el modelo y calcular métricas de rendimiento como el error cuadrático medio (MSE).\n",
    "\n",
    "**Actividad 4: Visualización de resultados**\n",
    "\n",
    "- Creará gráficas estáticas con matplotlib para visualizar:\n",
    "  - La línea de regresión ajustada.\n",
    "  - Las predicciones frente a los datos reales.\n",
    "- Diseñará una animación con matplotlib o plotly que muestre el ajuste progresivo de la línea de regresión durante el entrenamiento.\n"
   ]
  },
  {
   "cell_type": "markdown",
   "id": "082996fb",
   "metadata": {},
   "source": [
    "## **Desarrollo de la Cuarta Parte: Actividades de Aprendizaje**\n"
   ]
  },
  {
   "cell_type": "markdown",
   "id": "3b6bf6a6",
   "metadata": {},
   "source": [
    "\n",
    "#### **Actividad 1: Exploración del Dataset**\n",
    "\n",
    "1. **Carga y Exploración Inicial del Archivo `vivienda.csv`**:\n",
    "   - Cargar el dataset utilizando pandas y obtener una descripción general de las variables:\n"
   ]
  },
  {
   "cell_type": "code",
   "execution_count": null,
   "id": "4875692f",
   "metadata": {},
   "outputs": [],
   "source": [
    "IMAGES_PATH = \"C:/Users/marco/Documentos/investigacion/didactica_ciencia_datos/1_curso_machine_learning/6_regresion/regresion_vivienda/images\"\n",
    "\n",
    "\n",
    "def save_fig(nombre_de_imagen_sin_extension, tight_layout=True, fig_extension=\"png\", resolution=300):\n",
    "    path = IMAGES_PATH + '/' + f'{nombre_de_imagen_sin_extension}' + '.' + f'{fig_extension}'\n",
    "    if tight_layout:\n",
    "        plt.tight_layout()\n",
    "    plt.savefig(path, format=fig_extension, dpi=resolution)"
   ]
  },
  {
   "cell_type": "code",
   "execution_count": null,
   "id": "31f1e565",
   "metadata": {},
   "outputs": [],
   "source": [
    "\n",
    "\n",
    "def load_dataset():\n",
    "    ubicacion_con_nombre_dataset = r\"C:/Users/marco/Documentos/investigacion/didactica_ciencia_datos/3_datasets/vivienda/vivienda.csv\"\n",
    "    import pandas as pd\n",
    "    v = pd.read_csv(ubicacion_con_nombre_dataset)\n",
    "    return v\n"
   ]
  },
  {
   "cell_type": "code",
   "execution_count": null,
   "id": "8d56f332",
   "metadata": {},
   "outputs": [],
   "source": [
    "v = load_dataset(ubicacion_con_nombre_dataset)"
   ]
  },
  {
   "cell_type": "code",
   "execution_count": null,
   "id": "2460607a",
   "metadata": {},
   "outputs": [],
   "source": [
    "v.head()\n"
   ]
  },
  {
   "cell_type": "code",
   "execution_count": null,
   "id": "b7c6d760",
   "metadata": {},
   "outputs": [],
   "source": [
    "v.info()\n"
   ]
  },
  {
   "cell_type": "code",
   "execution_count": null,
   "id": "0d00dcfc",
   "metadata": {},
   "outputs": [],
   "source": [
    "v.isnull().sum() "
   ]
  },
  {
   "cell_type": "code",
   "execution_count": null,
   "id": "e34a026d",
   "metadata": {},
   "outputs": [],
   "source": [
    "v.describe().round(decimals=1)\n",
    "\n"
   ]
  },
  {
   "cell_type": "markdown",
   "id": "5c2e8f7b",
   "metadata": {},
   "source": [
    "[Video para apoyar obtención de datos automatizada](https://www.youtube.com/watch?v=LhvsX90W1ME)"
   ]
  },
  {
   "cell_type": "markdown",
   "id": "571b21f1",
   "metadata": {},
   "source": [
    "\n",
    "2. **Identificación de Variables Relevantes**:\n"
   ]
  },
  {
   "cell_type": "markdown",
   "id": "d3a58aab",
   "metadata": {},
   "source": [
    "   - Revisar las correlaciones para identificar las variables clave (e.g., \"antiguedad\", \"habitaciones\", y \"precio\"):\n"
   ]
  },
  {
   "cell_type": "code",
   "execution_count": null,
   "id": "d096d372",
   "metadata": {},
   "outputs": [],
   "source": [
    "v.keys()"
   ]
  },
  {
   "cell_type": "code",
   "execution_count": null,
   "id": "a8eb50cd",
   "metadata": {},
   "outputs": [],
   "source": [
    "v_num = v.drop('proximidad', axis=1) # elimina la variable no numérica"
   ]
  },
  {
   "cell_type": "code",
   "execution_count": null,
   "id": "a64d4472",
   "metadata": {},
   "outputs": [],
   "source": [
    "v_num.corr(method='pearson') \n",
    "\n"
   ]
  },
  {
   "cell_type": "code",
   "execution_count": null,
   "id": "e0c3189e",
   "metadata": {},
   "outputs": [],
   "source": [
    "v_num.corr().precio.sort_values(ascending=False)"
   ]
  },
  {
   "cell_type": "markdown",
   "id": "c094d9b1",
   "metadata": {},
   "source": [
    "\n",
    "3. **Funciones para Estadísticas Descriptivas y Gráficas de Correlación**:\n",
    "   - Crear una función para calcular estadísticas descriptivas:\n"
   ]
  },
  {
   "cell_type": "code",
   "execution_count": null,
   "id": "d5fa3ce1",
   "metadata": {},
   "outputs": [],
   "source": [
    "def calcular_estadisticas(df, columnas_num_o_no_num):\n",
    "    return df[columnas_num_o_no_num].describe(include = 'all')\n"
   ]
  },
  {
   "cell_type": "code",
   "execution_count": null,
   "id": "686c3002",
   "metadata": {},
   "outputs": [],
   "source": [
    "\n",
    "estadisticas = calcular_estadisticas(v, columnas_num_o_no_num=[\"antiguedad\", \"habitaciones\", \"proximidad\"])\n",
    "estadisticas\n",
    "\n"
   ]
  },
  {
   "cell_type": "markdown",
   "id": "5d173f37",
   "metadata": {},
   "source": [
    "   - Generar gráficas de dispersión para observar relaciones:\n"
   ]
  },
  {
   "cell_type": "code",
   "execution_count": null,
   "id": "ec9d97a9",
   "metadata": {},
   "outputs": [],
   "source": [
    "import matplotlib.pyplot as plt\n",
    "def graficar_correlaciones(df, x, y):\n",
    "    plt.scatter(df[x], df[y], alpha=0.6)\n",
    "    plt.xlabel(x)\n",
    "    plt.ylabel(y)\n",
    "    plt.title(f\"Relación entre {x} y {y}\")\n",
    "    save_fig('grafica_correlaciones_x_y') \n",
    "    plt.show()\n"
   ]
  },
  {
   "cell_type": "code",
   "execution_count": null,
   "id": "e3917194",
   "metadata": {},
   "outputs": [],
   "source": [
    "\n",
    "graficar_correlaciones(v, \"habitaciones\", \"precio\")\n",
    "\n"
   ]
  },
  {
   "cell_type": "markdown",
   "id": "ad6a6797",
   "metadata": {},
   "source": [
    "\n",
    "### **Actividad 2: Diseño de Funciones para Preparar los Datos**\n"
   ]
  },
  {
   "cell_type": "markdown",
   "id": "38768bf8",
   "metadata": {},
   "source": [
    "\n",
    "1. **Función para Normalización de Datos**:\n"
   ]
  },
  {
   "cell_type": "code",
   "execution_count": null,
   "id": "cf6dd518",
   "metadata": {},
   "outputs": [],
   "source": [
    "from sklearn.preprocessing import MinMaxScaler\n",
    "\n",
    "def normalizar_datos(df, columnas):\n",
    "    scaler = MinMaxScaler()\n",
    "    df[columnas] = scaler.fit_transform(df[columnas])\n",
    "    return df\n",
    "\n",
    "columnas_a_normalizar = [\"antiguedad\", \"habitaciones\", \"precio\"] \n",
    "\n",
    "v_normalizada = normalizar_datos(v, columnas_a_normalizar)\n",
    "\n",
    "v_normalizada "
   ]
  },
  {
   "cell_type": "markdown",
   "id": "2627a469",
   "metadata": {},
   "source": [
    "\n",
    "# 2. **Función para Eliminar Valores Atípicos**:\n"
   ]
  },
  {
   "cell_type": "code",
   "execution_count": null,
   "id": "a73d7053",
   "metadata": {},
   "outputs": [],
   "source": [
    "v = load_dataset(ubicacion_con_nombre_dataset)"
   ]
  },
  {
   "cell_type": "code",
   "execution_count": null,
   "id": "61ff1e26",
   "metadata": {},
   "outputs": [],
   "source": [
    "def eliminar_outliers(df, columna):\n",
    "    Q1 = df[columna].quantile(0.25)\n",
    "    Q3 = df[columna].quantile(0.75)\n",
    "    IQR = Q3 - Q1\n",
    "    lower_bound = Q1 - 1.5 * IQR\n",
    "    upper_bound = Q3 + 1.5 * IQR\n",
    "    return df[(df[columna] >= lower_bound) & (df[columna] <= upper_bound)]\n"
   ]
  },
  {
   "cell_type": "code",
   "execution_count": null,
   "id": "603b9e6f",
   "metadata": {},
   "outputs": [],
   "source": [
    "\n",
    "v_sin_outliers = eliminar_outliers(v, \"precio\")\n"
   ]
  },
  {
   "cell_type": "code",
   "execution_count": null,
   "id": "cef31dc2",
   "metadata": {},
   "outputs": [],
   "source": [
    "v.shape, v_sin_outliers.shape"
   ]
  },
  {
   "cell_type": "markdown",
   "id": "d5abcf5a",
   "metadata": {},
   "source": [
    "[Video de apoyo a la eliminación de outliers](https://www.youtube.com/watch?v=71P4XVGSLq4)"
   ]
  },
  {
   "cell_type": "markdown",
   "id": "933a7e81",
   "metadata": {},
   "source": [
    "\n",
    "# 3. **Análisis de Cambios en la Distribución**:\n"
   ]
  },
  {
   "cell_type": "markdown",
   "id": "5022f11a",
   "metadata": {},
   "source": [
    "   - Comparar distribuciones antes y después del preprocesamiento con histogramas:\n"
   ]
  },
  {
   "cell_type": "code",
   "execution_count": null,
   "id": "a6b5c56b",
   "metadata": {},
   "outputs": [],
   "source": [
    "\n",
    "ubicacion_para_imagenes = r\"C:/Users/marco/Documentos/investigacion/didactica_ciencia_datos/1_curso_machine_learning/6_regresion\\regresion_vivienda/images/\"\n",
    "nombre_imagen = 'comparacion_histogramas_con_sin_outliers.jpg'\n",
    "def comparar_distribuciones(df_original, df_modificado, columna):\n",
    "    import os\n",
    "    import matplotlib.pyplot as plt \n",
    "    plt.figure(figsize=(10, 5))\n",
    "    plt.hist(df_original[columna], bins=30, alpha=0.5, label=\"Original\")\n",
    "    plt.hist(df_modificado[columna], bins=30, alpha=0.5, label=\"Modificado\")\n",
    "    plt.legend()\n",
    "    plt.title(f\"Comparación de distribuciones para {columna}\")\n",
    "    image_path = os.path.join(ubicacion_para_imagenes, nombre_imagen)\n",
    "    plt.xlabel(columna)\n",
    "    plt.ylabel(\"Frecuencia\")\n",
    "    plt.savefig(image_path)\n",
    "    plt.show()\n"
   ]
  },
  {
   "cell_type": "code",
   "execution_count": null,
   "id": "fe61c961",
   "metadata": {},
   "outputs": [],
   "source": [
    "\n",
    "comparar_distribuciones(v, v_sin_outliers, \"precio\")\n",
    "\n"
   ]
  },
  {
   "cell_type": "markdown",
   "id": "77077b0d",
   "metadata": {},
   "source": [
    "[Video de apoyo a la eliminacion y visualización de outliers](https://www.youtube.com/watch?v=YD6oykjk6YQ)"
   ]
  },
  {
   "cell_type": "code",
   "execution_count": null,
   "id": "cf0cfa7d",
   "metadata": {},
   "outputs": [],
   "source": [
    "from graphviz import Digraph\n",
    "\n",
    "# Crear el objeto Digraph\n",
    "ml_map = Digraph('Machine_Learning', format='pdf')\n",
    "ml_map.attr(rankdir='TB', splines='ortho', nodesep='0.8')\n",
    "ml_map.attr('node', shape='rectangle', style='filled', fontname='Helvetica')\n",
    "\n",
    "# Configuración de colores\n",
    "colors = {\n",
    "    'supervised': 'lightblue',\n",
    "    'unsupervised': 'lightgreen',\n",
    "    'classification': 'skyblue',\n",
    "    'regression': 'cornflowerblue',\n",
    "    'clustering': 'palegreen',\n",
    "    'dimensionality': 'limegreen',\n",
    "    'algoritmo': 'salmon',\n",
    "    'ejemplo': 'moccasin'\n",
    "}\n",
    "\n",
    "# Nodos principales\n",
    "ml_map.node('ML', 'Machine Learning', shape='doubleoctagon', color='gold', fontsize='20')\n",
    "\n",
    "# Rama Supervisado\n",
    "ml_map.node('SUP', 'Aprendizaje Supervisado', shape='parallelogram', color=colors['supervised'])\n",
    "ml_map.edge('ML', 'SUP')\n",
    "\n",
    "# Subnodos Supervisado\n",
    "ml_map.node('CLAS', 'Clasificación', shape='oval', color=colors['classification'])\n",
    "ml_map.node('REGR', 'Regresión', shape='oval', color=colors['regression'])\n",
    "ml_map.edge('SUP', 'CLAS')\n",
    "ml_map.edge('SUP', 'REGR')\n",
    "\n",
    "# Algoritmos Supervisado\n",
    "ml_map.node('SVM', 'SVM', shape='diamond', color=colors['algoritmo'])\n",
    "ml_map.node('DT', 'Árboles de Decisión', shape='diamond', color=colors['algoritmo'])\n",
    "ml_map.node('RL', 'Regresión Lineal', shape='diamond', color=colors['algoritmo'])\n",
    "ml_map.node('RF', 'Random Forest', shape='diamond', color=colors['algoritmo'])\n",
    "\n",
    "ml_map.edge('CLAS', 'SVM')\n",
    "ml_map.edge('CLAS', 'DT')\n",
    "ml_map.edge('REGR', 'RL')\n",
    "ml_map.edge('REGR', 'RF')\n",
    "\n",
    "# Ejemplos de aplicación\n",
    "ml_map.node('SPAM', 'Detección de Spam', shape='note', color=colors['ejemplo'])\n",
    "ml_map.node('PREC', 'Precios de Viviendas', shape='note', color=colors['ejemplo'])\n",
    "ml_map.edge('SVM', 'SPAM')\n",
    "ml_map.edge('RL', 'PREC')\n",
    "\n",
    "# Rama No Supervisado\n",
    "ml_map.node('UNS', 'Aprendizaje No Supervisado', shape='parallelogram', color=colors['unsupervised'])\n",
    "ml_map.edge('ML', 'UNS')\n",
    "\n",
    "# Subnodos No Supervisado\n",
    "ml_map.node('CLUST', 'Clustering', shape='oval', color=colors['clustering'])\n",
    "ml_map.node('DIM', 'Reducción de Dimensionalidad', shape='oval', color=colors['dimensionality'])\n",
    "ml_map.edge('UNS', 'CLUST')\n",
    "ml_map.edge('UNS', 'DIM')\n",
    "\n",
    "# Algoritmos No Supervisado\n",
    "ml_map.node('KMN', 'K-Means', shape='diamond', color=colors['algoritmo'])\n",
    "ml_map.node('HCL', 'Clustering Jerárquico', shape='diamond', color=colors['algoritmo'])\n",
    "ml_map.node('PCA', 'PCA', shape='diamond', color=colors['algoritmo'])\n",
    "ml_map.node('TSNE', 't-SNE', shape='diamond', color=colors['algoritmo'])\n",
    "\n",
    "ml_map.edge('CLUST', 'KMN')\n",
    "ml_map.edge('CLUST', 'HCL')\n",
    "ml_map.edge('DIM', 'PCA')\n",
    "ml_map.edge('DIM', 'TSNE')\n",
    "\n",
    "# Ejemplos de aplicación\n",
    "ml_map.node('SEG', 'Segmentación de Clientes', shape='note', color=colors['ejemplo'])\n",
    "ml_map.node('VIS', 'Visualización de Datos', shape='note', color=colors['ejemplo'])\n",
    "ml_map.edge('KMN', 'SEG')\n",
    "ml_map.edge('TSNE', 'VIS')\n",
    "\n",
    "# Guardar y renderizar\n",
    "ml_map.render('machine_learning_map', view=True)"
   ]
  },
  {
   "cell_type": "markdown",
   "id": "e07b7319",
   "metadata": {},
   "source": [
    "# Realizar todo el preprocesamiento  "
   ]
  },
  {
   "cell_type": "markdown",
   "id": "2685bf0f",
   "metadata": {},
   "source": [
    "## Etapas del preprocesamiento   \n",
    "\n",
    "1. imputación de datos faltantes `dormitorios`\n",
    "2. eliminación de observaciones o instancias asociadas a outliers de precio. \n",
    "3. Normalización de atributos numéricos\n",
    "4. Codificación de variables no numéricas. Codificamos OneHot porque la variable de proximidad al océano de las viviendas es categórica no ordinal. \n",
    "5. Selección de atributos linealmente independientes en cuanto al criterio de correlación de Pearson y mejor correlacionados con la variable objetivo (precio)."
   ]
  },
  {
   "cell_type": "code",
   "execution_count": null,
   "id": "478413b4",
   "metadata": {},
   "outputs": [],
   "source": [
    "def load_dataset():\n",
    "    ubicacion_con_nombre_dataset = r\"C:/Users/marco/Documentos/investigacion/didactica_ciencia_datos/3_datasets/vivienda/vivienda.csv\"\n",
    "    import pandas as pd\n",
    "    v = pd.read_csv(ubicacion_con_nombre_dataset)\n",
    "    return v\n"
   ]
  },
  {
   "cell_type": "code",
   "execution_count": null,
   "id": "1ea4a54c",
   "metadata": {},
   "outputs": [],
   "source": [
    "v_original = load_dataset()"
   ]
  },
  {
   "cell_type": "code",
   "execution_count": null,
   "id": "b72a06e8",
   "metadata": {},
   "outputs": [],
   "source": [
    "v_copia = v_original.copy() "
   ]
  },
  {
   "cell_type": "code",
   "execution_count": null,
   "id": "808e5afa",
   "metadata": {},
   "outputs": [],
   "source": [
    "\n",
    "def realizar_todo_el_preprocesamiento(\n",
    "    dataset_copia, \n",
    "    lista_columnas_imputar, \n",
    "    columna_criterio_outliers, \n",
    "    columnas_a_normalizar, \n",
    "    columna_codificar_onehot\n",
    "):\n",
    "    \"\"\"\n",
    "    Realiza el preprocesamiento del dataset para predicción de precios de vivienda.\n",
    "\n",
    "    Args:\n",
    "    - dataset_copia (pd.DataFrame): Copia del dataset original.\n",
    "    - lista_columnas_imputar (list): Columnas donde se imputarán valores faltantes con la mediana.\n",
    "    - columna_criterio_outliers (str): Columna usada para detectar y eliminar outliers.\n",
    "    - columnas_a_normalizar (list): Columnas que serán normalizadas (escala entre 0 y 1).\n",
    "    - columna_codificar_onehot (str): Columna para la cual se realizará codificación one-hot.\n",
    "\n",
    "    Returns:\n",
    "    - pd.DataFrame: Dataset preprocesado con selección de atributos relevantes.\n",
    "    \"\"\"\n",
    "    import numpy as np   # Importar numpy para realizar operaciones matemáticas\n",
    "    import pandas as pd  # Importar pandas para realizar operaciones con DataFrames\n",
    "    from sklearn.preprocessing import MinMaxScaler # Normaliza \n",
    "    from scipy.stats import pearsonr # establece correlaciones entre numéricas continuas y categóricas no ordinales \n",
    "    \n",
    "\n",
    "    # 1. Imputar valores faltantes con la mediana\n",
    "    for columna in lista_columnas_imputar:\n",
    "        mediana = dataset_copia[columna].median()\n",
    "        dataset_copia[columna] = dataset_copia[columna].fillna(mediana)\n",
    "\n",
    "    # 2. Eliminar valores atípicos basados en el criterio de la columna de precio \n",
    "    q1 = dataset_copia[columna_criterio_outliers].quantile(0.25)\n",
    "    q3 = dataset_copia[columna_criterio_outliers].quantile(0.75)\n",
    "    iqr = q3 - q1\n",
    "    limite_inferior = q1 - 1.5 * iqr\n",
    "    limite_superior = q3 + 1.5 * iqr\n",
    "    dataset_copia = dataset_copia[\n",
    "        (dataset_copia[columna_criterio_outliers] >= limite_inferior) & \n",
    "        (dataset_copia[columna_criterio_outliers] <= limite_superior)\n",
    "    ]\n",
    "\n",
    "    # 3. Normalización de las columnas numéricas seleccionadas\n",
    "    scaler = MinMaxScaler()  # crea un objeto escalador \n",
    "    dataset_copia[columnas_a_normalizar] = scaler.fit_transform(dataset_copia[columnas_a_normalizar])\n",
    "\n",
    "    # 4. Codificación one-hot de la columna seleccionada\n",
    "    dataset_copia = pd.get_dummies(\n",
    "        dataset_copia, \n",
    "        columns=[columna_codificar_onehot], \n",
    "        drop_first=True\n",
    "    )\n",
    "\n",
    "    # 5. Selección de atributos basados en la correlación de Pearson\n",
    "    # Calcular la correlación de cada atributo numérico con la variable objetivo 'precio'\n",
    "    atributos_numericos = dataset_copia.select_dtypes(include=[np.number]).columns.tolist()\n",
    "    correlaciones = {}\n",
    "\n",
    "    for columna in atributos_numericos:\n",
    "        if columna != 'precio':\n",
    "            correlacion, _ = pearsonr(dataset_copia[columna], dataset_copia['precio'])\n",
    "            correlaciones[columna] = abs(correlacion)\n",
    "\n",
    "    # Seleccionar las columnas con alta correlación (umbral configurable, por ejemplo 0.01)\n",
    "    umbral_correlacion = 0.01 # un umbral muy pequeño para admitir la mayor cantidad de atributos predictores\n",
    "    columnas_seleccionadas = [col for col, corr in correlaciones.items() if corr >= umbral_correlacion]\n",
    "\n",
    "    # 6. Asegurar independencia lineal eliminando atributos altamente correlacionados entre sí\n",
    "    columnas_finales = columnas_seleccionadas.copy()\n",
    "\n",
    "    for i, col1 in enumerate(columnas_seleccionadas):\n",
    "        for col2 in columnas_seleccionadas[i+1:]:\n",
    "            corr_entre_atributos, _ = pearsonr(dataset_copia[col1], dataset_copia[col2])\n",
    "            if abs(corr_entre_atributos) > 0.99:  # Umbral de multicolinealidad\n",
    "                if col2 in columnas_finales:\n",
    "                    columnas_finales.remove(col2)\n",
    "\n",
    "    # Filtrar el dataset para conservar únicamente las columnas seleccionadas\n",
    "    columnas_finales.append('precio')  # Asegurar que la variable objetivo se mantenga\n",
    "    dataset_copia = dataset_copia[columnas_finales]\n",
    "\n",
    "    return dataset_copia\n"
   ]
  },
  {
   "cell_type": "code",
   "execution_count": null,
   "id": "b2227ce6",
   "metadata": {},
   "outputs": [],
   "source": [
    "%%time \n",
    "v_preprocesada = realizar_todo_el_preprocesamiento(v_copia, lista_columnas_imputar=['dormitorios'], \\\n",
    "    columna_codificar_onehot='proximidad', \\\n",
    "        columna_criterio_outliers='precio', columnas_a_normalizar=['longitud', 'latitud', 'antiguedad', 'habitaciones', 'dormitorios',\n",
    "       'población', 'hogares', 'ingresos'] )"
   ]
  },
  {
   "cell_type": "code",
   "execution_count": null,
   "id": "85b738cd",
   "metadata": {},
   "outputs": [],
   "source": [
    "v_preprocesada.info()"
   ]
  },
  {
   "cell_type": "code",
   "execution_count": null,
   "id": "932f4cea",
   "metadata": {},
   "outputs": [],
   "source": [
    "v_preprocesada.describe() "
   ]
  },
  {
   "cell_type": "markdown",
   "id": "9f5e1227",
   "metadata": {},
   "source": [
    "[Video de apoyo a la experimentación con la función realizar preprocesamiento total](https://www.youtube.com/watch?v=HfuQeGVfHjA)"
   ]
  },
  {
   "cell_type": "markdown",
   "id": "4ddb1c88",
   "metadata": {},
   "source": [
    "# **Actividad 3: Selección de un Modelo de Regresión**\n"
   ]
  },
  {
   "cell_type": "markdown",
   "id": "3a443be2",
   "metadata": {},
   "source": [
    "1. Modelo de regresión lineal\n",
    "   $$ y = h(X) = \\sum \\theta_{i} x_{i} $$\n",
    "2. Árbol de decisión\n",
    "3. Random Forest \n",
    "4. Máquina de soporte vectorial \n",
    "5. Algotmo de los k-vecinos más cercanos.     "
   ]
  },
  {
   "cell_type": "markdown",
   "id": "5325b74b",
   "metadata": {},
   "source": [
    "## Consolidación de un modelo lineal simple "
   ]
  },
  {
   "cell_type": "markdown",
   "id": "779383a6",
   "metadata": {},
   "source": [
    "[Video de apoyo a la automatización del preprocesamiento](https://www.youtube.com/watch?v=DKQd1y12uRY)"
   ]
  },
  {
   "cell_type": "markdown",
   "id": "2905c911",
   "metadata": {},
   "source": [
    "\n",
    "1. **Implementación del Modelo de Regresión Lineal**:\n",
    "   - Dividir los datos en conjuntos de entrenamiento y prueba:\n"
   ]
  },
  {
   "cell_type": "code",
   "execution_count": null,
   "id": "1a088fc0",
   "metadata": {},
   "outputs": [],
   "source": [
    "v_preprocesada.drop('precio', axis = 1).values "
   ]
  },
  {
   "cell_type": "code",
   "execution_count": null,
   "id": "e2cab88e",
   "metadata": {},
   "outputs": [],
   "source": [
    "from graphviz import Digraph\n",
    "\n",
    "# Configurar el diagrama\n",
    "split = Digraph('Data_Split', filename='data_split.gv')\n",
    "split.attr(rankdir='TB', splines='ortho', nodesep='0.5')\n",
    "split.attr('node', shape='rectangle', style='filled', fontname='Helvetica')\n",
    "\n",
    "# Paleta de colores\n",
    "colors = {\n",
    "    'dataset': '#FFE4B5',\n",
    "    'variables': '#87CEEB',\n",
    "    'split': '#FFA07A',\n",
    "    'train': '#98FB98',\n",
    "    'test': '#FFB6C1'\n",
    "}\n",
    "\n",
    "# Nodos principales\n",
    "split.node('D', 'Dataset (df)\\nfilas, columnas', shape='ellipse', color=colors['dataset'])\n",
    "split.node('X', 'Predictores (X)\\nTodas las características\\nexcepto target', shape='parallelogram', color=colors['variables'])\n",
    "split.node('y', 'Etiquetas (y)\\nColumna target', shape='parallelogram', color=colors['variables'])\n",
    "\n",
    "# Proceso de división\n",
    "split.node('S1', 'train_test_split()\\ntest_size=0.2\\nrandom_state=42', shape='oval', color=colors['split'])\n",
    "split.node('S2', 'train_test_split()\\ntest_size=0.2\\nrandom_state=42', shape='oval', color=colors['split'])\n",
    "\n",
    "# Subdivisiones\n",
    "split.node('X_train', 'X_train\\n(80% datos)', shape='box3d', color=colors['train'])\n",
    "split.node('X_test', 'X_test\\n(20% datos)', shape='box3d', color=colors['test'])\n",
    "split.node('y_train', 'y_train\\n(80% datos)', shape='box3d', color=colors['train'])\n",
    "split.node('y_test', 'y_test\\n(20% datos)', shape='box3d', color=colors['test'])\n",
    "\n",
    "# Conexiones\n",
    "split.edge('D', 'X', label=' Se separan\\nexplicativas →')\n",
    "split.edge('D', 'y', label=' Se separa\\ntarget →')\n",
    "\n",
    "split.edge('X', 'S1')\n",
    "split.edge('S1', 'X_train', label=' 80%')\n",
    "split.edge('S1', 'X_test', label=' 20%')\n",
    "\n",
    "split.edge('y', 'S2')\n",
    "split.edge('S2', 'y_train', label=' 80%')\n",
    "split.edge('S2', 'y_test', label=' 20%')\n",
    "\n",
    "# Ejemplo de código\n",
    "split.node('code', \n",
    "           ('Ejemplo de código sklearn:\\n\\n'\n",
    "            'from sklearn.model_selection import train_test_split\\n\\n'\n",
    "            'X = df.drop(\"target\", axis=1)\\n'\n",
    "            'y = df[\"target\"]\\n\\n'\n",
    "            'X_train, X_test,\\n'\n",
    "            'y_train, y_test = train_test_split(\\n'\n",
    "            '    X, y, test_size=0.2,\\n'\n",
    "            '    random_state=42)'), \n",
    "           shape='note', \n",
    "           color='#F0E68C')\n",
    "\n",
    "split.edge('S1', 'code', style='dashed', color='gray')\n",
    "split.edge('S2', 'code', style='dashed', color='gray')\n",
    "\n",
    "# Generar archivo\n",
    "split.render(view=True)"
   ]
  },
  {
   "cell_type": "code",
   "execution_count": null,
   "id": "0457b1c2",
   "metadata": {},
   "outputs": [],
   "source": [
    "# División de los datos v_preprocesada en predictores X y etiquetas y\n",
    "X_preprocesada = v_preprocesada.drop('precio', axis = 1).values   \n",
    "# el atributo .values es para convertir el dataframe en un nd-array de numpy\n",
    "y = v_preprocesada.precio.values"
   ]
  },
  {
   "cell_type": "code",
   "execution_count": null,
   "id": "4d3f671c",
   "metadata": {},
   "outputs": [],
   "source": [
    "X_preprocesada"
   ]
  },
  {
   "cell_type": "code",
   "execution_count": null,
   "id": "2288ee00",
   "metadata": {},
   "outputs": [],
   "source": [
    "y"
   ]
  },
  {
   "cell_type": "code",
   "execution_count": null,
   "id": "74582d75",
   "metadata": {},
   "outputs": [],
   "source": [
    "from sklearn.model_selection import train_test_split\n",
    "# https://scikit-learn.org/stable/modules/generated/sklearn.model_selection.train_test_split.html\n",
    "X_train, X_test, y_train, y_test = train_test_split(X_preprocesada, y, \\\n",
    "    test_size=0.2, random_state=42)\n",
    "\n"
   ]
  },
  {
   "cell_type": "code",
   "execution_count": null,
   "id": "8df0b4ee",
   "metadata": {},
   "outputs": [],
   "source": [
    "len(X_preprocesada), len(X_train), len(X_test) "
   ]
  },
  {
   "cell_type": "code",
   "execution_count": null,
   "id": "6d5df0ab",
   "metadata": {},
   "outputs": [],
   "source": [
    "len(y), len(y_train), len(y_test)"
   ]
  },
  {
   "cell_type": "code",
   "execution_count": null,
   "id": "4407ba9d",
   "metadata": {},
   "outputs": [],
   "source": [
    "# Entrenamiento y selección de modelos de machine learning \n",
    "from sklearn.linear_model import LinearRegression\n",
    "from sklearn.tree import DecisionTreeRegressor\n",
    "from sklearn.ensemble import RandomForestRegressor\n",
    "from sklearn.svm import SVR\n",
    "from sklearn.neighbors import KNeighborsRegressor\n",
    "from sklearn.model_selection import cross_val_score  # Metodología de validación cruzada\n",
    "import numpy as np\n",
    "\n",
    "def train_and_select_best_model(X_train, y_train):\n",
    "    \"\"\"\n",
    "    Entrena varios modelos de aprendizaje automático y selecciona el mejor\n",
    "    basado en el desempeño de validación cruzada.\n",
    "\n",
    "    Args:\n",
    "        X_train: Features de entrenamiento (array o DataFrame).\n",
    "        y_train: Target de entrenamiento (array o Series).\n",
    "\n",
    "    Returns:\n",
    "        dict: Información del mejor modelo, su puntaje y el modelo entrenado.\n",
    "    \"\"\"\n",
    "    # Definir los modelos a evaluar\n",
    "    models = {\n",
    "        \"Linear Regression\": LinearRegression(),\n",
    "        \"Random Forest\": RandomForestRegressor(random_state=42),\n",
    "        \"Support Vector Machine\": SVR(),\n",
    "        \"K-Nearest Neighbors\": KNeighborsRegressor(),\n",
    "        \"Decision Tree\": DecisionTreeRegressor(random_state=42)\n",
    "    }\n",
    "\n",
    "    # Inicializar variables para rastrear el mejor modelo\n",
    "    best_model = None\n",
    "    best_score = -np.inf\n",
    "    best_name = \"\"\n",
    "\n",
    "    # Evaluar cada modelo utilizando validación cruzada\n",
    "    for name, model in models.items():\n",
    "        # Validación cruzada con 5 pliegues\n",
    "        scores = cross_val_score(model, X_train, y_train, cv=10, scoring='neg_mean_squared_error')\n",
    "        rmean_score = np.sqrt(-np.mean(scores))  # Convertir a raiz del error cuadrático medio positivo\n",
    "\n",
    "        print(f\"{name}: RMSE promedio = {rmean_score:.1f}\")\n",
    "\n",
    "        # Actualizar el mejor modelo si el desempeño es mejor\n",
    "        if rmean_score < best_score or best_model is None:\n",
    "            best_model = model\n",
    "            best_score = rmean_score\n",
    "            best_name = name\n",
    "\n",
    "    # Entrenar el mejor modelo en todos los datos de entrenamiento\n",
    "    best_model.fit(X_train, y_train)\n",
    "\n",
    "    # Retornar información del mejor modelo\n",
    "    return {\n",
    "        \"model_name\": best_name,\n",
    "        \"best_score\": best_score,\n",
    "        \"trained_model\": best_model\n",
    "    }\n",
    "\n",
    "# Ejemplo de uso (asegúrate de tener tus datos X_train e y_train definidos):\n",
    "#result = train_and_select_best_model(X_train, y_train)\n",
    "#print(f\"El mejor modelo es: {result['model_name']} con MSE promedio: {result['best_score']:.1f}\")\n"
   ]
  },
  {
   "cell_type": "code",
   "execution_count": null,
   "id": "0e4dea10",
   "metadata": {},
   "outputs": [],
   "source": [
    "%%time\n",
    "train_and_select_best_model(X_train=X_train, y_train=y_train)"
   ]
  },
  {
   "cell_type": "markdown",
   "id": "7643b020",
   "metadata": {},
   "source": [
    "Aquí tienes un código completo que define una función de usuario para entrenar y seleccionar el mejor modelo entre al menos 5 algoritmos de aprendizaje automático, utilizando validación cruzada con al menos 10 pliegues:\n",
    "\n",
    "Este código:\n",
    "\n",
    "1. Define una función `train_and_select_best_model` que recibe los datos de entrenamiento `X_train` y `y_train`.\n",
    "2. Entrena cinco algoritmos de aprendizaje automático: regresión lineal, bosque aleatorio, máquinas de soporte vectorial, K-vecinos más cercanos, y árbol de decisión.\n",
    "3. Evalúa cada modelo usando validación cruzada con 10 pliegues y selecciona el que tenga el mejor desempeño (menor RMSE promedio).\n",
    "4. Retorna el nombre, el puntaje promedio de MSE y el modelo entrenado del mejor algoritmo.\n",
    "\n",
    "Puedes ajustar los hiperparámetros de los modelos o cambiar el método de scoring según las necesidades de tu proyecto.\n"
   ]
  },
  {
   "cell_type": "markdown",
   "id": "7ddca98c",
   "metadata": {},
   "source": [
    "[Video de apoyo para la selección de modelos](https://www.youtube.com/watch?v=Mova3YDabVc)"
   ]
  },
  {
   "cell_type": "markdown",
   "id": "4b93e896",
   "metadata": {},
   "source": [
    "# Afinar el modelo que mejor se desempeñó. "
   ]
  },
  {
   "cell_type": "code",
   "execution_count": null,
   "id": "552b964b",
   "metadata": {},
   "outputs": [],
   "source": []
  },
  {
   "cell_type": "code",
   "execution_count": null,
   "id": "53d01b30",
   "metadata": {},
   "outputs": [],
   "source": []
  },
  {
   "cell_type": "code",
   "execution_count": null,
   "id": "be375d15",
   "metadata": {},
   "outputs": [],
   "source": []
  },
  {
   "cell_type": "markdown",
   "id": "4c304748",
   "metadata": {},
   "source": [
    "\n",
    "   - Entrenar un modelo de regresión lineal:\n"
   ]
  },
  {
   "cell_type": "markdown",
   "id": "c5fade9e",
   "metadata": {},
   "source": [
    "\n",
    "2. **Cálculo de Métricas de Rendimiento**:\n",
    "   - Crear una función para calcular el error cuadrático medio (MSE):\n"
   ]
  },
  {
   "cell_type": "code",
   "execution_count": null,
   "id": "e179b300",
   "metadata": {},
   "outputs": [],
   "source": [
    "import numpy as np \n",
    "from sklearn.metrics import mean_squared_error\n",
    "\n",
    "def calcular_rmse(model, X, y):\n",
    "    predicciones = model.predict(X)\n",
    "    mse = mean_squared_error(y, predicciones)\n",
    "    return mse\n",
    "\n",
    "rmse_train = np.sqrt(calcular_rmse(model, X_train, y_train))\n",
    "rmse_test = np.sqrt(calcular_rmse(model, X_test, y_test))\n",
    "print(f\"RMSE en entrenamiento: {rmse_train} dólares\")\n",
    "print(f\"RMSE en prueba: {rmse_test} dólares\")\n",
    "\n"
   ]
  },
  {
   "cell_type": "markdown",
   "id": "78010c9f",
   "metadata": {},
   "source": [
    "\n",
    "---\n",
    "\n",
    "## **Actividad 4: Visualización de Resultados**\n",
    "\n",
    "1. **Gráficas Estáticas con Matplotlib**:\n",
    "   - Visualizar la línea de regresión ajustada:\n"
   ]
  },
  {
   "cell_type": "code",
   "execution_count": null,
   "id": "35e85e95",
   "metadata": {},
   "outputs": [],
   "source": [
    "import matplotlib.pyplot as plt  \n",
    "plt.scatter(X_test[\"antiguedad\"], y_test, color=\"blue\", label=\"Datos reales\")\n",
    "plt.scatter(X_test[\"antiguedad\"], model.predict(X_test), color=\"red\", label=\"Línea de regresión\")\n",
    "plt.xlabel(\"antiguedad\")\n",
    "plt.ylabel(\"Precio\")\n",
    "plt.legend()\n",
    "plt.title(\"Línea de regresión ajustada\")\n",
    "save_fig('linea_regresion_ajustada.jpeg')\n",
    "plt.show()\n",
    "\n"
   ]
  },
  {
   "cell_type": "markdown",
   "id": "c3f7cc95",
   "metadata": {},
   "source": [
    "\n",
    "   # - Predicciones frente a datos reales:\n"
   ]
  },
  {
   "cell_type": "code",
   "execution_count": null,
   "id": "39b0a6f5",
   "metadata": {},
   "outputs": [],
   "source": [
    "plt.scatter(y_test, model.predict(X_test), alpha=0.6)\n",
    "plt.plot([y_test.min(), y_test.max()], [y_test.min(), y_test.max()], color=\"red\", linewidth=2)\n",
    "plt.xlabel(\"Valores Reales\")\n",
    "plt.ylabel(\"Predicciones\")\n",
    "plt.title(\"Predicciones frente a valores reales\")\n",
    "plt.grid(alpha = 0.5)\n",
    "plt.show()\n",
    "\n"
   ]
  },
  {
   "cell_type": "markdown",
   "id": "6ed7dfa8",
   "metadata": {},
   "source": [
    "\n",
    "2. **Gráfica Animada del Ajuste Progresivo**:\n",
    "   - Crear una animación que muestre el progreso del ajuste:\n"
   ]
  },
  {
   "cell_type": "code",
   "execution_count": null,
   "id": "cbef36bb",
   "metadata": {},
   "outputs": [],
   "source": [
    "import numpy as np\n",
    "import matplotlib.animation as animation\n",
    "\n",
    "fig, ax = plt.subplots()\n",
    "line, = ax.plot([], [], 'r-', lw=2)\n",
    "ax.scatter(X_test[\"antiguedad\"], y_test, color=\"blue\", alpha=0.6)\n",
    "\n",
    "def init():\n",
    "    line.set_data([], [])\n",
    "    return line,\n",
    "\n",
    "def update(frame):\n",
    "    alpha = frame / 100\n",
    "    partial_preds = (1 - alpha) * np.mean(y_train) + alpha * model.predict(X_test)\n",
    "    line.set_data(X_test[\"antiguedad\"], partial_preds)\n",
    "    return line,\n",
    "\n",
    "ani = animation.FuncAnimation(fig, update, frames=100, init_func=init, blit=True)\n",
    "plt.show()\n"
   ]
  },
  {
   "cell_type": "markdown",
   "id": "4c9488d5",
   "metadata": {},
   "source": [
    "\n",
    "--- \n"
   ]
  },
  {
   "cell_type": "markdown",
   "id": "1565fc73",
   "metadata": {},
   "source": [
    "\n",
    "¿Te gustaría ajustar o ampliar alguna de estas actividades? "
   ]
  },
  {
   "cell_type": "markdown",
   "id": "9cafcc37",
   "metadata": {},
   "source": [
    "\n",
    "### 5. Tarea o actividades de ejercitación y fijación\n"
   ]
  },
  {
   "cell_type": "markdown",
   "id": "3ac3b5bf",
   "metadata": {},
   "source": [
    "\n",
    "1. Crear una función que permita evaluar el modelo para un subconjunto de datos desconocidos (datos de prueba).\n",
    "2. Implementar visualizaciones adicionales, como:\n",
    "   - Histograma de errores de predicción.\n",
    "   - Gráfica 3D si se incluyen más de dos variables predictoras.\n",
    "3. Experimentar con diferentes subconjuntos de variables predictoras para observar cómo cambia el rendimiento del modelo.\n"
   ]
  },
  {
   "cell_type": "markdown",
   "id": "92a5b941",
   "metadata": {},
   "source": [
    "### **Desarrollo de la Quinta Parte: Tarea o Actividades de Ejercitación y Fijación**\n"
   ]
  },
  {
   "cell_type": "markdown",
   "id": "d4f1bd4b",
   "metadata": {},
   "source": [
    "\n",
    "#### **1. Crear una Función para Evaluar el Modelo en Datos de Prueba**\n",
    "\n",
    "- Diseñar una función que evalúe el modelo utilizando métricas relevantes como el error cuadrático medio (MSE) y el coeficiente de determinación ($R^2$):\n"
   ]
  },
  {
   "cell_type": "code",
   "execution_count": null,
   "id": "88d23224",
   "metadata": {},
   "outputs": [],
   "source": [
    "from sklearn.metrics import mean_squared_error, r2_score\n",
    "\n",
    "def evaluar_modelo(model, X_test, y_test):\n",
    "    predicciones = model.predict(X_test)\n",
    "    mse = mean_squared_error(y_test, predicciones)\n",
    "    r2 = r2_score(y_test, predicciones)\n",
    "    print(f\"MSE en datos de prueba: {mse:.2f}\")\n",
    "    print(f\"R² en datos de prueba: {r2:.2f}\")\n",
    "    return predicciones\n"
   ]
  },
  {
   "cell_type": "code",
   "execution_count": null,
   "id": "0b4bddae",
   "metadata": {},
   "outputs": [],
   "source": [
    "\n",
    "predicciones_prueba = evaluar_modelo(model, X_test, y_test)\n",
    "\n"
   ]
  },
  {
   "cell_type": "markdown",
   "id": "316efc29",
   "metadata": {},
   "source": [
    "\n",
    "---\n",
    "\n",
    "#### **2. Implementar Visualizaciones Adicionales**\n",
    "\n",
    "##### **Histograma de Errores de Predicción**\n",
    "- Visualizar la distribución de los errores de predicción (residuos):\n"
   ]
  },
  {
   "cell_type": "code",
   "execution_count": null,
   "id": "233aac43",
   "metadata": {},
   "outputs": [],
   "source": [
    "import matplotlib.pyplot as plt\n",
    "\n",
    "def graficar_histograma_errores(y_test, predicciones):\n",
    "    errores = y_test - predicciones\n",
    "    plt.hist(errores, bins=30, alpha=0.7, color=\"blue\", edgecolor=\"black\")\n",
    "    plt.axvline(0, color=\"red\", linestyle=\"--\")\n",
    "    plt.title(\"Histograma de Errores de Predicción\")\n",
    "    plt.xlabel(\"Error\")\n",
    "    plt.ylabel(\"Frecuencia\")\n",
    "    save_fig('errores_de_prediccion.jpeg')\n",
    "    plt.show()\n"
   ]
  },
  {
   "cell_type": "code",
   "execution_count": null,
   "id": "b94c752f",
   "metadata": {},
   "outputs": [],
   "source": [
    "\n",
    "graficar_histograma_errores(y_test, predicciones_prueba)\n",
    "\n"
   ]
  },
  {
   "cell_type": "markdown",
   "id": "b7835165",
   "metadata": {},
   "source": [
    "\n",
    "##### **Gráfica 3D (Si se Incluyen Más de Dos Variables Predictoras)**\n",
    "- Crear una gráfica tridimensional para analizar la relación entre las variables predictoras y el objetivo:\n"
   ]
  },
  {
   "cell_type": "code",
   "execution_count": null,
   "id": "370d25d5",
   "metadata": {},
   "outputs": [],
   "source": [
    "from mpl_toolkits.mplot3d import Axes3D\n",
    "\n",
    "def graficar_3d(X_test, y_test, predicciones):\n",
    "    fig = plt.figure(figsize=(10, 7))\n",
    "    ax = fig.add_subplot(111, projection=\"3d\")\n",
    "    ax.scatter(X_test[\"superficie\"], X_test[\"número_habitaciones\"], y_test, color=\"blue\", label=\"Datos reales\")\n",
    "    ax.scatter(X_test[\"superficie\"], X_test[\"número_habitaciones\"], predicciones, color=\"red\", label=\"Predicciones\")\n",
    "    ax.set_xlabel(\"Superficie\")\n",
    "    ax.set_ylabel(\"Número de Habitaciones\")\n",
    "    ax.set_zlabel(\"Precio\")\n",
    "    plt.title(\"Visualización 3D de Predicciones y Datos Reales\")\n",
    "    plt.legend()\n",
    "    save_fig('relacion_predictores_objetivo.jpg')\n",
    "    plt.show()\n"
   ]
  },
  {
   "cell_type": "code",
   "execution_count": null,
   "id": "252e9015",
   "metadata": {},
   "outputs": [],
   "source": [
    "\n",
    "graficar_3d(X_test, y_test, predicciones_prueba)\n",
    "\n"
   ]
  },
  {
   "cell_type": "markdown",
   "id": "1757b17a",
   "metadata": {},
   "source": [
    "\n",
    "#### **3. Experimentar con Diferentes Subconjuntos de Variables Predictoras**\n"
   ]
  },
  {
   "cell_type": "markdown",
   "id": "ea8d8eab",
   "metadata": {},
   "source": [
    "\n",
    "- Probar cómo diferentes combinaciones de variables predictoras afectan el rendimiento del modelo:\n"
   ]
  },
  {
   "cell_type": "code",
   "execution_count": null,
   "id": "56a49012",
   "metadata": {},
   "outputs": [],
   "source": [
    "v.keys()"
   ]
  },
  {
   "cell_type": "code",
   "execution_count": null,
   "id": "b0ab50b4",
   "metadata": {},
   "outputs": [],
   "source": [
    "def probar_subconjuntos(df, variables_predictoras, objetivo):\n",
    "    resultados = {}\n",
    "    for subset in variables_predictoras:\n",
    "        X = df[list(subset)]\n",
    "        y = df[objetivo]\n",
    "        X_train, X_test, y_train, y_test = train_test_split(X, y, test_size=0.2, random_state=42)\n",
    "        \n",
    "        model = LinearRegression()\n",
    "        model.fit(X_train, y_train)\n",
    "          \n",
    "        mse = mean_squared_error(y_test, model.predict(X_test))\n",
    "        r2 = r2_score(y_test, model.predict(X_test))\n",
    "        resultados[subset] = {\"MSE\": mse, \"R²\": r2}\n",
    "      \n",
    "    return resultados\n",
    "\n",
    "from itertools import combinations\n",
    "from sklearn.metrics import mean_squared_error, r2_score\n",
    "\n",
    "variables = [\"antiguedad\", \"habitaciones\", \"ingresos\"]\n",
    "subconjuntos = [combo for i in range(1, len(variables) + 1) for combo in combinations(variables, i)]\n",
    "resultados = probar_subconjuntos(v_sin_outliers, subconjuntos, \"precio\")\n",
    "for subset, metrics in resultados.items():\n",
    "    print(f\"Variables: {subset}, MSE: {metrics['MSE']:.2f}, R²: {metrics['R²']:.2f}\")\n",
    "\n"
   ]
  },
  {
   "cell_type": "markdown",
   "id": "c0bf125e",
   "metadata": {},
   "source": [
    "\n",
    "### **Resumen de la Tarea**\n"
   ]
  },
  {
   "cell_type": "markdown",
   "id": "200f2f01",
   "metadata": {},
   "source": [
    "1. Crear una función para evaluar el modelo y reportar métricas.\n",
    "2. Implementar visualizaciones adicionales:\n",
    "   - Histograma de errores.\n",
    "   - Gráfica 3D.\n",
    "3. Explorar diferentes subconjuntos de variables predictoras para analizar su impacto en el rendimiento.\n"
   ]
  },
  {
   "cell_type": "markdown",
   "id": "e445f007",
   "metadata": {},
   "source": [
    "\n",
    "¿Te gustaría que amplíe o ajuste alguna parte del desarrollo? "
   ]
  },
  {
   "cell_type": "markdown",
   "id": "0044d18f",
   "metadata": {},
   "source": [
    "\n",
    "# 6. Diseño de actividad de retroalimentación\n"
   ]
  },
  {
   "cell_type": "markdown",
   "id": "beacedab",
   "metadata": {},
   "source": [
    "\n",
    "- **Discusión en clase:** Cada estudiante presentará sus hallazgos sobre la variable que tiene mayor correlación con el precio de la vivienda y cómo el modelo predice en datos de prueba.\n"
   ]
  },
  {
   "cell_type": "markdown",
   "id": "f0d5ce15",
   "metadata": {},
   "source": [
    "- **Revisión colaborativa:** Formar equipos para revisar y comentar los códigos de sus compañeros. Identificar mejoras en las funciones implementadas.\n"
   ]
  },
  {
   "cell_type": "markdown",
   "id": "1da275f4",
   "metadata": {},
   "source": [
    "- **Entrega de un reporte:** El estudiante generará un informe en formato Markdown dentro del cuaderno Jupyter, explicando los pasos seguidos, los resultados obtenidos y el impacto de las visualizaciones en la interpretación del modelo.\n",
    "\n"
   ]
  },
  {
   "cell_type": "markdown",
   "id": "ec048afb",
   "metadata": {},
   "source": [
    "### **Desarrollo de la Sexta Parte: Diseño de Actividad de Retroalimentación**\n"
   ]
  },
  {
   "cell_type": "markdown",
   "id": "7c2a34cf",
   "metadata": {},
   "source": [
    "\n",
    "#### **1. Discusión en Clase**\n",
    "El objetivo de esta actividad es fomentar la reflexión y el análisis crítico de los resultados obtenidos. \n"
   ]
  },
  {
   "cell_type": "markdown",
   "id": "ee2f9439",
   "metadata": {},
   "source": [
    "\n",
    "## **Desarrollo:**\n"
   ]
  },
  {
   "cell_type": "markdown",
   "id": "38558ccf",
   "metadata": {},
   "source": [
    "1. **Presentación Individual:**\n",
    "   - Cada estudiante presentará:\n",
    "     - La variable que identificaron como la más correlacionada con el precio de la vivienda (según análisis exploratorio y visualizaciones).\n",
    "     - El desempeño del modelo en los datos de prueba, destacando métricas como el MSE y \\(R^2\\).\n",
    "     - Limitaciones y fortalezas de su modelo.\n",
    "   - Tiempo estimado: 3-5 minutos por estudiante.\n"
   ]
  },
  {
   "cell_type": "markdown",
   "id": "14bd8a69",
   "metadata": {},
   "source": [
    "2. **Guía para la Discusión:**\n",
    "   - ¿Qué variable tuvo la mayor correlación y por qué creen que es así?\n",
    "   - ¿Cómo influyen las características del dataset (valores atípicos, escalas, etc.) en el modelo?\n",
    "   - ¿Qué cambios aplicarían para mejorar los resultados?\n"
   ]
  },
  {
   "cell_type": "markdown",
   "id": "a2901535",
   "metadata": {},
   "source": [
    "3. **Dinámica:**\n",
    "   - Cada estudiante recibe preguntas constructivas de al menos un compañero o del docente para fomentar el intercambio de ideas.\n",
    "\n",
    "---\n"
   ]
  },
  {
   "cell_type": "markdown",
   "id": "b15eeb4b",
   "metadata": {},
   "source": [
    "\n",
    "#### **2. Revisión Colaborativa**\n",
    "El propósito es mejorar la calidad del código y el análisis a través del trabajo en equipo.\n"
   ]
  },
  {
   "cell_type": "markdown",
   "id": "df02c895",
   "metadata": {},
   "source": [
    "\n",
    "**Desarrollo:**\n"
   ]
  },
  {
   "cell_type": "markdown",
   "id": "c8362051",
   "metadata": {},
   "source": [
    "1. **Formación de Equipos:**\n",
    "   - Se forman equipos de 3-4 estudiantes.\n",
    "   - Cada equipo intercambia cuadernos Jupyter con otro equipo.\n"
   ]
  },
  {
   "cell_type": "markdown",
   "id": "27e33dba",
   "metadata": {},
   "source": [
    "2. **Revisión del Código:**\n",
    "   - Aspectos a revisar:\n",
    "     - Claridad y organización del código.\n",
    "     - Uso adecuado de funciones.\n",
    "     - Calidad de las visualizaciones.\n",
    "     - Corrección en el cálculo de métricas.\n",
    "   - Identificar al menos **una mejora** en cada cuaderno.\n"
   ]
  },
  {
   "cell_type": "markdown",
   "id": "25acd19e",
   "metadata": {},
   "source": [
    "3. **Registro de Comentarios:**\n",
    "   - Los equipos deben registrar sus observaciones y sugerencias de mejora en un archivo Markdown o directamente en los comentarios del cuaderno.\n"
   ]
  },
  {
   "cell_type": "markdown",
   "id": "fdcfa6b4",
   "metadata": {},
   "source": [
    "4. **Retroalimentación en Clase:**\n",
    "   - Breve presentación de las mejoras sugeridas a los compañeros.\n",
    "\n",
    "---\n"
   ]
  },
  {
   "cell_type": "markdown",
   "id": "6b852234",
   "metadata": {},
   "source": [
    "\n",
    "#### **3. Entrega de un Reporte**\n",
    "El informe final ayuda a consolidar el aprendizaje y a desarrollar habilidades de comunicación técnica.\n"
   ]
  },
  {
   "cell_type": "markdown",
   "id": "277cc300",
   "metadata": {},
   "source": [
    "\n",
    "# **Desarrollo del Reporte:**\n"
   ]
  },
  {
   "cell_type": "markdown",
   "id": "2b68cfa7",
   "metadata": {},
   "source": [
    "1. **Estructura:**\n"
   ]
  },
  {
   "cell_type": "markdown",
   "id": "51dd1796",
   "metadata": {},
   "source": [
    "   - **Título y Autor:**\n",
    "     - Nombre del estudiante y título del proyecto.\n",
    "   - **Introducción:**\n",
    "     - Breve descripción del dataset y objetivo del análisis.\n",
    "   - **Limpieza de Datos:**\n",
    "     - Resumen de pasos realizados: detección y tratamiento de valores ausentes, eliminación de outliers, normalización, etc.\n",
    "   - **Análisis Exploratorio:**\n",
    "     - Visualizaciones clave y hallazgos principales (incluyendo la variable más correlacionada con el precio).\n",
    "   - **Modelo de Regresión:**\n",
    "     - Descripción del modelo implementado y resultados obtenidos (MSE, \\(R^2\\), etc.).\n",
    "   - **Visualizaciones:**\n",
    "     - Gráficas relevantes (línea de regresión, histograma de errores, etc.).\n",
    "   - **Conclusiones y Futuras Mejoras:**\n",
    "     - Reflexión sobre los resultados y posibles mejoras al análisis o modelo.\n",
    "2. **Formato Markdown:**\n",
    "   - Incluir celdas de texto y código en el cuaderno Jupyter.\n",
    "   - Utilizar encabezados, listas, y tablas para estructurar la información.\n",
    "   - Agregar imágenes generadas por las visualizaciones.\n"
   ]
  },
  {
   "cell_type": "markdown",
   "id": "a053d6ea",
   "metadata": {},
   "source": [
    "\n",
    "**Código para Exportar a HTML o PDF:**\n",
    "Al finalizar el informe, los estudiantes pueden exportarlo para su entrega:\n"
   ]
  },
  {
   "cell_type": "markdown",
   "id": "b03bc863",
   "metadata": {},
   "source": [
    "```bash\n",
    "jupyter nbconvert --to html reporte_vivienda.ipynb\n",
    "```\n"
   ]
  },
  {
   "cell_type": "markdown",
   "id": "341db066",
   "metadata": {},
   "source": [
    "\n",
    "---\n",
    "\n",
    "### **Objetivos de la Actividad de Retroalimentación**\n"
   ]
  },
  {
   "cell_type": "markdown",
   "id": "476313d8",
   "metadata": {},
   "source": [
    "1. Fomentar la reflexión crítica y el análisis colaborativo.\n",
    "2. Desarrollar habilidades de revisión de código y comunicación técnica.\n",
    "3. Consolidar el aprendizaje a través de la elaboración de un informe bien estructurado.\n"
   ]
  },
  {
   "cell_type": "markdown",
   "id": "f498b969",
   "metadata": {},
   "source": [
    "\n",
    "¿Te gustaría incluir algún detalle adicional o profundizar en alguna sección? "
   ]
  },
  {
   "cell_type": "markdown",
   "id": "10bce0d0",
   "metadata": {
    "slideshow": {
     "slide_type": "slide"
    }
   },
   "source": [
    "## Referentes "
   ]
  },
  {
   "cell_type": "markdown",
   "id": "1db3c468",
   "metadata": {
    "slideshow": {
     "slide_type": "slide"
    }
   },
   "source": [
    " \n",
    "\n",
    "* [Chollet, F. (2021). Deep learning with Python. Simon and Schuster.](chrome-extension://efaidnbmnnnibpcajpcglclefindmkaj/https://tanthiamhuat.wordpress.com/wp-content/uploads/2018/03/deeplearningwithpython.pdf)  \n",
    "  \n",
    "\n",
    "* [Recomendación de la UNESCO sobre ciencia abierta](https://unesdoc.unesco.org/ark:/48223/pf0000379949_spa)\n",
    "\n",
    "* [chatGPT](https://openai.com/blog/chatgpt)  \n",
    "\n",
    "* [Géron, A. (2017). Hands-on machine learning with scikit-learn and tensorflow: Concepts. Tools, and Techniques to build intelligent systems.](https://github.com/marco-canas/didactica_ciencia_datos/blob/main/2_referentes/geron/Hands-On%20Machine%20Learning-3nd_Edition(2022).pdf)  \n"
   ]
  },
  {
   "cell_type": "markdown",
   "id": "df925560",
   "metadata": {},
   "source": [
    "\n",
    "* [McKinney, W. (2012). Python for data analysis: Data wrangling with Pandas, NumPy, and IPython. \" O'Reilly Media, Inc.\".](https://wesmckinney.com/book/) "
   ]
  },
  {
   "cell_type": "markdown",
   "id": "8e65d6f9",
   "metadata": {},
   "source": [
    "# Como estudiante, encuentro que...   \n",
    "\n",
    "F: Mis Fortalezas son:     \n",
    "O: Mis Oportunidades son:    \n",
    "D: Mis Debilidades son:    \n",
    "A: Lo que Amenazas mi aprendizaje es:  "
   ]
  },
  {
   "cell_type": "markdown",
   "id": "6b9e56a8",
   "metadata": {
    "slideshow": {
     "slide_type": "slide"
    }
   },
   "source": [
    "### [Evaluamos al profesor Marco Cañas Aquí](https://forms.office.com/Pages/ResponsePage.aspx?id=IefhmYRxjkmK_7KtTlPBwkanXIs1i1FEujpsZgO6dXpUREJPV1kxUk1JV1ozTFJIQVNIQjY5WEY3US4u)"
   ]
  },
  {
   "cell_type": "markdown",
   "id": "10f43536",
   "metadata": {
    "slideshow": {
     "slide_type": "slide"
    }
   },
   "source": [
    "### Continue su aprendizaje en la siguiente clase a través del siguiente [vínculo]()"
   ]
  },
  {
   "cell_type": "markdown",
   "id": "53cc9115",
   "metadata": {
    "slideshow": {
     "slide_type": "slide"
    }
   },
   "source": [
    "## Agradecimientos  \n",
    "\n",
    "Doy gracias a Dios por la vida de mi Hijo Joseph Cañas Osorio y la madurez que ha alcanzado. Este hijo me enorgullece y me hace falta abrazarlo cada día. \n",
    "\n",
    "Y a mi esposa Yasmira Emperatriz Barboza Mogollón por su apoyo, orientación y acompañamiento. "
   ]
  },
  {
   "cell_type": "markdown",
   "id": "a0efb260",
   "metadata": {},
   "source": [
    "# Enseñar enfocado al servicio  "
   ]
  },
  {
   "cell_type": "markdown",
   "id": "57dbeaa6",
   "metadata": {},
   "source": [
    "Es admirable que reflexiones sobre cómo mejorar tus emociones y actitudes hacia tus estudiantes y su aceptación de tus métodos de enseñanza. "
   ]
  },
  {
   "cell_type": "markdown",
   "id": "29d2f844",
   "metadata": {},
   "source": [
    "Trabajar en estos aspectos no solo te hará sentir más pleno y tranquilo, sino que también mejorará la experiencia educativa para tus estudiantes. "
   ]
  },
  {
   "cell_type": "markdown",
   "id": "2b529c50",
   "metadata": {},
   "source": [
    "Aquí tienes algunas estrategias:\n",
    "\n",
    "---\n"
   ]
  },
  {
   "cell_type": "markdown",
   "id": "c6329acf",
   "metadata": {},
   "source": [
    "\n",
    "### **1. Reconocer y cuestionar los prejuicios**\n"
   ]
  },
  {
   "cell_type": "markdown",
   "id": "e0e26bc1",
   "metadata": {},
   "source": [
    "   - **Identifica tus pensamientos automáticos:** Cuando sientas que los estudiantes te rechazan, detente y pregúntate: _¿Qué evidencia concreta tengo para pensar esto?_\n",
    "   - **Reformula tus percepciones:** En lugar de pensar “mis estudiantes me rechazan,” prueba con: “mis estudiantes tienen diferentes formas de aprender y adaptarse.”\n",
    "   - **Acepta la diversidad:** Reconoce que no todos los estudiantes estarán inmediatamente interesados en tus propuestas, pero eso no significa rechazo hacia ti o tu esfuerzo.\n",
    "\n",
    "---\n"
   ]
  },
  {
   "cell_type": "markdown",
   "id": "a4fca0e3",
   "metadata": {},
   "source": [
    "\n",
    "### **2. Cambia el enfoque hacia el servicio**\n",
    "   - **Enfócate en el aprendizaje, no en la aceptación:** Piensa que tu propósito es sembrar conocimiento, incluso si algunos estudiantes no lo aprecian en el momento.\n",
    "   - **Adopta una mentalidad de facilitador:** Más que transmitir información, facilita experiencias significativas de aprendizaje, adaptándote a las necesidades e intereses de los estudiantes.\n",
    "\n",
    "---\n"
   ]
  },
  {
   "cell_type": "markdown",
   "id": "4da7317d",
   "metadata": {},
   "source": [
    "\n",
    "### **3. Fomenta el diálogo y la empatía**\n",
    "   - **Escucha activa:** Pregunta directamente a tus estudiantes cómo se sienten respecto a tus métodos. Escucha con apertura y sin juzgar.\n",
    "   - **Valora sus perspectivas:** Acepta que algunos estudiantes puedan preferir métodos más tradicionales. Encuentra maneras de conectar esos métodos con tu propuesta moderna.\n",
    "   - **Construye relaciones:** Muestra interés genuino en sus vidas y contextos. Cuando se sienten valorados como personas, son más receptivos a tus métodos.\n",
    "\n",
    "---\n"
   ]
  },
  {
   "cell_type": "markdown",
   "id": "2939cfb5",
   "metadata": {},
   "source": [
    "\n",
    "### **4. Adapta tu enseñanza gradualmente**\n",
    "   - **Introducción progresiva:** Si Python, Jupyter y Machine Learning son muy nuevos para tus estudiantes, introdúcelos poco a poco, empezando por problemas simples y relevantes para su contexto.\n",
    "   - **Conecta con su realidad:** Relaciona tus clases con situaciones prácticas y locales que les sean familiares, como ejemplos en agroindustria, economía local o salud pública.\n",
    "   - **Proporciona alternativas:** Complementa tus clases con métodos más tradicionales para dar a los estudiantes opciones y tiempo para adaptarse.\n",
    "\n",
    "---\n"
   ]
  },
  {
   "cell_type": "markdown",
   "id": "fe7309a9",
   "metadata": {},
   "source": [
    "\n",
    "### **5. Gestiona tus emociones**\n"
   ]
  },
  {
   "cell_type": "markdown",
   "id": "9c4796a6",
   "metadata": {},
   "source": [
    "   - **Practica la autorreflexión:** Al final de cada clase, reflexiona: _\n",
    "      * ¿Qué funcionó bien?_ y _\n",
    "      * ¿Qué puedo ajustar?_ \n",
    "  *  Esto te ayudará a enfocarte en soluciones en lugar de quedarte en la frustración.\n",
    "   - **Acepta lo que no puedes controlar:** No todos los estudiantes estarán abiertos de inmediato, y eso está bien. Concéntrate en aquellos que están dispuestos a aprender.\n",
    "   - **Practica la gratitud:** Agradece los momentos positivos con tus estudiantes. Esto ayuda a equilibrar la percepción de rechazo.\n",
    "\n",
    "---\n"
   ]
  },
  {
   "cell_type": "markdown",
   "id": "6747e345",
   "metadata": {},
   "source": [
    "\n",
    "### **6. Aprende a manejar la resistencia**\n"
   ]
  },
  {
   "cell_type": "markdown",
   "id": "bdc2a092",
   "metadata": {},
   "source": [
    "   - **No lo tomes como algo personal:** La resistencia puede deberse a múltiples factores, como miedo al cambio, falta de confianza en sus habilidades o experiencias previas negativas.\n",
    "   - **Apóyales en la transición:** Proporciona recursos adicionales, tutorías o espacios para aclarar dudas. Asegúrate de que no sientan que están solos en su proceso.\n",
    "\n",
    "---\n"
   ]
  },
  {
   "cell_type": "markdown",
   "id": "69fcfebe",
   "metadata": {},
   "source": [
    "\n",
    "### **7. Busca apoyo personal y profesional**\n"
   ]
  },
  {
   "cell_type": "markdown",
   "id": "d72d69c3",
   "metadata": {},
   "source": [
    "   - **Construye una red de colegas:** Comparte tus experiencias con otros profesores que también estén adoptando enfoques innovadores. Sus consejos y apoyo te serán valiosos.\n",
    "   - **Consulta a un mentor:** Hablar con alguien con experiencia en pedagogía puede darte nuevas perspectivas.\n",
    "   - **Practica técnicas de relajación:** Meditación, mindfulness o actividades como el ciclismo pueden ayudarte a manejar la ansiedad y mantener la calma.\n",
    "\n",
    "---\n"
   ]
  },
  {
   "cell_type": "markdown",
   "id": "777aac91",
   "metadata": {},
   "source": [
    "\n",
    "### **8. Redefine el éxito**\n",
    "   - El éxito no siempre es que todos los estudiantes acepten tu método. Es que logres impactar positivamente, aunque sea en un solo estudiante. Siembra semillas de conocimiento y curiosidad, incluso si los resultados no son inmediatos.\n",
    "\n",
    "---\n"
   ]
  },
  {
   "cell_type": "markdown",
   "id": "822eb54c",
   "metadata": {},
   "source": [
    "\n",
    "### Reflexión final:\n"
   ]
  },
  {
   "cell_type": "markdown",
   "id": "518cf856",
   "metadata": {},
   "source": [
    "En tu papel como educador, el rechazo o la resistencia de los estudiantes no siempre significa fracaso, sino una oportunidad de crecer y aprender sobre cómo conectarte mejor con ellos. "
   ]
  },
  {
   "cell_type": "markdown",
   "id": "a3dd80ab",
   "metadata": {},
   "source": [
    "Al mantener una actitud de servicio, empatía y apertura al cambio, fortalecerás no solo tus clases, sino también tu bienestar emocional y profesional.\n"
   ]
  },
  {
   "cell_type": "markdown",
   "id": "2750bec6",
   "metadata": {},
   "source": [
    "\n",
    "¿Te gustaría explorar estrategias específicas para introducir Python y ciencia de datos a tus estudiantes en función de su contexto?"
   ]
  },
  {
   "cell_type": "markdown",
   "id": "d2f8fe22",
   "metadata": {},
   "source": [
    "# Apéndice de informaciones institucionales por semestre 2025  \n",
    "\n",
    "ARTÍCULO 1: Fijar el periodo de vacaciones intersemestrales para los docentes de la Institución\n",
    "entre el 24 de junio y el 08 de julio de 2025, ambas fechas inclusive."
   ]
  }
 ],
 "metadata": {
  "celltoolbar": "Slideshow",
  "kernelspec": {
   "display_name": ".venv",
   "language": "python",
   "name": "python3"
  },
  "language_info": {
   "codemirror_mode": {
    "name": "ipython",
    "version": 3
   },
   "file_extension": ".py",
   "mimetype": "text/x-python",
   "name": "python",
   "nbconvert_exporter": "python",
   "pygments_lexer": "ipython3",
   "version": "3.13.2"
  },
  "rise": {
   "enable_chalkboard": true,
   "theme": "sky",
   "transition": "zoom"
  }
 },
 "nbformat": 4,
 "nbformat_minor": 5
}
